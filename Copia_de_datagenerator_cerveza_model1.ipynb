{
 "cells": [
  {
   "cell_type": "code",
   "execution_count": 1,
   "metadata": {
    "colab": {
     "base_uri": "https://localhost:8080/",
     "height": 68
    },
    "colab_type": "code",
    "id": "A2lj0arGn5Lf",
    "outputId": "61579723-ffcd-41d7-bb0f-9ed77ff657fb"
   },
   "outputs": [
    {
     "name": "stderr",
     "output_type": "stream",
     "text": [
      "Using TensorFlow backend.\n"
     ]
    },
    {
     "name": "stdout",
     "output_type": "stream",
     "text": [
      "1.14.0\n",
      "2.2.4\n"
     ]
    }
   ],
   "source": [
    "import numpy as np\n",
    "import pandas as pd\n",
    "from keras.models import Sequential\n",
    "from keras.layers import Conv2D, MaxPooling2D\n",
    "from keras.layers import Dropout, Flatten, Dense\n",
    "from keras.optimizers import SGD\n",
    "from keras.preprocessing.image import ImageDataGenerator\n",
    "import tensorflow as tf\n",
    "import keras\n",
    "from keras import backend as K\n",
    "import numpy as np\n",
    "%matplotlib inline\n",
    "import matplotlib.pyplot as plt\n",
    "print(tf.__version__)\n",
    "print(keras.__version__)\n",
    "from keras.models import Sequential\n",
    "from keras.layers import Conv2D, Conv1D, MaxPooling2D, Flatten, Dense, Activation, Dropout\n",
    "from keras.layers.advanced_activations import LeakyReLU\n",
    "import os \n",
    "import cv2\n",
    "import pickle"
   ]
  },
  {
   "cell_type": "code",
   "execution_count": 0,
   "metadata": {
    "colab": {},
    "colab_type": "code",
    "id": "8ZjSltg1n5Lq"
   },
   "outputs": [],
   "source": [
    "pickle_in = open(\"/content/drive/My Drive/X.pickle_blackwhite_300_250\", \"rb\")\n",
    "X = pickle.load(pickle_in)\n",
    "\n",
    "pickle_y_in = open(\"//content/drive/My Drive/y.pickle_blackwhite_300_250\", \"rb\")\n",
    "y = pickle.load(pickle_y_in)"
   ]
  },
  {
   "cell_type": "code",
   "execution_count": 3,
   "metadata": {
    "colab": {
     "base_uri": "https://localhost:8080/",
     "height": 34
    },
    "colab_type": "code",
    "id": "Zb1P_iV2ITM4",
    "outputId": "5a428999-2d57-4f2a-e7e0-f2760ffbc5f9"
   },
   "outputs": [
    {
     "data": {
      "text/plain": [
       "1227"
      ]
     },
     "execution_count": 3,
     "metadata": {
      "tags": []
     },
     "output_type": "execute_result"
    }
   ],
   "source": [
    "len(X)"
   ]
  },
  {
   "cell_type": "code",
   "execution_count": 0,
   "metadata": {
    "colab": {},
    "colab_type": "code",
    "id": "1mZustMZa8Hj"
   },
   "outputs": [],
   "source": [
    "y = tf.keras.utils.to_categorical(y)"
   ]
  },
  {
   "cell_type": "code",
   "execution_count": 0,
   "metadata": {
    "colab": {},
    "colab_type": "code",
    "id": "aJ8hG4s-1DZS"
   },
   "outputs": [],
   "source": [
    "import sklearn.model_selection as model_selection\n",
    "X_train, X_test, y_train, y_test = model_selection.train_test_split(X, y, train_size=0.9,test_size=0.1, random_state=101)"
   ]
  },
  {
   "cell_type": "code",
   "execution_count": 41,
   "metadata": {
    "colab": {
     "base_uri": "https://localhost:8080/",
     "height": 34
    },
    "colab_type": "code",
    "id": "eS8KtCre0TRK",
    "outputId": "8a6b5b5d-4d03-4460-825c-16770fd28f49"
   },
   "outputs": [
    {
     "data": {
      "text/plain": [
       "(1104, 300, 250, 1)"
      ]
     },
     "execution_count": 41,
     "metadata": {
      "tags": []
     },
     "output_type": "execute_result"
    }
   ],
   "source": [
    "X_train.shape"
   ]
  },
  {
   "cell_type": "code",
   "execution_count": 42,
   "metadata": {
    "colab": {
     "base_uri": "https://localhost:8080/",
     "height": 34
    },
    "colab_type": "code",
    "id": "n3o552Np0bOj",
    "outputId": "73b82bf7-ea2e-498a-87de-3e978dd8c6d1"
   },
   "outputs": [
    {
     "data": {
      "text/plain": [
       "(1104, 9)"
      ]
     },
     "execution_count": 42,
     "metadata": {
      "tags": []
     },
     "output_type": "execute_result"
    }
   ],
   "source": [
    "y_train.shape"
   ]
  },
  {
   "cell_type": "code",
   "execution_count": 0,
   "metadata": {
    "colab": {},
    "colab_type": "code",
    "id": "Vifet6efn5L5"
   },
   "outputs": [],
   "source": [
    "datagen = ImageDataGenerator(\n",
    "        rescale=1./255,\n",
    "        #shear_range=0.2,\n",
    "        #zoom_range=0.2,\n",
    "        #horizontal_flip=True)\n",
    "        featurewise_center=False,               # se pone la media a 0 en todo el dataset\n",
    "        samplewise_center=False,                # se pone la media a 0 de la muestra\n",
    "        featurewise_std_normalization=False,    # se divide entre la std del dataset\n",
    "        samplewise_std_normalization=False,     # se divide cada entrada entre std\n",
    "        zca_whitening=False,                    # ZCA whitening, reduccion de dimensiones (similar a PCA)\n",
    "        rotation_range=15,                      # se rotan las imagenes aleatoriamente (de 0 a 180 grados)\n",
    "        zoom_range=0.1,                         # zoom aleatorio \n",
    "        width_shift_range=0.1,                  # cambio aleatorio horizontal (fraccion del ancho total)\n",
    "        height_shift_range=0.1,                 # cambio aleatorio vertical (fraccion de la altura total)\n",
    "        horizontal_flip=False,                  # giro aleatorio horizantal                           \n",
    "        vertical_flip=False)   "
   ]
  },
  {
   "cell_type": "code",
   "execution_count": 0,
   "metadata": {
    "colab": {},
    "colab_type": "code",
    "id": "8JR5MBmon5MB"
   },
   "outputs": [],
   "source": [
    "dim_input = (300, 250, 1)\n",
    "n_clases = 9"
   ]
  },
  {
   "cell_type": "code",
   "execution_count": 45,
   "metadata": {
    "colab": {
     "base_uri": "https://localhost:8080/",
     "height": 54
    },
    "colab_type": "code",
    "id": "BWhav0Uln5ME",
    "outputId": "facfb655-4323-4317-d16b-7fe735ebaeae"
   },
   "outputs": [
    {
     "data": {
      "text/plain": [
       "\"modelo=Sequential()\\nmodelo.add(Conv2D(32, kernel_size=(3, 3),activation='relu',kernel_initializer='he_normal',input_shape=dim_entrada))\\nmodelo.add(Conv2D(32, kernel_size=(3, 3),activation='relu',kernel_initializer='he_normal'))\\nmodelo.add(MaxPool2D((2, 2)))\\nmodelo.add(Dropout(0.20))\\nmodelo.add(Conv2D(64, (3, 3), activation='relu',padding='same',kernel_initializer='he_normal'))\\nmodelo.add(Conv2D(64, (3, 3), activation='relu',padding='same',kernel_initializer='he_normal'))\\nmodelo.add(MaxPool2D(pool_size=(2, 2)))\\nmodelo.add(Dropout(0.25))\\nmodelo.add(Conv2D(128, (3, 3), activation='relu',padding='same',kernel_initializer='he_normal'))\\nmodelo.add(Dropout(0.25))\\nmodelo.add(Flatten())\\nmodelo.add(Dense(128, activation='relu'))\\nmodelo.add(BatchNormalization())\\nmodelo.add(Dropout(0.25))\\nmodelo.add(Dense(n_clases, activation='softmax'))\\nmodelo.compile(loss=keras.losses.categorical_crossentropy, optimizer=keras.optimizers.RMSprop(), metrics=['accuracy']) \\nreduccion_tasa_apr=ReduceLROnPlateau(monitor='val_acc', patience=3, verbose=1, factor=0.5, min_lr=0.0001)\""
      ]
     },
     "execution_count": 45,
     "metadata": {
      "tags": []
     },
     "output_type": "execute_result"
    }
   ],
   "source": [
    "'''modelo=Sequential()\n",
    "modelo.add(Conv2D(32, kernel_size=(3, 3),activation='relu',kernel_initializer='he_normal',input_shape=dim_entrada))\n",
    "modelo.add(Conv2D(32, kernel_size=(3, 3),activation='relu',kernel_initializer='he_normal'))\n",
    "modelo.add(MaxPool2D((2, 2)))\n",
    "modelo.add(Dropout(0.20))\n",
    "modelo.add(Conv2D(64, (3, 3), activation='relu',padding='same',kernel_initializer='he_normal'))\n",
    "modelo.add(Conv2D(64, (3, 3), activation='relu',padding='same',kernel_initializer='he_normal'))\n",
    "modelo.add(MaxPool2D(pool_size=(2, 2)))\n",
    "modelo.add(Dropout(0.25))\n",
    "modelo.add(Conv2D(128, (3, 3), activation='relu',padding='same',kernel_initializer='he_normal'))\n",
    "modelo.add(Dropout(0.25))\n",
    "modelo.add(Flatten())\n",
    "modelo.add(Dense(128, activation='relu'))\n",
    "modelo.add(BatchNormalization())\n",
    "modelo.add(Dropout(0.25))\n",
    "modelo.add(Dense(n_clases, activation='softmax'))\n",
    "modelo.compile(loss=keras.losses.categorical_crossentropy, optimizer=keras.optimizers.RMSprop(), metrics=['accuracy']) \n",
    "reduccion_tasa_apr=ReduceLROnPlateau(monitor='val_acc', patience=3, verbose=1, factor=0.5, min_lr=0.0001)'''"
   ]
  },
  {
   "cell_type": "code",
   "execution_count": 46,
   "metadata": {
    "colab": {
     "base_uri": "https://localhost:8080/",
     "height": 54
    },
    "colab_type": "code",
    "id": "qJpVkw8mn5MI",
    "outputId": "7d5f6ee3-c907-4c06-ed64-cebd42721b1a"
   },
   "outputs": [
    {
     "data": {
      "text/plain": [
       "\"def make_model():\\n\\n    model = Sequential()\\n    \\n    model.add(Conv2D(filters=32, kernel_size=(3, 3), padding='same', input_shape = dim_input, activation='relu'))\\n    \\n    model.add(Conv2D(filters=32, kernel_size=(3, 3), padding='same', activation='relu'))\\n      \\n    model.add(MaxPooling2D(pool_size=(2,2)))   \\n    \\n    model.add(Dropout(0.20))\\n        \\n    model.add(Conv2D(filters=64, kernel_size=(3, 3), activation='relu',padding='same',kernel_initializer='he_normal'))\\n\\n    model.add(Conv2D(filters=64, kernel_size=(3, 3), activation='relu',padding='same',kernel_initializer='he_normal'))\\n    \\n    model.add(MaxPooling2D(pool_size=(2, 2)))\\n    \\n    model.add(Dropout(0.25))\\n\\n    model.add(Conv2D(filters=128, kernel_size=(3, 3), activation='relu',padding='same',kernel_initializer='he_normal'))\\n    \\n    model.add(MaxPooling2D(pool_size=(2, 2)))\\n\\n    model.add(Dropout(0.25))\\n    \\n    model.add(Flatten())\\n\\n    model.add(Dense(32, activation='relu'))\\n\\n    model.add(Dropout(0.25))\\n\\n    model.add(Dense(n_clases, activation='softmax'))\\n\\n    return model\\n\\n#datagen.\\n\\nACC = 0,08\\n\""
      ]
     },
     "execution_count": 46,
     "metadata": {
      "tags": []
     },
     "output_type": "execute_result"
    }
   ],
   "source": [
    "'''def make_model():\n",
    "\n",
    "    model = Sequential()\n",
    "    \n",
    "    model.add(Conv2D(filters=32, kernel_size=(3, 3), padding='same', input_shape = dim_input, activation='relu'))\n",
    "    \n",
    "    model.add(Conv2D(filters=32, kernel_size=(3, 3), padding='same', activation='relu'))\n",
    "      \n",
    "    model.add(MaxPooling2D(pool_size=(2,2)))   \n",
    "    \n",
    "    model.add(Dropout(0.20))\n",
    "        \n",
    "    model.add(Conv2D(filters=64, kernel_size=(3, 3), activation='relu',padding='same',kernel_initializer='he_normal'))\n",
    "\n",
    "    model.add(Conv2D(filters=64, kernel_size=(3, 3), activation='relu',padding='same',kernel_initializer='he_normal'))\n",
    "    \n",
    "    model.add(MaxPooling2D(pool_size=(2, 2)))\n",
    "    \n",
    "    model.add(Dropout(0.25))\n",
    "\n",
    "    model.add(Conv2D(filters=128, kernel_size=(3, 3), activation='relu',padding='same',kernel_initializer='he_normal'))\n",
    "    \n",
    "    model.add(MaxPooling2D(pool_size=(2, 2)))\n",
    "\n",
    "    model.add(Dropout(0.25))\n",
    "    \n",
    "    model.add(Flatten())\n",
    "\n",
    "    model.add(Dense(32, activation='relu'))\n",
    "\n",
    "    model.add(Dropout(0.25))\n",
    "\n",
    "    model.add(Dense(n_clases, activation='softmax'))\n",
    "\n",
    "    return model\n",
    "\n",
    "#datagen.\n",
    "\n",
    "ACC = 0,08\n",
    "'''\n"
   ]
  },
  {
   "cell_type": "code",
   "execution_count": 0,
   "metadata": {
    "colab": {},
    "colab_type": "code",
    "id": "ui5U6sYXAW35"
   },
   "outputs": [],
   "source": [
    "def make_model ():\n",
    "  \n",
    "    model = Sequential()\n",
    "    \n",
    "\n",
    "    model.add(Conv2D(32, (3, 3), activation='relu', kernel_initializer='he_uniform', padding='same', input_shape=dim_input))\n",
    "    \n",
    "    model.add(MaxPooling2D(2, 2))    \n",
    "        \n",
    "    model.add(Conv2D(64, (3, 3), activation='relu', kernel_initializer='he_uniform', padding='same'))\n",
    "\n",
    "    model.add(MaxPooling2D(2, 2))\n",
    "\n",
    "    model.add(Dropout(0.2))\n",
    "\n",
    "    model.add(Conv2D(128, (3, 3), activation='relu', kernel_initializer='he_uniform', padding='same'))\n",
    "    \n",
    "    model.add(Conv2D(128, (3, 3), activation='relu', kernel_initializer='he_uniform', padding='same'))\n",
    "\n",
    "    model.add(MaxPooling2D(2, 2))\n",
    "    \n",
    "    model.add(Dropout(0.25))\n",
    "       \n",
    "    model.add(Conv2D(64, (3, 3), activation='relu', kernel_initializer='he_uniform', padding='same'))\n",
    "\n",
    "    model.add(MaxPooling2D(2, 2))\n",
    "    \n",
    "    model.add(Dropout(0.2))    \n",
    "\n",
    "    model.add(Flatten())\n",
    "\n",
    "    model.add(Dense(96, activation='relu', kernel_initializer='he_uniform'))\n",
    "\n",
    "    model.add(Dropout(0.2))    \n",
    "\n",
    "    model.add(Dense(n_clases, activation='softmax'))\n",
    "              \n",
    "    return model"
   ]
  },
  {
   "cell_type": "code",
   "execution_count": 48,
   "metadata": {
    "colab": {
     "base_uri": "https://localhost:8080/",
     "height": 680
    },
    "colab_type": "code",
    "id": "jNhiit6Nn5MO",
    "outputId": "1ace147e-3fa6-478c-a2f8-671bb398662e"
   },
   "outputs": [
    {
     "name": "stdout",
     "output_type": "stream",
     "text": [
      "_________________________________________________________________\n",
      "Layer (type)                 Output Shape              Param #   \n",
      "=================================================================\n",
      "conv2d_11 (Conv2D)           (None, 300, 250, 32)      320       \n",
      "_________________________________________________________________\n",
      "max_pooling2d_9 (MaxPooling2 (None, 150, 125, 32)      0         \n",
      "_________________________________________________________________\n",
      "conv2d_12 (Conv2D)           (None, 150, 125, 64)      18496     \n",
      "_________________________________________________________________\n",
      "max_pooling2d_10 (MaxPooling (None, 75, 62, 64)        0         \n",
      "_________________________________________________________________\n",
      "dropout_8 (Dropout)          (None, 75, 62, 64)        0         \n",
      "_________________________________________________________________\n",
      "conv2d_13 (Conv2D)           (None, 75, 62, 128)       73856     \n",
      "_________________________________________________________________\n",
      "conv2d_14 (Conv2D)           (None, 75, 62, 128)       147584    \n",
      "_________________________________________________________________\n",
      "max_pooling2d_11 (MaxPooling (None, 37, 31, 128)       0         \n",
      "_________________________________________________________________\n",
      "dropout_9 (Dropout)          (None, 37, 31, 128)       0         \n",
      "_________________________________________________________________\n",
      "conv2d_15 (Conv2D)           (None, 37, 31, 64)        73792     \n",
      "_________________________________________________________________\n",
      "max_pooling2d_12 (MaxPooling (None, 18, 15, 64)        0         \n",
      "_________________________________________________________________\n",
      "dropout_10 (Dropout)         (None, 18, 15, 64)        0         \n",
      "_________________________________________________________________\n",
      "flatten_3 (Flatten)          (None, 17280)             0         \n",
      "_________________________________________________________________\n",
      "dense_5 (Dense)              (None, 96)                1658976   \n",
      "_________________________________________________________________\n",
      "dropout_11 (Dropout)         (None, 96)                0         \n",
      "_________________________________________________________________\n",
      "dense_6 (Dense)              (None, 9)                 873       \n",
      "=================================================================\n",
      "Total params: 1,973,897\n",
      "Trainable params: 1,973,897\n",
      "Non-trainable params: 0\n",
      "_________________________________________________________________\n"
     ]
    }
   ],
   "source": [
    "model = make_model()\n",
    "model.summary()"
   ]
  },
  {
   "cell_type": "code",
   "execution_count": 0,
   "metadata": {
    "colab": {},
    "colab_type": "code",
    "id": "1LmrHgR7n5MR"
   },
   "outputs": [],
   "source": [
    "INIT_LR = 5e-3  # initial learning rate\n",
    "BATCH_SIZE = 12\n",
    "#EPOCHS = 25"
   ]
  },
  {
   "cell_type": "code",
   "execution_count": 0,
   "metadata": {
    "colab": {},
    "colab_type": "code",
    "id": "UDx3_m8Tn5MU"
   },
   "outputs": [],
   "source": [
    "model.compile(\n",
    "    loss='categorical_crossentropy',  # we train 10-way classification\n",
    "    optimizer=keras.optimizers.Adadelta(),  # for SGD\n",
    "    metrics=['accuracy']  # report accuracy during training\n",
    ")\n"
   ]
  },
  {
   "cell_type": "code",
   "execution_count": 51,
   "metadata": {
    "colab": {
     "base_uri": "https://localhost:8080/",
     "height": 1000
    },
    "colab_type": "code",
    "id": "SRvha3kgn5Mx",
    "outputId": "d22ad0cc-546c-4f56-ff92-19f721a8ead9"
   },
   "outputs": [
    {
     "name": "stdout",
     "output_type": "stream",
     "text": [
      "Epoch 1/55\n",
      "29/29 [==============================] - 5s 166ms/step - loss: 3.1756 - acc: 0.1379\n",
      "Epoch 2/55\n",
      "29/29 [==============================] - 5s 179ms/step - loss: 2.1950 - acc: 0.1294\n",
      "Epoch 3/55\n",
      "29/29 [==============================] - 5s 167ms/step - loss: 2.1909 - acc: 0.1391\n",
      "Epoch 4/55\n",
      "29/29 [==============================] - 5s 166ms/step - loss: 2.1866 - acc: 0.1713\n",
      "Epoch 5/55\n",
      "29/29 [==============================] - 5s 166ms/step - loss: 2.1988 - acc: 0.1336\n",
      "Epoch 6/55\n",
      "29/29 [==============================] - 5s 169ms/step - loss: 2.2082 - acc: 0.1584\n",
      "Epoch 7/55\n",
      "29/29 [==============================] - 5s 166ms/step - loss: 2.0895 - acc: 0.2220\n",
      "Epoch 8/55\n",
      "29/29 [==============================] - 5s 170ms/step - loss: 1.9849 - acc: 0.2371\n",
      "Epoch 9/55\n",
      "29/29 [==============================] - 5s 168ms/step - loss: 1.9557 - acc: 0.2360\n",
      "Epoch 10/55\n",
      "29/29 [==============================] - 5s 168ms/step - loss: 1.9176 - acc: 0.2618\n",
      "Epoch 11/55\n",
      "29/29 [==============================] - 5s 168ms/step - loss: 1.8810 - acc: 0.2791\n",
      "Epoch 12/55\n",
      "29/29 [==============================] - 5s 169ms/step - loss: 1.8599 - acc: 0.3114\n",
      "Epoch 13/55\n",
      "29/29 [==============================] - 5s 165ms/step - loss: 1.8717 - acc: 0.2877\n",
      "Epoch 14/55\n",
      "29/29 [==============================] - 5s 168ms/step - loss: 1.7662 - acc: 0.3448\n",
      "Epoch 15/55\n",
      "29/29 [==============================] - 5s 167ms/step - loss: 1.7667 - acc: 0.3459\n",
      "Epoch 16/55\n",
      "29/29 [==============================] - 5s 169ms/step - loss: 1.7152 - acc: 0.3674\n",
      "Epoch 17/55\n",
      "29/29 [==============================] - 5s 168ms/step - loss: 1.7014 - acc: 0.3749\n",
      "Epoch 18/55\n",
      "29/29 [==============================] - 5s 169ms/step - loss: 1.6350 - acc: 0.4062\n",
      "Epoch 19/55\n",
      "29/29 [==============================] - 5s 166ms/step - loss: 1.6235 - acc: 0.4116\n",
      "Epoch 20/55\n",
      "29/29 [==============================] - 5s 166ms/step - loss: 1.5625 - acc: 0.4288\n",
      "Epoch 21/55\n",
      "29/29 [==============================] - 5s 167ms/step - loss: 1.4876 - acc: 0.4654\n",
      "Epoch 22/55\n",
      "29/29 [==============================] - 5s 166ms/step - loss: 1.3655 - acc: 0.5301\n",
      "Epoch 23/55\n",
      "29/29 [==============================] - 5s 167ms/step - loss: 1.3463 - acc: 0.5172\n",
      "Epoch 24/55\n",
      "29/29 [==============================] - 5s 169ms/step - loss: 1.2266 - acc: 0.5733\n",
      "Epoch 25/55\n",
      "29/29 [==============================] - 5s 170ms/step - loss: 1.1881 - acc: 0.5764\n",
      "Epoch 26/55\n",
      "29/29 [==============================] - 5s 167ms/step - loss: 1.0765 - acc: 0.6389\n",
      "Epoch 27/55\n",
      "29/29 [==============================] - 5s 165ms/step - loss: 1.0611 - acc: 0.6369\n",
      "Epoch 28/55\n",
      "29/29 [==============================] - 5s 166ms/step - loss: 0.9567 - acc: 0.6928\n",
      "Epoch 29/55\n",
      "29/29 [==============================] - 5s 172ms/step - loss: 0.8563 - acc: 0.7230\n",
      "Epoch 30/55\n",
      "29/29 [==============================] - 5s 172ms/step - loss: 0.7873 - acc: 0.7328\n",
      "Epoch 31/55\n",
      "29/29 [==============================] - 5s 168ms/step - loss: 0.7610 - acc: 0.7447\n",
      "Epoch 32/55\n",
      "29/29 [==============================] - 5s 167ms/step - loss: 0.7901 - acc: 0.7469\n",
      "Epoch 33/55\n",
      "29/29 [==============================] - 5s 166ms/step - loss: 0.6005 - acc: 0.7899\n",
      "Epoch 34/55\n",
      "29/29 [==============================] - 5s 167ms/step - loss: 0.5362 - acc: 0.8211\n",
      "Epoch 35/55\n",
      "29/29 [==============================] - 5s 166ms/step - loss: 0.5420 - acc: 0.8168\n",
      "Epoch 36/55\n",
      "29/29 [==============================] - 5s 170ms/step - loss: 0.5269 - acc: 0.8384\n",
      "Epoch 37/55\n",
      "29/29 [==============================] - 5s 166ms/step - loss: 0.4150 - acc: 0.8695\n",
      "Epoch 38/55\n",
      "29/29 [==============================] - 5s 166ms/step - loss: 0.4498 - acc: 0.8599\n",
      "Epoch 39/55\n",
      "29/29 [==============================] - 5s 166ms/step - loss: 0.4243 - acc: 0.8599\n",
      "Epoch 40/55\n",
      "29/29 [==============================] - 5s 165ms/step - loss: 0.3536 - acc: 0.8793\n",
      "Epoch 41/55\n",
      "29/29 [==============================] - 5s 171ms/step - loss: 0.3847 - acc: 0.8804\n",
      "Epoch 42/55\n",
      "29/29 [==============================] - 5s 174ms/step - loss: 0.3298 - acc: 0.8965\n",
      "Epoch 43/55\n",
      "29/29 [==============================] - 5s 173ms/step - loss: 0.3002 - acc: 0.9073\n",
      "Epoch 44/55\n",
      "29/29 [==============================] - 5s 174ms/step - loss: 0.3276 - acc: 0.8987\n",
      "Epoch 45/55\n",
      "29/29 [==============================] - 5s 168ms/step - loss: 0.2761 - acc: 0.9051\n",
      "Epoch 46/55\n",
      "29/29 [==============================] - 5s 166ms/step - loss: 0.2026 - acc: 0.9342\n",
      "Epoch 47/55\n",
      "29/29 [==============================] - 5s 169ms/step - loss: 0.2937 - acc: 0.8976\n",
      "Epoch 48/55\n",
      "29/29 [==============================] - 5s 166ms/step - loss: 0.2454 - acc: 0.9170\n",
      "Epoch 49/55\n",
      "29/29 [==============================] - 5s 167ms/step - loss: 0.2258 - acc: 0.9375\n",
      "Epoch 50/55\n",
      "29/29 [==============================] - 5s 165ms/step - loss: 0.2336 - acc: 0.9213\n",
      "Epoch 51/55\n",
      "29/29 [==============================] - 5s 167ms/step - loss: 0.2067 - acc: 0.9353\n",
      "Epoch 52/55\n",
      "29/29 [==============================] - 5s 167ms/step - loss: 0.2248 - acc: 0.9321\n",
      "Epoch 53/55\n",
      "29/29 [==============================] - 5s 169ms/step - loss: 0.1791 - acc: 0.9483\n",
      "Epoch 54/55\n",
      "29/29 [==============================] - 5s 167ms/step - loss: 0.1932 - acc: 0.9439\n",
      "Epoch 55/55\n",
      "29/29 [==============================] - 5s 168ms/step - loss: 0.1597 - acc: 0.9504\n"
     ]
    },
    {
     "data": {
      "text/plain": [
       "<keras.callbacks.History at 0x7f0f426adc18>"
      ]
     },
     "execution_count": 51,
     "metadata": {
      "tags": []
     },
     "output_type": "execute_result"
    }
   ],
   "source": [
    "modelaso = model.fit_generator(datagen.flow(X_train, y_train, batch_size=32),\n",
    "                    steps_per_epoch=29, epochs=55)\n",
    "\n",
    "modelaso"
   ]
  },
  {
   "cell_type": "code",
   "execution_count": 52,
   "metadata": {
    "colab": {
     "base_uri": "https://localhost:8080/",
     "height": 51
    },
    "colab_type": "code",
    "id": "xYLKq5Bnn5M0",
    "outputId": "3b704fc1-c6b4-4cd0-b2ec-e7cbbbfadf53"
   },
   "outputs": [
    {
     "name": "stdout",
     "output_type": "stream",
     "text": [
      "123/123 [==============================] - 1s 9ms/step\n",
      "1.834579967870945 0.8861788583964836\n"
     ]
    }
   ],
   "source": [
    "loss, acc=model.evaluate(X_test,y_test)\n",
    "print(loss,acc)"
   ]
  },
  {
   "cell_type": "code",
   "execution_count": 0,
   "metadata": {
    "colab": {},
    "colab_type": "code",
    "id": "ys2UjJe7Xyib"
   },
   "outputs": [],
   "source": [
    "y_pred = model.predict(X_test)"
   ]
  },
  {
   "cell_type": "code",
   "execution_count": 0,
   "metadata": {
    "colab": {},
    "colab_type": "code",
    "id": "NWI4CY10YEAm"
   },
   "outputs": [],
   "source": [
    "from sklearn.metrics import confusion_matrix\n"
   ]
  },
  {
   "cell_type": "code",
   "execution_count": 0,
   "metadata": {
    "colab": {},
    "colab_type": "code",
    "id": "k85EwxC3dIPV"
   },
   "outputs": [],
   "source": []
  },
  {
   "cell_type": "code",
   "execution_count": 0,
   "metadata": {
    "colab": {},
    "colab_type": "code",
    "id": "Ai2MNazsfx5T"
   },
   "outputs": [],
   "source": []
  },
  {
   "cell_type": "code",
   "execution_count": 0,
   "metadata": {
    "colab": {},
    "colab_type": "code",
    "id": "JpHZm8TufUIF"
   },
   "outputs": [],
   "source": [
    "labels = {\n",
    "    0:'Amstel',\n",
    "    1:'Cruzcampo',\n",
    "    2:'Estrella_damm',\n",
    "    3:'Estrella_galicia',\n",
    "    4:'Franziskaner',\n",
    "    5:'Heineken',\n",
    "    6:'Mahou',\n",
    "    7:'Pilsen_urquell',\n",
    "    8:'San_miguel'\n",
    "}"
   ]
  },
  {
   "cell_type": "code",
   "execution_count": 63,
   "metadata": {
    "colab": {
     "base_uri": "https://localhost:8080/",
     "height": 170
    },
    "colab_type": "code",
    "id": "FVyARLolYzhD",
    "outputId": "dea45abf-66be-4e0b-b722-491038fd33a0"
   },
   "outputs": [
    {
     "data": {
      "text/plain": [
       "array([[14,  0,  0,  0,  0,  1,  0,  0,  0],\n",
       "       [ 0, 13,  0,  0,  0,  0,  0,  1,  2],\n",
       "       [ 0,  0,  8,  0,  0,  0,  0,  0,  0],\n",
       "       [ 0,  0,  0, 12,  0,  1,  0,  0,  0],\n",
       "       [ 0,  0,  0,  0, 17,  1,  0,  1,  0],\n",
       "       [ 0,  0,  0,  0,  0, 10,  0,  0,  0],\n",
       "       [ 0,  0,  0,  0,  0,  1,  5,  0,  0],\n",
       "       [ 1,  1,  0,  0,  0,  1,  0, 14,  0],\n",
       "       [ 0,  2,  0,  0,  0,  0,  0,  1, 16]])"
      ]
     },
     "execution_count": 63,
     "metadata": {
      "tags": []
     },
     "output_type": "execute_result"
    }
   ],
   "source": [
    "matrix = confusion_matrix(y_test.argmax(axis=1), y_pred.argmax(axis=1))\n",
    "matrix"
   ]
  },
  {
   "cell_type": "code",
   "execution_count": 35,
   "metadata": {
    "colab": {
     "base_uri": "https://localhost:8080/",
     "height": 197
    },
    "colab_type": "code",
    "id": "kP1OLS_7YOKr",
    "outputId": "867286de-4b97-4ca2-f15b-394debf0fafa"
   },
   "outputs": [
    {
     "ename": "NameError",
     "evalue": "ignored",
     "output_type": "error",
     "traceback": [
      "\u001b[0;31m---------------------------------------------------------------------------\u001b[0m",
      "\u001b[0;31mNameError\u001b[0m                                 Traceback (most recent call last)",
      "\u001b[0;32m<ipython-input-35-3e83e44c6089>\u001b[0m in \u001b[0;36m<module>\u001b[0;34m()\u001b[0m\n\u001b[0;32m----> 1\u001b[0;31m plot_matrix(y_test, y_pred, classes=class_names, normalize=True,\n\u001b[0m\u001b[1;32m      2\u001b[0m                       title='Normalized confusion matrix')\n\u001b[1;32m      3\u001b[0m \u001b[0mplt\u001b[0m\u001b[0;34m.\u001b[0m\u001b[0mshow\u001b[0m\u001b[0;34m(\u001b[0m\u001b[0;34m)\u001b[0m\u001b[0;34m\u001b[0m\u001b[0;34m\u001b[0m\u001b[0m\n",
      "\u001b[0;31mNameError\u001b[0m: name 'plot_matrix' is not defined"
     ]
    }
   ],
   "source": [
    "plot_matrix(y_test, y_pred, classes=class_names, normalize=True,\n",
    "                      title='Normalized confusion matrix')\n",
    "plt.show()"
   ]
  },
  {
   "cell_type": "code",
   "execution_count": 0,
   "metadata": {
    "colab": {},
    "colab_type": "code",
    "id": "8WR2CVDHzRBH"
   },
   "outputs": [],
   "source": [
    "model.save('modelo_88.h5')"
   ]
  },
  {
   "cell_type": "code",
   "execution_count": 22,
   "metadata": {
    "colab": {
     "base_uri": "https://localhost:8080/",
     "height": 286
    },
    "colab_type": "code",
    "id": "PYjYDwVeoQ8n",
    "outputId": "e20bbcea-5add-447b-cf15-949fb7d02b37"
   },
   "outputs": [
    {
     "data": {
      "text/plain": [
       "[<matplotlib.lines.Line2D at 0x7f0f3005def0>]"
      ]
     },
     "execution_count": 22,
     "metadata": {
      "tags": []
     },
     "output_type": "execute_result"
    },
    {
     "data": {
      "image/png": "[encoded data removed]",
      "text/plain": [
       "<Figure size 432x288 with 1 Axes>"
      ]
     },
     "metadata": {
      "tags": []
     },
     "output_type": "display_data"
    }
   ],
   "source": [
    "modelaso.history.keys()\n",
    "plt.plot(modelaso.history['acc'])\n",
    "plt.plot(modelaso.history['loss'])"
   ]
  },
  {
   "cell_type": "code",
   "execution_count": 26,
   "metadata": {
    "colab": {
     "base_uri": "https://localhost:8080/",
     "height": 163
    },
    "colab_type": "code",
    "id": "AM6KhcPas4RB",
    "outputId": "de5d29b1-17d5-43fb-a805-e435d88be4c0"
   },
   "outputs": [
    {
     "ename": "NameError",
     "evalue": "ignored",
     "output_type": "error",
     "traceback": [
      "\u001b[0;31m---------------------------------------------------------------------------\u001b[0m",
      "\u001b[0;31mNameError\u001b[0m                                 Traceback (most recent call last)",
      "\u001b[0;32m<ipython-input-26-c92da3d4948b>\u001b[0m in \u001b[0;36m<module>\u001b[0;34m()\u001b[0m\n\u001b[0;32m----> 1\u001b[0;31m \u001b[0mmatrix\u001b[0m \u001b[0;34m=\u001b[0m \u001b[0mmetrics\u001b[0m\u001b[0;34m.\u001b[0m\u001b[0mconfusion_matrix\u001b[0m\u001b[0;34m(\u001b[0m\u001b[0my_test\u001b[0m\u001b[0;34m.\u001b[0m\u001b[0margmax\u001b[0m\u001b[0;34m(\u001b[0m\u001b[0maxis\u001b[0m\u001b[0;34m=\u001b[0m\u001b[0;36m1\u001b[0m\u001b[0;34m)\u001b[0m\u001b[0;34m,\u001b[0m \u001b[0my_pred\u001b[0m\u001b[0;34m.\u001b[0m\u001b[0margmax\u001b[0m\u001b[0;34m(\u001b[0m\u001b[0maxis\u001b[0m\u001b[0;34m=\u001b[0m\u001b[0;36m1\u001b[0m\u001b[0;34m)\u001b[0m\u001b[0;34m)\u001b[0m\u001b[0;34m\u001b[0m\u001b[0;34m\u001b[0m\u001b[0m\n\u001b[0m",
      "\u001b[0;31mNameError\u001b[0m: name 'metrics' is not defined"
     ]
    }
   ],
   "source": [
    "matrix = metrics.confusion_matrix(y_test.argmax(axis=1), y_pred.argmax(axis=1))\n"
   ]
  },
  {
   "cell_type": "code",
   "execution_count": 0,
   "metadata": {
    "colab": {
     "base_uri": "https://localhost:8080/",
     "height": 170
    },
    "colab_type": "code",
    "id": "6z3cOzu4TCBI",
    "outputId": "09f5c327-9b6e-4a20-bc13-df1e29e466e1"
   },
   "outputs": [
    {
     "data": {
      "text/plain": [
       "{'Amstel': 0,\n",
       " 'Cruzcampo': 1,\n",
       " 'Estrella_damm': 2,\n",
       " 'Estrella_galicia': 3,\n",
       " 'Franziskaner': 4,\n",
       " 'Heineken': 5,\n",
       " 'Mahou': 6,\n",
       " 'Pilsen_urquell': 7,\n",
       " 'Sanmiguel': 8}"
      ]
     },
     "execution_count": 202,
     "metadata": {
      "tags": []
     },
     "output_type": "execute_result"
    }
   ],
   "source": [
    "\n",
    "prob_clasi = model.predict_generator(test_set, steps = len(test_set), max_queue_size=10, workers=1, use_multiprocessing=False, verbose=0)\n",
    "\n",
    "classes_1 = [np.argmax(prob_clasi[i]) for i in range(len(prob_clasi))]\n",
    "np.argmax(prob_clasi[0])\n",
    "test_set.class_indices"
   ]
  },
  {
   "cell_type": "code",
   "execution_count": 0,
   "metadata": {
    "colab": {
     "base_uri": "https://localhost:8080/",
     "height": 68
    },
    "colab_type": "code",
    "id": "jOST4CmM0mM6",
    "outputId": "e834a319-740b-45d4-a7bc-499dd3a538c5"
   },
   "outputs": [
    {
     "data": {
      "text/plain": [
       "array([2.6535126e-06, 9.9942243e-01, 5.2000100e-06, 1.6569491e-08,\n",
       "       3.4774411e-10, 7.5393345e-08, 5.6436541e-04, 4.7134349e-06,\n",
       "       5.3717548e-07], dtype=float32)"
      ]
     },
     "execution_count": 258,
     "metadata": {
      "tags": []
     },
     "output_type": "execute_result"
    }
   ],
   "source": [
    "prob_clasi[0]"
   ]
  },
  {
   "cell_type": "code",
   "execution_count": 0,
   "metadata": {
    "colab": {
     "base_uri": "https://localhost:8080/",
     "height": 170
    },
    "colab_type": "code",
    "id": "LdPGQwirpgIp",
    "outputId": "44a50006-b01e-4fa3-c202-45f1d74b222c"
   },
   "outputs": [
    {
     "name": "stdout",
     "output_type": "stream",
     "text": [
      "0 Amstel\n",
      "1 Cruzcampo\n",
      "2 Estrella_damm\n",
      "3 Estrella_galicia\n",
      "4 Franziskaner\n",
      "5 Heineken\n",
      "6 Mahou\n",
      "7 Pilsen_urquell\n",
      "8 Sanmiguel\n"
     ]
    }
   ],
   "source": [
    "test_set.class_indices\n",
    "\n",
    "for c, value in enumerate(test_set.class_indices, 0):\n",
    "    print(c, value)\n",
    "\n",
    "# Output:\n",
    "# 1 apple\n",
    "# 2 banana\n",
    "# 3 grapes\n",
    "# 4 pear"
   ]
  },
  {
   "cell_type": "code",
   "execution_count": 0,
   "metadata": {
    "colab": {
     "base_uri": "https://localhost:8080/",
     "height": 68
    },
    "colab_type": "code",
    "id": "RioFiOph0YXd",
    "outputId": "8da08b00-51e5-4f2d-f5a1-38108090c8db"
   },
   "outputs": [
    {
     "data": {
      "text/plain": [
       "array([1.3871511e-05, 5.6282324e-03, 2.5376714e-06, 3.0902874e-07,\n",
       "       6.2879082e-04, 3.0368942e-06, 9.1015630e-05, 9.9169987e-01,\n",
       "       1.9321679e-03], dtype=float32)"
      ]
     },
     "execution_count": 284,
     "metadata": {
      "tags": []
     },
     "output_type": "execute_result"
    }
   ],
   "source": [
    "prob_clasi[1]"
   ]
  },
  {
   "cell_type": "code",
   "execution_count": 0,
   "metadata": {
    "colab": {
     "base_uri": "https://localhost:8080/",
     "height": 527
    },
    "colab_type": "code",
    "id": "1alU4xQGgK6i",
    "outputId": "bf5b1437-7930-424d-8b67-efaca2a98745"
   },
   "outputs": [
    {
     "ename": "TypeError",
     "evalue": "ignored",
     "output_type": "error",
     "traceback": [
      "\u001b[0;31m---------------------------------------------------------------------------\u001b[0m",
      "\u001b[0;31mTypeError\u001b[0m                                 Traceback (most recent call last)",
      "\u001b[0;32m<ipython-input-283-0bd68ce4ab71>\u001b[0m in \u001b[0;36m<module>\u001b[0;34m()\u001b[0m\n\u001b[1;32m      2\u001b[0m \u001b[0;32mfor\u001b[0m \u001b[0mi\u001b[0m \u001b[0;32min\u001b[0m \u001b[0mrange\u001b[0m\u001b[0;34m(\u001b[0m\u001b[0;36m0\u001b[0m\u001b[0;34m,\u001b[0m\u001b[0;36m32\u001b[0m\u001b[0;34m)\u001b[0m\u001b[0;34m:\u001b[0m\u001b[0;34m\u001b[0m\u001b[0;34m\u001b[0m\u001b[0m\n\u001b[1;32m      3\u001b[0m   \u001b[0mplt\u001b[0m\u001b[0;34m.\u001b[0m\u001b[0msubplot\u001b[0m\u001b[0;34m(\u001b[0m\u001b[0;36m32\u001b[0m\u001b[0;34m,\u001b[0m\u001b[0;36m32\u001b[0m\u001b[0;34m,\u001b[0m\u001b[0mi\u001b[0m\u001b[0;34m+\u001b[0m\u001b[0;36m1\u001b[0m\u001b[0;34m)\u001b[0m\u001b[0;34m\u001b[0m\u001b[0;34m\u001b[0m\u001b[0m\n\u001b[0;32m----> 4\u001b[0;31m   \u001b[0mprint\u001b[0m\u001b[0;34m(\u001b[0m\u001b[0mprob_clasi\u001b[0m\u001b[0;34m[\u001b[0m\u001b[0mi\u001b[0m\u001b[0;34m]\u001b[0m\u001b[0;34m.\u001b[0m\u001b[0mmax\u001b[0m\u001b[0;34m(\u001b[0m\u001b[0mtest_set\u001b[0m\u001b[0;34m.\u001b[0m\u001b[0mclass_indices\u001b[0m\u001b[0;34m)\u001b[0m\u001b[0;34m)\u001b[0m\u001b[0;34m\u001b[0m\u001b[0;34m\u001b[0m\u001b[0m\n\u001b[0m\u001b[1;32m      5\u001b[0m   \u001b[0mplt\u001b[0m\u001b[0;34m.\u001b[0m\u001b[0mimshow\u001b[0m\u001b[0;34m(\u001b[0m\u001b[0mtest_set\u001b[0m\u001b[0;34m[\u001b[0m\u001b[0;36m0\u001b[0m\u001b[0;34m]\u001b[0m\u001b[0;34m[\u001b[0m\u001b[0;36m0\u001b[0m\u001b[0;34m]\u001b[0m\u001b[0;34m[\u001b[0m\u001b[0mi\u001b[0m\u001b[0;34m]\u001b[0m\u001b[0;34m[\u001b[0m\u001b[0;34m:\u001b[0m\u001b[0;34m]\u001b[0m\u001b[0;34m.\u001b[0m\u001b[0mreshape\u001b[0m\u001b[0;34m(\u001b[0m\u001b[0;36m300\u001b[0m\u001b[0;34m,\u001b[0m\u001b[0;36m250\u001b[0m\u001b[0;34m)\u001b[0m\u001b[0;34m)\u001b[0m\u001b[0;34m\u001b[0m\u001b[0;34m\u001b[0m\u001b[0m\n\u001b[1;32m      6\u001b[0m   \u001b[0;31m#for name in test_set.class_indices:\u001b[0m\u001b[0;34m\u001b[0m\u001b[0;34m\u001b[0m\u001b[0;34m\u001b[0m\u001b[0m\n",
      "\u001b[0;32m/usr/local/lib/python3.6/dist-packages/numpy/core/_methods.py\u001b[0m in \u001b[0;36m_amax\u001b[0;34m(a, axis, out, keepdims, initial)\u001b[0m\n\u001b[1;32m     26\u001b[0m def _amax(a, axis=None, out=None, keepdims=False,\n\u001b[1;32m     27\u001b[0m           initial=_NoValue):\n\u001b[0;32m---> 28\u001b[0;31m     \u001b[0;32mreturn\u001b[0m \u001b[0mumr_maximum\u001b[0m\u001b[0;34m(\u001b[0m\u001b[0ma\u001b[0m\u001b[0;34m,\u001b[0m \u001b[0maxis\u001b[0m\u001b[0;34m,\u001b[0m \u001b[0;32mNone\u001b[0m\u001b[0;34m,\u001b[0m \u001b[0mout\u001b[0m\u001b[0;34m,\u001b[0m \u001b[0mkeepdims\u001b[0m\u001b[0;34m,\u001b[0m \u001b[0minitial\u001b[0m\u001b[0;34m)\u001b[0m\u001b[0;34m\u001b[0m\u001b[0;34m\u001b[0m\u001b[0m\n\u001b[0m\u001b[1;32m     29\u001b[0m \u001b[0;34m\u001b[0m\u001b[0m\n\u001b[1;32m     30\u001b[0m def _amin(a, axis=None, out=None, keepdims=False,\n",
      "\u001b[0;31mTypeError\u001b[0m: 'dict' object cannot be interpreted as an integer"
     ]
    },
    {
     "data": {
      "image/png": "[encoded data removed]",
      "text/plain": [
       "<Figure size 14400x7200 with 1 Axes>"
      ]
     },
     "metadata": {
      "tags": []
     },
     "output_type": "display_data"
    }
   ],
   "source": [
    "plt.figure(figsize=(200,100))\n",
    "for i in range(0,32): \n",
    "  plt.subplot(32,32,i+1)\n",
    "  print(prob_clasi[i].max())\n",
    "  plt.imshow(test_set[0][0][i][:].reshape(300,250))\n",
    "  #for name in test_set.class_indices:\n",
    "   # if test_set.class_indices[name]==np.argmax(prob_clasi[i]):\n",
    "    #  print(name)\n"
   ]
  },
  {
   "cell_type": "code",
   "execution_count": 0,
   "metadata": {
    "colab": {
     "base_uri": "https://localhost:8080/",
     "height": 34
    },
    "colab_type": "code",
    "id": "mgszMeH-oDtx",
    "outputId": "1e6c036a-4063-4f53-c786-d7e6a8f9c6ca"
   },
   "outputs": [
    {
     "data": {
      "text/plain": [
       "dict"
      ]
     },
     "execution_count": 213,
     "metadata": {
      "tags": []
     },
     "output_type": "execute_result"
    }
   ],
   "source": [
    "type(test_set.class_indices)"
   ]
  },
  {
   "cell_type": "code",
   "execution_count": 0,
   "metadata": {
    "colab": {},
    "colab_type": "code",
    "id": "TVq5fjNBgLZr"
   },
   "outputs": [],
   "source": [
    "img_ancho = 250\n",
    "img_alto = 300\n",
    "\n",
    "for category in categories_test:\n",
    "    path = os.path.join(DataDir_test, category)\n",
    "    for img in os.listdir(path):\n",
    "        img_array = cv2.imread(os.path.join(path,img), cv2.IMREAD_GRAYSCALE)\n",
    "        new_array =cv2.resize(img_array, (img_ancho, img_alto))\n",
    "        plt.imshow(new_array, cmap ='gray')\n",
    "        plt.show"
   ]
  },
  {
   "cell_type": "markdown",
   "metadata": {
    "colab_type": "text",
    "id": "ILEjp-gGn5M3"
   },
   "source": [
    "# from google.cloud import vision\n"
   ]
  },
  {
   "cell_type": "code",
   "execution_count": 0,
   "metadata": {
    "colab": {},
    "colab_type": "code",
    "id": "tDWPMvrqn5M5"
   },
   "outputs": [],
   "source": [
    "def detect_labels(path):\n",
    "    \"\"\"Detects labels in the file.\"\"\"\n",
    "    from google.cloud import vision\n",
    "    client = vision.ImageAnnotatorClient()\n",
    "\n",
    "    with io.open(path, 'rb') as image_file:\n",
    "        content = image_file.read()\n",
    "\n",
    "    image = vision.types.Image(content=content)\n",
    "\n",
    "    response = client.label_detection(image=image)\n",
    "    labels = response.label_annotations\n",
    "    print('Labels:')\n",
    "\n",
    "    for label in labels:\n",
    "        print(label.description)"
   ]
  },
  {
   "cell_type": "code",
   "execution_count": 0,
   "metadata": {
    "colab": {},
    "colab_type": "code",
    "id": "BCWJQeCQn5M_"
   },
   "outputs": [],
   "source": [
    "cap = cv2.VideoCapture(0)\n",
    "\n",
    "while True:\n",
    "    ret, frame = cap.read()\n",
    "    gray = cv2.cvtColor(frame, cv2.COLOR_BGR2GRAY)\n",
    "    cv2.imshow('my_webcam_gray', gray)\n",
    "    #cv2.imshow('my_webcam_original', frame)\n",
    "    \n",
    "    if cv2.waitKey(1) & 0xFF == ord('q'):\n",
    "        break\n",
    "\n",
    "cap.release()\n",
    "cv2.destroyAllWindows()"
   ]
  },
  {
   "cell_type": "code",
   "execution_count": 0,
   "metadata": {
    "colab": {},
    "colab_type": "code",
    "id": "ZotjogoNn5NC"
   },
   "outputs": [],
   "source": []
  },
  {
   "cell_type": "code",
   "execution_count": 0,
   "metadata": {
    "colab": {},
    "colab_type": "code",
    "id": "qs69P7ryn5NH"
   },
   "outputs": [],
   "source": []
  },
  {
   "cell_type": "markdown",
   "metadata": {
    "colab_type": "text",
    "id": "pEgMz2S1n5NO"
   },
   "source": [
    "# DETECTOR DE IMAGENES (google)"
   ]
  },
  {
   "cell_type": "code",
   "execution_count": 0,
   "metadata": {
    "colab": {},
    "colab_type": "code",
    "id": "EAUdZvBzn5NQ"
   },
   "outputs": [],
   "source": [
    "THRESHOLD = 0.8\n",
    "\n",
    "class_names = {0: 'background',\n",
    "              1: 'person', 2: 'bicycle', 3: 'car', 4: 'motorcycle', 5: 'airplane', 6: 'bus',\n",
    "              7: 'train', 8: 'truck', 9: 'boat', 10: 'traffic light', 11: 'fire hydrant',\n",
    "              13: 'stop sign', 14: 'parking meter', 15: 'bench', 16: 'bird', 17: 'cat',\n",
    "              18: 'dog', 19: 'horse', 20: 'sheep', 21: 'cow', 22: 'elephant', 23: 'bear',\n",
    "              24: 'zebra', 25: 'giraffe', 27: 'backpack', 28: 'umbrella', 31: 'handbag',\n",
    "              32: 'tie', 33: 'suitcase', 34: 'frisbee', 35: 'skis', 36: 'snowboard',\n",
    "              37: 'sports ball', 38: 'kite', 39: 'baseball bat', 40: 'baseball glove',\n",
    "              41: 'skateboard', 42: 'surfboard', 43: 'tennis racket', 44: 'bottle',\n",
    "              46: 'wine glass', 47: 'cup', 48: 'fork', 49: 'knife', 50: 'spoon',\n",
    "              51: 'bowl', 52: 'banana', 53: 'apple', 54: 'sandwich', 55: 'orange',\n",
    "              56: 'broccoli', 57: 'carrot', 58: 'hot dog', 59: 'pizza', 60: 'donut',\n",
    "              61: 'cake', 62: 'chair', 63: 'couch', 64: 'potted plant', 65: 'bed',\n",
    "              67: 'dining table', 70: 'toilet', 72: 'tv', 73: 'laptop', 74: 'mouse',\n",
    "              75: 'remote', 76: 'keyboard', 77: 'cell phone', 78: 'microwave', 79: 'oven',\n",
    "              80: 'toaster', 81: 'sink', 82: 'refrigerator', 84: 'book', 85: 'clock',\n",
    "              86: 'vase', 87: 'scissors', 88: 'teddy bear', 89: 'hair drier', 90: 'toothbrush'}\n",
    "\n",
    "model = cv2.dnn.readNetFromTensorflow('frozen_inference_graph.pb',\n",
    "                                      'ssd_mobilenet_v2_coco_2018_03_29.pbtxt')\n",
    "\n",
    "cap = cv2.VideoCapture(0)\n",
    "\n",
    "while True:\n",
    "    \n",
    "    ret, frame = cap.read()\n",
    "    \n",
    "    model.setInput(cv2.dnn.blobFromImage(frame, size=(300, 300), swapRB=True))\n",
    "    \n",
    "    output = model.forward()[0,0,:,:]\n",
    "    \n",
    "    for detection in output:\n",
    "        confidence = detection[2]\n",
    "        if confidence > THRESHOLD:\n",
    "            class_id = detection[1]\n",
    "            class_name = class_names[class_id]\n",
    "            # print(confidence, class_name)\n",
    "            \n",
    "            # rectangles!\n",
    "            \n",
    "            box_x=detection[3]\n",
    "            box_y=detection[4]\n",
    "            box_width=detection[5]\n",
    "            box_height=detection[6]\n",
    "            \n",
    "            height, width, ch = frame.shape\n",
    "            \n",
    "            box_x = detection[3] * width\n",
    "            box_y = detection[4] * height\n",
    "            box_width = detection[5] * width\n",
    "            box_height = detection[6] * height\n",
    "                                          \n",
    "            cv2.rectangle(frame, \n",
    "                          (int(box_x),\n",
    "                           int(box_y)),\n",
    "                          (int(box_width),\n",
    "                           int(box_height)),\n",
    "                          (0, 0, 255), \n",
    "                          thickness=2)\n",
    "            \n",
    "            cv2.putText(frame, \n",
    "                        class_name + ' ' + str(round(confidence, 2)),\n",
    "                        (int(box_x), \n",
    "                         int(box_y+.05*height)),\n",
    "                        cv2.FONT_HERSHEY_SIMPLEX,\n",
    "                        1,\n",
    "                        (0, 0, 255))\n",
    "    \n",
    "    cv2.imshow('object_detection', frame)\n",
    "    \n",
    "    if cv2.waitKey(1) & 0xFF == ord('q'):\n",
    "        break\n",
    "\n",
    "cap.release()\n",
    "cv2.destroyAllWindows()"
   ]
  },
  {
   "cell_type": "code",
   "execution_count": 0,
   "metadata": {
    "colab": {},
    "colab_type": "code",
    "id": "koTJ3Dstn5NT"
   },
   "outputs": [],
   "source": []
  }
 ],
 "metadata": {
  "accelerator": "GPU",
  "colab": {
   "collapsed_sections": [
    "ILEjp-gGn5M3",
    "pEgMz2S1n5NO"
   ],
   "name": "Copia de datagenerator_cerveza.ipynb",
   "provenance": [],
   "toc_visible": true,
   "version": "0.3.2"
  },
  "kernelspec": {
   "display_name": "Python 3",
   "language": "python",
   "name": "python3"
  },
  "language_info": {
   "codemirror_mode": {
    "name": "ipython",
    "version": 3
   },
   "file_extension": ".py",
   "mimetype": "text/x-python",
   "name": "python",
   "nbconvert_exporter": "python",
   "pygments_lexer": "ipython3",
   "version": "3.6.9"
  }
 },
 "nbformat": 4,
 "nbformat_minor": 1
}
