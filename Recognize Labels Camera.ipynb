{
 "cells": [
  {
   "cell_type": "code",
   "execution_count": 1,
   "metadata": {},
   "outputs": [
    {
     "name": "stderr",
     "output_type": "stream",
     "text": [
      "Using TensorFlow backend.\n"
     ]
    }
   ],
   "source": [
    "import cv2\n",
    "import os\n",
    "import numpy as np\n",
    "from keras.models import load_model"
   ]
  },
  {
   "cell_type": "code",
   "execution_count": null,
   "metadata": {},
   "outputs": [],
   "source": []
  },
  {
   "cell_type": "code",
   "execution_count": null,
   "metadata": {},
   "outputs": [],
   "source": [
    "labels = ['Budweiser','Mahou','Pilsen_urquell','San_miguel']"
   ]
  },
  {
   "cell_type": "code",
   "execution_count": null,
   "metadata": {},
   "outputs": [],
   "source": [
    "cap = cv2.VideoCapture(0)\n",
    "ret, frame = cap.read()\n",
    "model = load_model('/home/jjespper/Escritorio/modelo_four_cats.h5')\n",
    "\n",
    "\n",
    "alto = 300\n",
    "ancho = 300\n",
    "\n",
    "def process_img(img):\n",
    "\n",
    "    gray = cv2.cvtColor(img, cv2.COLOR_BGR2GRAY)\n",
    "    gray = cv2.resize(gray,(alto, ancho))\n",
    "    X = np.array(gray).reshape(-1, alto, ancho, 1)\n",
    "    X = X/255\n",
    "    return X\n",
    "\n",
    "def predict_gray_image(X):\n",
    "    \n",
    "    prediction = model.predict(X)\n",
    "    prediction = labels[np.argmax(prediction, axis=1)[0]]\n",
    "    return prediction\n",
    "\n",
    "\n",
    "\n",
    "while True:\n",
    "    \n",
    "    gray = cv2.cvtColor(frame, cv2.COLOR_BGR2GRAY)\n",
    "    cv2.imshow('my_webcam_gray', gray)\n",
    "    ret, frame = cap.read()\n",
    "    frame = cv2.flip(frame,1)\n",
    "\n",
    "    print(predict_gray_image(process_img(frame)))\n",
    "    \n",
    "    if cv2.waitKey(1) & 0xFF == ord('q'):\n",
    "        break\n",
    "cap.release()\n",
    "cv2.destroyAllWindows()"
   ]
  },
  {
   "cell_type": "code",
   "execution_count": null,
   "metadata": {},
   "outputs": [],
   "source": [
    "def capture_img():\n",
    "    IMAGES_FOLDER = os.path.join('/home/jjespper/masterIronhack/capturas_beers')\n",
    "    video = cv2.VideoCapture(0)\n",
    "    while True:\n",
    "   # Read a new frame\n",
    "        success, frame = video.read()\n",
    "        if not success:\n",
    "       # Frame not successfully read from video capture\n",
    "            break\n",
    "   # Display result\n",
    "        cv2.imshow(\"frame\", frame)\n",
    "        k = cv2.waitKey(1) & 0xff\n",
    "        if k == ord('q'):  # escape pressed\n",
    "            break\n",
    "        elif k == 115:  # s pressed\n",
    "            fname = input(\"File name\")\n",
    "            cv2.imwrite(os.path.join(IMAGES_FOLDER, '{}.jpg'.format(fname)), frame)\n",
    "    cv2.destroyAllWindows()\n",
    "    video.release()\n",
    "    return IMAGES_FOLDER\n",
    "capture_img()"
   ]
  },
  {
   "cell_type": "code",
   "execution_count": 2,
   "metadata": {},
   "outputs": [
    {
     "name": "stderr",
     "output_type": "stream",
     "text": [
      "WARNING: Logging before flag parsing goes to stderr.\n",
      "W0807 22:13:52.655475 140211584550720 deprecation_wrapper.py:119] From /home/jjespper/miniconda3/envs/py36/lib/python3.6/site-packages/keras/backend/tensorflow_backend.py:517: The name tf.placeholder is deprecated. Please use tf.compat.v1.placeholder instead.\n",
      "\n",
      "W0807 22:13:52.677679 140211584550720 deprecation_wrapper.py:119] From /home/jjespper/miniconda3/envs/py36/lib/python3.6/site-packages/keras/backend/tensorflow_backend.py:4138: The name tf.random_uniform is deprecated. Please use tf.random.uniform instead.\n",
      "\n",
      "W0807 22:13:52.783566 140211584550720 deprecation_wrapper.py:119] From /home/jjespper/miniconda3/envs/py36/lib/python3.6/site-packages/keras/backend/tensorflow_backend.py:3976: The name tf.nn.max_pool is deprecated. Please use tf.nn.max_pool2d instead.\n",
      "\n",
      "W0807 22:13:52.786438 140211584550720 deprecation_wrapper.py:119] From /home/jjespper/miniconda3/envs/py36/lib/python3.6/site-packages/keras/backend/tensorflow_backend.py:131: The name tf.get_default_graph is deprecated. Please use tf.compat.v1.get_default_graph instead.\n",
      "\n",
      "W0807 22:13:52.787372 140211584550720 deprecation_wrapper.py:119] From /home/jjespper/miniconda3/envs/py36/lib/python3.6/site-packages/keras/backend/tensorflow_backend.py:133: The name tf.placeholder_with_default is deprecated. Please use tf.compat.v1.placeholder_with_default instead.\n",
      "\n",
      "W0807 22:13:52.797938 140211584550720 deprecation.py:506] From /home/jjespper/miniconda3/envs/py36/lib/python3.6/site-packages/keras/backend/tensorflow_backend.py:3445: calling dropout (from tensorflow.python.ops.nn_ops) with keep_prob is deprecated and will be removed in a future version.\n",
      "Instructions for updating:\n",
      "Please use `rate` instead of `keep_prob`. Rate should be set to `rate = 1 - keep_prob`.\n",
      "W0807 22:13:52.952070 140211584550720 deprecation_wrapper.py:119] From /home/jjespper/miniconda3/envs/py36/lib/python3.6/site-packages/keras/backend/tensorflow_backend.py:174: The name tf.get_default_session is deprecated. Please use tf.compat.v1.get_default_session instead.\n",
      "\n",
      "W0807 22:13:53.204347 140211584550720 deprecation_wrapper.py:119] From /home/jjespper/miniconda3/envs/py36/lib/python3.6/site-packages/keras/optimizers.py:790: The name tf.train.Optimizer is deprecated. Please use tf.compat.v1.train.Optimizer instead.\n",
      "\n",
      "W0807 22:13:53.314554 140211584550720 deprecation.py:323] From /home/jjespper/miniconda3/envs/py36/lib/python3.6/site-packages/tensorflow/python/ops/math_grad.py:1250: add_dispatch_support.<locals>.wrapper (from tensorflow.python.ops.array_ops) is deprecated and will be removed in a future version.\n",
      "Instructions for updating:\n",
      "Use tf.where in 2.0, which has the same broadcast rule as np.where\n"
     ]
    }
   ],
   "source": [
    "from keras.models import load_model\n",
    "\n",
    "model = load_model('/home/jjespper/Escritorio/modelo_generator2.h5')"
   ]
  },
  {
   "cell_type": "code",
   "execution_count": null,
   "metadata": {},
   "outputs": [],
   "source": [
    "def prueba_clasificacion(link):\n",
    "    foto_prueba = cv2.imread(link)\n",
    "    new_array = cv2.resize(foto_prueba, (300, 300))\n",
    "    new_array = cv2.cvtColor(new_array, cv2.COLOR_BGR2GRAY)\n",
    "    new_array.shape\n",
    "    asd = np.expand_dims(new_array, axis=0)\n",
    "    asd.shape\n",
    "    asd = np.array(asd).reshape(-1, 300, 300, 1)\n",
    "    asd = asd/255.\n",
    "    classes = model.predict_classes(asd)\n",
    "    return classes"
   ]
  },
  {
   "cell_type": "code",
   "execution_count": null,
   "metadata": {},
   "outputs": [],
   "source": [
    "prueba_clasificacion('/home/jjespper/masterIronhack/capturas_beers/bud3_prueb.jpg')"
   ]
  },
  {
   "cell_type": "code",
   "execution_count": 5,
   "metadata": {},
   "outputs": [
    {
     "name": "stdout",
     "output_type": "stream",
     "text": [
      "Pilsen_urquell\n",
      "Pilsen_urquell\n",
      "Pilsen_urquell\n",
      "Pilsen_urquell\n",
      "Pilsen_urquell\n",
      "Pilsen_urquell\n",
      "Pilsen_urquell\n",
      "Pilsen_urquell\n",
      "Mahou\n",
      "Mahou\n",
      "Pilsen_urquell\n",
      "Mahou\n",
      "Mahou\n",
      "Mahou\n",
      "Pilsen_urquell\n",
      "San_miguel\n",
      "Pilsen_urquell\n",
      "San_miguel\n",
      "San_miguel\n",
      "San_miguel\n",
      "San_miguel\n",
      "San_miguel\n",
      "Mahou\n",
      "Pilsen_urquell\n",
      "Mahou\n",
      "Mahou\n",
      "Mahou\n",
      "Budweiser\n",
      "Budweiser\n",
      "Budweiser\n",
      "Budweiser\n",
      "Budweiser\n",
      "Pilsen_urquell\n",
      "Pilsen_urquell\n",
      "Pilsen_urquell\n",
      "Pilsen_urquell\n",
      "Pilsen_urquell\n",
      "Pilsen_urquell\n",
      "Pilsen_urquell\n",
      "Pilsen_urquell\n",
      "Pilsen_urquell\n",
      "Pilsen_urquell\n",
      "Pilsen_urquell\n",
      "Pilsen_urquell\n",
      "Pilsen_urquell\n",
      "Pilsen_urquell\n",
      "Pilsen_urquell\n",
      "Pilsen_urquell\n",
      "Pilsen_urquell\n",
      "San_miguel\n",
      "Pilsen_urquell\n",
      "Pilsen_urquell\n",
      "Pilsen_urquell\n"
     ]
    }
   ],
   "source": [
    "def capture_img():\n",
    "    #IMAGES_FOLDER = os.path.join('/home/jjespper/masterIronhack/capturas_beers')\n",
    "    video = cv2.VideoCapture(0)\n",
    "    while True:\n",
    "   # Read a new frame\n",
    "        success, frame = video.read()\n",
    "        if not success:\n",
    "       # Frame not successfully read from video capture\n",
    "            break\n",
    "   # Display result\n",
    "        cv2.imshow(\"frame\", frame)\n",
    "        k = cv2.waitKey(1) & 0xff\n",
    "        if k == ord('q'):  # escape pressed\n",
    "            break\n",
    "        elif k == 115:  # s pressed\n",
    "            print(prueba_clasificacion2(frame)) \n",
    "    cv2.destroyAllWindows()\n",
    "    video.release()\n",
    "    #return IMAGES_FOLDER\n",
    "capture_img()"
   ]
  },
  {
   "cell_type": "code",
   "execution_count": 3,
   "metadata": {},
   "outputs": [],
   "source": [
    "def prueba_clasificacion2(foto_prueba):\n",
    "    new_array = cv2.resize(foto_prueba, (300, 300))\n",
    "    new_array = cv2.cvtColor(new_array, cv2.COLOR_BGR2RGB)\n",
    "    asd = np.expand_dims(new_array, axis=1)\n",
    "    asd = np.array(asd).reshape(-1, 300, 300, 3)\n",
    "    asd = asd/255.\n",
    "    classes = model.predict(asd)\n",
    "    return marcas[np.argmax(classes)]"
   ]
  },
  {
   "cell_type": "code",
   "execution_count": null,
   "metadata": {},
   "outputs": [],
   "source": []
  },
  {
   "cell_type": "code",
   "execution_count": 4,
   "metadata": {},
   "outputs": [],
   "source": [
    "marcas = {0:'Budweiser',\n",
    "          1:'Mahou',\n",
    "          2:'Pilsen_urquell',\n",
    "          3:'San_miguel'}"
   ]
  }
 ],
 "metadata": {
  "kernelspec": {
   "display_name": "Python 3",
   "language": "python",
   "name": "python3"
  },
  "language_info": {
   "codemirror_mode": {
    "name": "ipython",
    "version": 3
   },
   "file_extension": ".py",
   "mimetype": "text/x-python",
   "name": "python",
   "nbconvert_exporter": "python",
   "pygments_lexer": "ipython3",
   "version": "3.6.9"
  }
 },
 "nbformat": 4,
 "nbformat_minor": 2
}
