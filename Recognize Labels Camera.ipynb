{
 "cells": [
  {
   "cell_type": "code",
   "execution_count": 2,
   "metadata": {},
   "outputs": [
    {
     "name": "stderr",
     "output_type": "stream",
     "text": [
      "Using TensorFlow backend.\n"
     ]
    }
   ],
   "source": [
    "import cv2\n",
    "import os\n",
    "import numpy as np\n",
    "from keras.models import load_model\n",
    "import webbrowser\n"
   ]
  },
  {
   "cell_type": "code",
   "execution_count": 3,
   "metadata": {},
   "outputs": [
    {
     "name": "stderr",
     "output_type": "stream",
     "text": [
      "WARNING: Logging before flag parsing goes to stderr.\n",
      "W0808 17:41:14.004055 140170273261376 deprecation_wrapper.py:119] From /home/jjespper/miniconda3/envs/py36/lib/python3.6/site-packages/keras/backend/tensorflow_backend.py:517: The name tf.placeholder is deprecated. Please use tf.compat.v1.placeholder instead.\n",
      "\n",
      "W0808 17:41:14.029747 140170273261376 deprecation_wrapper.py:119] From /home/jjespper/miniconda3/envs/py36/lib/python3.6/site-packages/keras/backend/tensorflow_backend.py:4138: The name tf.random_uniform is deprecated. Please use tf.random.uniform instead.\n",
      "\n",
      "W0808 17:41:14.066237 140170273261376 deprecation_wrapper.py:119] From /home/jjespper/miniconda3/envs/py36/lib/python3.6/site-packages/keras/backend/tensorflow_backend.py:3976: The name tf.nn.max_pool is deprecated. Please use tf.nn.max_pool2d instead.\n",
      "\n",
      "W0808 17:41:14.072963 140170273261376 deprecation_wrapper.py:119] From /home/jjespper/miniconda3/envs/py36/lib/python3.6/site-packages/keras/backend/tensorflow_backend.py:131: The name tf.get_default_graph is deprecated. Please use tf.compat.v1.get_default_graph instead.\n",
      "\n",
      "W0808 17:41:14.074004 140170273261376 deprecation_wrapper.py:119] From /home/jjespper/miniconda3/envs/py36/lib/python3.6/site-packages/keras/backend/tensorflow_backend.py:133: The name tf.placeholder_with_default is deprecated. Please use tf.compat.v1.placeholder_with_default instead.\n",
      "\n",
      "W0808 17:41:14.092148 140170273261376 deprecation.py:506] From /home/jjespper/miniconda3/envs/py36/lib/python3.6/site-packages/keras/backend/tensorflow_backend.py:3445: calling dropout (from tensorflow.python.ops.nn_ops) with keep_prob is deprecated and will be removed in a future version.\n",
      "Instructions for updating:\n",
      "Please use `rate` instead of `keep_prob`. Rate should be set to `rate = 1 - keep_prob`.\n",
      "W0808 17:41:14.263668 140170273261376 deprecation_wrapper.py:119] From /home/jjespper/miniconda3/envs/py36/lib/python3.6/site-packages/keras/backend/tensorflow_backend.py:174: The name tf.get_default_session is deprecated. Please use tf.compat.v1.get_default_session instead.\n",
      "\n",
      "W0808 17:41:14.533755 140170273261376 deprecation_wrapper.py:119] From /home/jjespper/miniconda3/envs/py36/lib/python3.6/site-packages/keras/optimizers.py:790: The name tf.train.Optimizer is deprecated. Please use tf.compat.v1.train.Optimizer instead.\n",
      "\n",
      "W0808 17:41:14.646402 140170273261376 deprecation.py:323] From /home/jjespper/miniconda3/envs/py36/lib/python3.6/site-packages/tensorflow/python/ops/math_grad.py:1250: add_dispatch_support.<locals>.wrapper (from tensorflow.python.ops.array_ops) is deprecated and will be removed in a future version.\n",
      "Instructions for updating:\n",
      "Use tf.where in 2.0, which has the same broadcast rule as np.where\n"
     ]
    }
   ],
   "source": [
    "model = load_model('/home/jjespper/Escritorio/modelo_generator_final_7cats_nothing.h5')"
   ]
  },
  {
   "cell_type": "code",
   "execution_count": 4,
   "metadata": {},
   "outputs": [],
   "source": [
    "marcas = {0:'Budweiser',\n",
    "          1:'Coronita',\n",
    "          2:'Heineken',\n",
    "          3:'Mahou',\n",
    "          4:'Nothing',\n",
    "          5:'Pilsner_urquell',\n",
    "          6:'San_miguel'}"
   ]
  },
  {
   "cell_type": "code",
   "execution_count": 4,
   "metadata": {},
   "outputs": [],
   "source": [
    "def prueba_clasificacion(foto_prueba):\n",
    "\n",
    "    return classes"
   ]
  },
  {
   "cell_type": "code",
   "execution_count": 11,
   "metadata": {},
   "outputs": [],
   "source": [
    "def capture_img():\n",
    "    #IMAGES_FOLDER = os.path.join('/home/jjespper/masterIronhack/capturas_beers')\n",
    "    video = cv2.VideoCapture(0)\n",
    "    roi_start = 50\n",
    "    roi_size = 200\n",
    "    cnt = 0\n",
    "    #threshold = 0.8\n",
    "\n",
    "    budweiser_web = \"https://en.wikipedia.org/wiki/Budweiser\"\n",
    "    mahou_web = \"https://es.wikipedia.org/wiki/Mahou\"\n",
    "    pilsner_urquell_web = \"https://es.wikipedia.org/wiki/Pilsner_Urquell\"\n",
    "    san_miguel_web = \"https://es.wikipedia.org/wiki/Cerveza_San_Miguel\"\n",
    "    coronita_web = 'https://es.wikipedia.org/wiki/Corona_Extra'\n",
    "    heineken_web = 'https://es.wikipedia.org/wiki/Heineken'\n",
    "    \n",
    "    while True:\n",
    "   # Read a new frame\n",
    "\n",
    "        ret, frame = video.read()\n",
    "    \n",
    "        w = frame.shape[1]\n",
    "        h = frame.shape[0]\n",
    "        hcenter = w // 2\n",
    "        vcenter = h // 2\n",
    "  \n",
    "        roi = frame[roi_start:roi_start+roi_size, \n",
    "                roi_start:roi_start+roi_size]\n",
    "    \n",
    "        new_array = cv2.resize(roi, (300, 300))\n",
    "        new_array_recolor = cv2.cvtColor(new_array, cv2.COLOR_BGR2RGB)\n",
    "        asd = np.expand_dims(new_array_recolor, axis=1)\n",
    "        asd = np.array(asd).reshape(-1, 300, 300, 3)\n",
    "        asd = asd/255.\n",
    "        classes = model.predict(asd)\n",
    "        \n",
    "        color = cv2.cvtColor(roi, cv2.COLOR_BGR2RGB)\n",
    "        color_cropped = color[:, (hcenter - h // 2):(hcenter + h // 2)]\n",
    "    \n",
    "        cv2.rectangle(frame, (roi_start, roi_start), (roi_start+roi_size, roi_start+roi_size), (0, 255, 0) ,0)\n",
    "        \n",
    "        \n",
    "        total_probs = classes\n",
    "        \n",
    "        confidence = np.amax(total_probs)\n",
    "        \n",
    "        predict_marca = marcas[np.argmax(total_probs)]\n",
    "\n",
    "        \n",
    "        #k = cv2.waitKey(1) & 0xff\n",
    "        #if k == ord('s'):  # S to web\n",
    "            \n",
    "        if predict_marca == 'Budweiser' and confidence > 0.9:\n",
    "            cnt += 1\n",
    "            if cnt == 180:\n",
    "                webbrowser.open_new(budweiser_web)\n",
    "                cnt = 0\n",
    "               \n",
    "        elif predict_marca == 'Mahou' and confidence > 0.9:\n",
    "            cnt += 1\n",
    "            if cnt == 180:\n",
    "                webbrowser.open_new(mahou_web)\n",
    "                cnt = 0\n",
    "\n",
    "        elif predict_marca == 'Pilsner_urquell' and confidence > 0.9:\n",
    "            cnt += 1\n",
    "            if cnt == 180:\n",
    "                webbrowser.open_new(pilsner_urquell_web)\n",
    "                cnt = 0\n",
    "                \n",
    "        elif predict_marca == 'San_miguel' and confidence > 0.9:\n",
    "            cnt += 1\n",
    "            if cnt == 180:\n",
    "                webbrowser.open_new(san_miguel_web)\n",
    "                cnt = 0\n",
    "        \n",
    "        elif predict_marca == 'Coronita' and confidence > 0.9:\n",
    "            cnt += 1\n",
    "            if cnt == 180:\n",
    "                webbrowser.open_new(coronita_web)\n",
    "                cnt = 0\n",
    "        \n",
    "        elif predict_marca == 'Heineken' and confidence > 0.9:\n",
    "            cnt +=1\n",
    "            if cnt == 180:\n",
    "                webbrowser.open_new(heineken_web)\n",
    "                cnt = 0\n",
    "        \n",
    "        \n",
    "        cv2.putText(frame, \n",
    "                    predict_marca + ' ' + str(confidence) if confidence > 0.5 else 'Cerveza no identificada!',\n",
    "                (int(roi_start), \n",
    "                 int(roi_start + .09 * roi_size)),\n",
    "                cv2.FONT_HERSHEY_SIMPLEX,\n",
    "                0.5,\n",
    "                (0, 0, 255))\n",
    "        \n",
    "        cv2.imshow('my_webcam_frame', frame)\n",
    "        cv2.imshow('roi', new_array)\n",
    "\n",
    "        k = cv2.waitKey(1) & 0xff\n",
    "        if k == ord('q'):  # escape pressed\n",
    "            break\n",
    "\n",
    "    cv2.destroyAllWindows()\n",
    "    video.release()\n",
    "        #return IMAGES_FOLDER\n",
    "    \n",
    "capture_img()"
   ]
  },
  {
   "cell_type": "code",
   "execution_count": 10,
   "metadata": {},
   "outputs": [],
   "source": [
    "def prueba_clasificacion(foto_prueba):\n",
    "    new_array = cv2.resize(foto_prueba, (300, 300))\n",
    "    new_array = cv2.cvtColor(new_array, cv2.COLOR_BGR2RGB)\n",
    "    asd = np.expand_dims(new_array, axis=1)\n",
    "    asd = np.array(asd).reshape(-1, 300, 300, 3)\n",
    "    asd = asd/255.\n",
    "    classes = model.predict(asd)\n",
    "    confidence = marcas[np.argmax(classes)]\n",
    "    return confidence"
   ]
  },
  {
   "cell_type": "code",
   "execution_count": null,
   "metadata": {},
   "outputs": [],
   "source": []
  }
 ],
 "metadata": {
  "kernelspec": {
   "display_name": "Python 3",
   "language": "python",
   "name": "python3"
  },
  "language_info": {
   "codemirror_mode": {
    "name": "ipython",
    "version": 3
   },
   "file_extension": ".py",
   "mimetype": "text/x-python",
   "name": "python",
   "nbconvert_exporter": "python",
   "pygments_lexer": "ipython3",
   "version": "3.6.9"
  }
 },
 "nbformat": 4,
 "nbformat_minor": 2
}
