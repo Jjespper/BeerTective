{
 "cells": [
  {
   "cell_type": "code",
   "execution_count": null,
   "metadata": {},
   "outputs": [],
   "source": [
    "# modelo convolucional 2D\n",
    "modelo=Sequential()\n",
    "modelo.add(Conv2D(32, kernel_size=(3, 3),activation='relu',kernel_initializer='he_normal',input_shape=dim_entrada))\n",
    "modelo.add(Conv2D(32, kernel_size=(3, 3),activation='relu',kernel_initializer='he_normal'))\n",
    "modelo.add(MaxPool2D((2, 2)))\n",
    "modelo.add(Dropout(0.20))\n",
    "modelo.add(Conv2D(64, (3, 3), activation='relu',padding='same',kernel_initializer='he_normal'))\n",
    "modelo.add(Conv2D(64, (3, 3), activation='relu',padding='same',kernel_initializer='he_normal'))\n",
    "modelo.add(MaxPool2D(pool_size=(2, 2)))\n",
    "modelo.add(Dropout(0.25))\n",
    "modelo.add(Conv2D(128, (3, 3), activation='relu',padding='same',kernel_initializer='he_normal'))\n",
    "modelo.add(Dropout(0.25))\n",
    "modelo.add(Flatten())\n",
    "modelo.add(Dense(128, activation='relu'))\n",
    "modelo.add(BatchNormalization())\n",
    "modelo.add(Dropout(0.25))\n",
    "modelo.add(Dense(n_clases, activation='softmax'))\n",
    "modelo.compile(loss=keras.losses.categorical_crossentropy, optimizer=keras.optimizers.RMSprop(), metrics=['accuracy']) \n",
    "reduccion_tasa_apr=ReduceLROnPlateau(monitor='val_acc', patience=3, verbose=1, factor=0.5, min_lr=0.0001)"
   ]
  },
  {
   "cell_type": "code",
   "execution_count": null,
   "metadata": {},
   "outputs": [],
   "source": [
    "img_gen=ImageDataGenerator(\n",
    "        featurewise_center=False,               # se pone la media a 0 en todo el dataset\n",
    "        samplewise_center=False,                # se pone la media a 0 de la muestra\n",
    "        featurewise_std_normalization=False,    # se divide entre la std del dataset\n",
    "        samplewise_std_normalization=False,     # se divide cada entrada entre std\n",
    "        zca_whitening=False,                    # ZCA whitening, reduccion de dimensiones (similar a PCA)\n",
    "        rotation_range=15,                      # se rotan las imagenes aleatoriamente (de 0 a 180 grados)\n",
    "        zoom_range=0.1,                         # zoom aleatorio \n",
    "        width_shift_range=0.1,                  # cambio aleatorio horizontal (fraccion del ancho total)\n",
    "        height_shift_range=0.1,                 # cambio aleatorio vertical (fraccion de la altura total)\n",
    "        horizontal_flip=False,                  # giro aleatorio horizantal\n",
    "        vertical_flip=False)                    # giro aleatorio vertical"
   ]
  }
 ],
 "metadata": {
  "kernelspec": {
   "display_name": "Python 3",
   "language": "python",
   "name": "python3"
  },
  "language_info": {
   "codemirror_mode": {
    "name": "ipython",
    "version": 3
   },
   "file_extension": ".py",
   "mimetype": "text/x-python",
   "name": "python",
   "nbconvert_exporter": "python",
   "pygments_lexer": "ipython3",
   "version": "3.6.9"
  }
 },
 "nbformat": 4,
 "nbformat_minor": 2
}
