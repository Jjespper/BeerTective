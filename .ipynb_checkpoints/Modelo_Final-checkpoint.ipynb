{
 "cells": [
  {
   "cell_type": "code",
   "execution_count": 0,
   "metadata": {
    "colab": {},
    "colab_type": "code",
    "id": "ZSqp5P02rW7V"
   },
   "outputs": [],
   "source": [
    "import numpy as np\n",
    "import pandas as pd\n",
    "import matplotlib.pyplot as plt\n",
    "import tensorflow as tf\n",
    "import keras\n",
    "from keras import backend as K\n",
    "%matplotlib inline\n",
    "from keras.optimizers import SGD\n",
    "from keras.preprocessing.image import ImageDataGenerator\n",
    "from keras.models import Sequential\n",
    "from keras.layers import Conv2D, Conv1D, MaxPooling2D, Flatten, Dense, Activation, Dropout\n",
    "import os \n",
    "import cv2\n",
    "import pickle\n",
    "import sys\n",
    "from pathlib import Path\n",
    "import sklearn.model_selection as model_selection\n",
    "\n"
   ]
  },
  {
   "cell_type": "code",
   "execution_count": 0,
   "metadata": {
    "colab": {},
    "colab_type": "code",
    "id": "QKLjFoFHrZst"
   },
   "outputs": [],
   "source": [
    "DATA_BASE_PATH = Path('/content/drive/My Drive/Last_prueba')\n",
    "\n",
    "image_paths = []\n",
    "target_list = []\n",
    "\n",
    "for image in list((DATA_BASE_PATH).glob('**/*.jpg')):\n",
    "\t\n",
    "    image_class = image.parent.name\n",
    "    image_path = str(image)\n",
    "    \n",
    "    if image_class.startswith('.'):\n",
    "        print(image_class)\n",
    "        continue\n",
    "    \n",
    "    target_list.append(image_class)\n",
    "    image_paths.append(image_path)"
   ]
  },
  {
   "cell_type": "code",
   "execution_count": 0,
   "metadata": {
    "colab": {
     "base_uri": "https://localhost:8080/",
     "height": 51
    },
    "colab_type": "code",
    "id": "-khiKoBiraDx",
    "outputId": "46ebc68b-8c08-48e9-ef7a-888e3fe85616"
   },
   "outputs": [
    {
     "name": "stdout",
     "output_type": "stream",
     "text": [
      "Found 3448 validated image filenames belonging to 7 classes.\n",
      "Found 863 validated image filenames belonging to 7 classes.\n"
     ]
    }
   ],
   "source": [
    "\n",
    "paths_df = pd.DataFrame({'path': image_paths, 'class': target_list})\n",
    "\n",
    "train_df, test_df = model_selection.train_test_split(paths_df, test_size=0.20)\n",
    "\n",
    "IMG_SIZE = 300\n",
    "\n",
    "datagen = ImageDataGenerator(rescale=1./255, \n",
    "                             rotation_range=20, \n",
    "                             zoom_range=0.15,\n",
    "                             width_shift_range=0.2,\n",
    "                             height_shift_range=0.2,\n",
    "                             shear_range=0.15,\n",
    "                             horizontal_flip=True,\n",
    "                             fill_mode=\"nearest\")\n",
    "\n",
    "train_generator = datagen.flow_from_dataframe(dataframe=train_df,\n",
    "                                              x_col='path', \n",
    "                                              y_col='class', \n",
    "                                              class_mode='categorical', \n",
    "                                              target_size=(IMG_SIZE, IMG_SIZE), \n",
    "                                              batch_size=64)\n",
    "\n",
    "test_generator = datagen.flow_from_dataframe(dataframe=test_df,\n",
    "                                              x_col='path', \n",
    "                                              y_col='class', \n",
    "                                              class_mode='categorical', \n",
    "                                              target_size=(IMG_SIZE, IMG_SIZE), \n",
    "                                              batch_size=64)"
   ]
  },
  {
   "cell_type": "code",
   "execution_count": 0,
   "metadata": {
    "colab": {},
    "colab_type": "code",
    "id": "ll-VmcJXrbcQ"
   },
   "outputs": [],
   "source": [
    "model = Sequential()\n",
    "\n",
    "model.add(Conv2D(filters=32, kernel_size=(3, 3), input_shape=(300, 300, 3), activation='relu'))\n",
    "\n",
    "model.add(MaxPooling2D(pool_size=(2, 2)))\n",
    "\n",
    "model.add(Dropout(0.2))\n",
    "\n",
    "model.add(Conv2D(64, (3, 3), activation='relu'))\n",
    "\n",
    "model.add(MaxPooling2D(pool_size=(2, 2)))\n",
    "\n",
    "model.add(Dropout(0.2))\n",
    "\n",
    "model.add(Flatten())\n",
    "\n",
    "model.add(Dense(32, activation='relu'))\n",
    "\n",
    "model.add(Dropout(0.2))\n",
    "\n",
    "model.add(Dense(units=7, activation='softmax'))"
   ]
  },
  {
   "cell_type": "code",
   "execution_count": 0,
   "metadata": {
    "colab": {
     "base_uri": "https://localhost:8080/",
     "height": 476
    },
    "colab_type": "code",
    "id": "SWnbN0Ttrbtl",
    "outputId": "ab5160b5-5a97-4785-d3fc-9c613a8d9a5e"
   },
   "outputs": [
    {
     "name": "stdout",
     "output_type": "stream",
     "text": [
      "_________________________________________________________________\n",
      "Layer (type)                 Output Shape              Param #   \n",
      "=================================================================\n",
      "conv2d_5 (Conv2D)            (None, 298, 298, 32)      896       \n",
      "_________________________________________________________________\n",
      "max_pooling2d_5 (MaxPooling2 (None, 149, 149, 32)      0         \n",
      "_________________________________________________________________\n",
      "dropout_7 (Dropout)          (None, 149, 149, 32)      0         \n",
      "_________________________________________________________________\n",
      "conv2d_6 (Conv2D)            (None, 147, 147, 64)      18496     \n",
      "_________________________________________________________________\n",
      "max_pooling2d_6 (MaxPooling2 (None, 73, 73, 64)        0         \n",
      "_________________________________________________________________\n",
      "dropout_8 (Dropout)          (None, 73, 73, 64)        0         \n",
      "_________________________________________________________________\n",
      "flatten_3 (Flatten)          (None, 341056)            0         \n",
      "_________________________________________________________________\n",
      "dense_5 (Dense)              (None, 32)                10913824  \n",
      "_________________________________________________________________\n",
      "dropout_9 (Dropout)          (None, 32)                0         \n",
      "_________________________________________________________________\n",
      "dense_6 (Dense)              (None, 7)                 231       \n",
      "=================================================================\n",
      "Total params: 10,933,447\n",
      "Trainable params: 10,933,447\n",
      "Non-trainable params: 0\n",
      "_________________________________________________________________\n"
     ]
    }
   ],
   "source": [
    "model.summary()"
   ]
  },
  {
   "cell_type": "code",
   "execution_count": 0,
   "metadata": {
    "colab": {},
    "colab_type": "code",
    "id": "8U2JUL3Qrb9P"
   },
   "outputs": [],
   "source": [
    "model.compile(\n",
    "   loss='categorical_crossentropy',\n",
    "   optimizer=keras.optimizers.Adadelta(),\n",
    "   metrics=['accuracy'])"
   ]
  },
  {
   "cell_type": "code",
   "execution_count": 0,
   "metadata": {
    "colab": {},
    "colab_type": "code",
    "id": "pWOtm17JrcNE"
   },
   "outputs": [],
   "source": [
    "'''from keras.callbacks import ModelCheckpoint\n",
    "filepath = ('/content/drive/My Drive/capturas_beers')\n",
    "checkpointer = ModelCheckpoint(filepath=filepath'''"
   ]
  },
  {
   "cell_type": "code",
   "execution_count": 0,
   "metadata": {
    "colab": {
     "base_uri": "https://localhost:8080/",
     "height": 646
    },
    "colab_type": "code",
    "id": "3c0PxcJErccr",
    "outputId": "fe59c19e-fdb8-4f0a-ed3e-375fdbb4437f"
   },
   "outputs": [
    {
     "name": "stdout",
     "output_type": "stream",
     "text": [
      "Epoch 1/18\n",
      "54/54 [==============================] - 223s 4s/step - loss: 2.2912 - acc: 0.2895 - val_loss: 1.3304 - val_acc: 0.6512\n",
      "Epoch 2/18\n",
      "54/54 [==============================] - 100s 2s/step - loss: 1.0790 - acc: 0.6064 - val_loss: 0.8980 - val_acc: 0.7462\n",
      "Epoch 3/18\n",
      "54/54 [==============================] - 107s 2s/step - loss: 0.7071 - acc: 0.7581 - val_loss: 0.4995 - val_acc: 0.9200\n",
      "Epoch 4/18\n",
      "54/54 [==============================] - 107s 2s/step - loss: 0.3410 - acc: 0.8899 - val_loss: 0.1795 - val_acc: 0.9676\n",
      "Epoch 5/18\n",
      "54/54 [==============================] - 107s 2s/step - loss: 0.2789 - acc: 0.9087 - val_loss: 0.1931 - val_acc: 0.9768\n",
      "Epoch 6/18\n",
      "54/54 [==============================] - 107s 2s/step - loss: 0.2032 - acc: 0.9343 - val_loss: 0.0947 - val_acc: 0.9815\n",
      "Epoch 7/18\n",
      "54/54 [==============================] - 107s 2s/step - loss: 0.1899 - acc: 0.9363 - val_loss: 0.0703 - val_acc: 0.9954\n",
      "Epoch 8/18\n",
      "54/54 [==============================] - 107s 2s/step - loss: 0.1518 - acc: 0.9469 - val_loss: 0.0578 - val_acc: 0.9942\n",
      "Epoch 9/18\n",
      "54/54 [==============================] - 108s 2s/step - loss: 0.1091 - acc: 0.9585 - val_loss: 0.0531 - val_acc: 0.9942\n",
      "Epoch 10/18\n",
      "54/54 [==============================] - 108s 2s/step - loss: 0.1102 - acc: 0.9585 - val_loss: 0.0350 - val_acc: 0.9954\n",
      "Epoch 11/18\n",
      "54/54 [==============================] - 107s 2s/step - loss: 0.1316 - acc: 0.9585 - val_loss: 0.0691 - val_acc: 0.9884\n",
      "Epoch 12/18\n",
      "54/54 [==============================] - 108s 2s/step - loss: 0.0825 - acc: 0.9769 - val_loss: 0.0128 - val_acc: 0.9965\n",
      "Epoch 13/18\n",
      "54/54 [==============================] - 108s 2s/step - loss: 0.0681 - acc: 0.9757 - val_loss: 0.0144 - val_acc: 0.9954\n",
      "Epoch 14/18\n",
      "54/54 [==============================] - 108s 2s/step - loss: 0.0766 - acc: 0.9733 - val_loss: 0.1026 - val_acc: 0.9745\n",
      "Epoch 15/18\n",
      "54/54 [==============================] - 108s 2s/step - loss: 0.1818 - acc: 0.9511 - val_loss: 0.0250 - val_acc: 0.9977\n",
      "Epoch 16/18\n",
      "54/54 [==============================] - 107s 2s/step - loss: 0.0589 - acc: 0.9812 - val_loss: 0.0191 - val_acc: 0.9965\n",
      "Epoch 17/18\n",
      "54/54 [==============================] - 109s 2s/step - loss: 0.0461 - acc: 0.9847 - val_loss: 0.0184 - val_acc: 0.9942\n",
      "Epoch 18/18\n",
      "54/54 [==============================] - 109s 2s/step - loss: 0.0496 - acc: 0.9855 - val_loss: 0.0062 - val_acc: 1.0000\n"
     ]
    },
    {
     "data": {
      "text/plain": [
       "<keras.callbacks.History at 0x7fd3dc746b38>"
      ]
     },
     "execution_count": 23,
     "metadata": {
      "tags": []
     },
     "output_type": "execute_result"
    }
   ],
   "source": [
    "model.fit_generator(train_generator, epochs = 18, steps_per_epoch=len(train_generator), validation_data = test_generator, validation_steps = len(test_generator) )"
   ]
  },
  {
   "cell_type": "code",
   "execution_count": 0,
   "metadata": {
    "colab": {},
    "colab_type": "code",
    "id": "5HFbENe_rcv8"
   },
   "outputs": [],
   "source": [
    "model.save('modelo_generator_final_7cats_nothing.h5')"
   ]
  },
  {
   "cell_type": "code",
   "execution_count": 0,
   "metadata": {
    "colab": {},
    "colab_type": "code",
    "id": "XcoSb6GXLpBz"
   },
   "outputs": [],
   "source": []
  }
 ],
 "metadata": {
  "accelerator": "GPU",
  "colab": {
   "name": "Untitled1.ipynb",
   "provenance": [],
   "version": "0.3.2"
  },
  "kernelspec": {
   "display_name": "Python 3",
   "language": "python",
   "name": "python3"
  },
  "language_info": {
   "codemirror_mode": {
    "name": "ipython",
    "version": 3
   },
   "file_extension": ".py",
   "mimetype": "text/x-python",
   "name": "python",
   "nbconvert_exporter": "python",
   "pygments_lexer": "ipython3",
   "version": "3.6.9"
  }
 },
 "nbformat": 4,
 "nbformat_minor": 1
}
