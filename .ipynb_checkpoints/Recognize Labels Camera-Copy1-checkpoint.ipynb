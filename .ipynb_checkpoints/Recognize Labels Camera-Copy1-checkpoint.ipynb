{
 "cells": [
  {
   "cell_type": "code",
   "execution_count": null,
   "metadata": {},
   "outputs": [],
   "source": [
    "import cv2\n",
    "import os\n",
    "import numpy as np\n",
    "from keras.models import load_model"
   ]
  },
  {
   "cell_type": "code",
   "execution_count": null,
   "metadata": {},
   "outputs": [],
   "source": [
    "model = load_model('/home/jjespper/Escritorio/modelo_six_cats.h5')"
   ]
  },
  {
   "cell_type": "code",
   "execution_count": null,
   "metadata": {},
   "outputs": [],
   "source": [
    "marcas = {0:'Amstel',\n",
    "          1:'Budweiser',\n",
    "          2:'Coronita',\n",
    "          3:'Heineken',\n",
    "          4: 'Mahou',\n",
    "          5: 'Pilsen_urquell',\n",
    "          6: 'San_miguel'}"
   ]
  },
  {
   "cell_type": "code",
   "execution_count": null,
   "metadata": {},
   "outputs": [],
   "source": [
    "def prueba_clasificacion(foto_prueba):\n",
    "    new_array = cv2.resize(foto_prueba, (200, 200))\n",
    "    new_array = cv2.cvtColor(new_array, cv2.COLOR_BGR2RGB)\n",
    "    asd = np.expand_dims(new_array, axis=1)\n",
    "    asd = np.array(asd).reshape(-1, 200, 200, 1)\n",
    "    asd = asd/255.\n",
    "    classes = model.predict(asd)\n",
    "    return classes"
   ]
  },
  {
   "cell_type": "code",
   "execution_count": null,
   "metadata": {},
   "outputs": [],
   "source": []
  },
  {
   "cell_type": "code",
   "execution_count": null,
   "metadata": {},
   "outputs": [],
   "source": [
    "def capture_img():\n",
    "    #IMAGES_FOLDER = os.path.join('/home/jjespper/masterIronhack/capturas_beers')\n",
    "    video = cv2.VideoCapture(0)\n",
    "    roi_start = 50\n",
    "    roi_size = 200\n",
    "    while True:\n",
    "   # Read a new frame\n",
    "        ret, frame = video.read()\n",
    "    \n",
    "        w = frame.shape[1]\n",
    "        h = frame.shape[0]\n",
    "        hcenter = w // 2\n",
    "        vcenter = h // 2\n",
    "  \n",
    "    \n",
    "        roi = frame[roi_start:roi_start+roi_size, \n",
    "                roi_start:roi_start+roi_size]\n",
    "        gray = cv2.cvtColor(roi, cv2.COLOR_BGR2GRAY)\n",
    "    \n",
    "        gray_cropped = gray[:, (hcenter - h // 2):(hcenter + h // 2)]\n",
    "    \n",
    "    \n",
    "    \n",
    "        cv2.rectangle(frame, (roi_start, roi_start), (roi_start+roi_size, roi_start+roi_size), (0, 255, 0) ,0)\n",
    "        \n",
    "        total_probs = prueba_clasificacion(roi)\n",
    "        \n",
    "        confidence = np.amax(total_probs)\n",
    "        \n",
    "        predict_marca = marcas[np.argmax(total_probs)]\n",
    "        \n",
    "        cv2.putText(frame, \n",
    "                predict_marca + ' ' + str(confidence) if confidence > 0.5 else 'good luck!',\n",
    "                (int(roi_start), \n",
    "                 int(roi_start + .09 * roi_size)),\n",
    "                cv2.FONT_HERSHEY_SIMPLEX,\n",
    "                0.5,\n",
    "                (0, 0, 255))\n",
    "        \n",
    "        cv2.imshow('my_webcam_frame', frame)\n",
    "\n",
    "        k = cv2.waitKey(1) & 0xff\n",
    "        if k == ord('q'):  # escape pressed\n",
    "            break\n",
    " \n",
    "    cv2.destroyAllWindows()\n",
    "    video.release()\n",
    "    #return IMAGES_FOLDER\n",
    "capture_img()"
   ]
  },
  {
   "cell_type": "code",
   "execution_count": null,
   "metadata": {},
   "outputs": [],
   "source": [
    "def prueba_clasificacion(foto_prueba):\n",
    "    new_array = cv2.resize(foto_prueba, (200, 200))\n",
    "    new_array = cv2.cvtColor(new_array, cv2.COLOR_BGR2GRAY)\n",
    "    asd = np.expand_dims(new_array, axis=1)\n",
    "    asd = np.array(asd).reshape(-1, 200, 200, 1)\n",
    "    asd = asd/255.\n",
    "    classes = model.predict(asd)\n",
    "    confidence = marcas[np.argmax(classes)]\n",
    "    return confidence"
   ]
  },
  {
   "cell_type": "code",
   "execution_count": null,
   "metadata": {},
   "outputs": [],
   "source": []
  },
  {
   "cell_type": "code",
   "execution_count": null,
   "metadata": {},
   "outputs": [],
   "source": []
  },
  {
   "cell_type": "code",
   "execution_count": null,
   "metadata": {},
   "outputs": [],
   "source": [
    "while True:\n",
    "    ret, frame = cap.read()\n",
    "    \n",
    "    \n",
    "    \n",
    "    w = frame.shape[1]\n",
    "    h = frame.shape[0]\n",
    "    hcenter = w // 2\n",
    "    vcenter = h // 2\n",
    "  \n",
    "    \n",
    "    roi = frame[roi_start:roi_start+roi_size, \n",
    "                roi_start:roi_start+roi_size]\n",
    "\n",
    "    \n",
    "    gray = cv2.cvtColor(roi, cv2.COLOR_BGR2GRAY)\n",
    "    \n",
    "    gray_cropped = gray[:, (hcenter - h // 2):(hcenter + h // 2)]\n",
    "    \n",
    "    ret, mask = cv2.threshold(gray, 0, 255, cv2.THRESH_BINARY_INV + cv2.THRESH_OTSU)\n",
    "        \n",
    "    model_input = np.expand_dims(np.expand_dims(cv2.resize(mask, (IMG_SIZE, IMG_SIZE)), axis=2), axis=0) / 255\n",
    "    \n",
    "    prediction = model.predict_proba(model_input)\n",
    "    \n",
    "    class_name = classes_reverse[np.argmax(prediction)]\n",
    "    confidence = np.max(prediction)\n",
    "        \n",
    "    cv2.rectangle(frame, (roi_start, roi_start), (roi_start+roi_size, roi_start+roi_size), (0, 255, 0) ,0)\n",
    "    \n",
    "    cv2.putText(frame, \n",
    "                class_name + ' ' + str(confidence) if confidence > 0.5 else 'good luck!',\n",
    "                (int(roi_start), \n",
    "                 int(roi_start + .09 * roi_size)),\n",
    "                cv2.FONT_HERSHEY_SIMPLEX,\n",
    "                0.5,\n",
    "                (0, 0, 255))\n",
    "        \n",
    "    cv2.imshow('my_webcam_frame', frame)\n",
    "    cv2.imshow('my_webcam_proc', mask)\n",
    "    \n",
    "    if cv2.waitKey(1) & 0xFF == ord('q'):\n",
    "        break\n",
    "​\n",
    "cap.release()\n"
   ]
  }
 ],
 "metadata": {
  "kernelspec": {
   "display_name": "Python 3",
   "language": "python",
   "name": "python3"
  },
  "language_info": {
   "codemirror_mode": {
    "name": "ipython",
    "version": 3
   },
   "file_extension": ".py",
   "mimetype": "text/x-python",
   "name": "python",
   "nbconvert_exporter": "python",
   "pygments_lexer": "ipython3",
   "version": "3.6.9"
  }
 },
 "nbformat": 4,
 "nbformat_minor": 2
}
