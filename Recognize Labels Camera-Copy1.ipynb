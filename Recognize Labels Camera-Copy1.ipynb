{
 "cells": [
  {
   "cell_type": "code",
   "execution_count": 1,
   "metadata": {},
   "outputs": [
    {
     "name": "stderr",
     "output_type": "stream",
     "text": [
      "Using TensorFlow backend.\n"
     ]
    }
   ],
   "source": [
    "import cv2\n",
    "import os\n",
    "import numpy as np\n",
    "from keras.models import load_model"
   ]
  },
  {
   "cell_type": "code",
   "execution_count": 2,
   "metadata": {},
   "outputs": [
    {
     "name": "stderr",
     "output_type": "stream",
     "text": [
      "WARNING: Logging before flag parsing goes to stderr.\n",
      "W0808 11:30:21.417604 139964464154432 deprecation_wrapper.py:119] From /home/jjespper/miniconda3/envs/py36/lib/python3.6/site-packages/keras/backend/tensorflow_backend.py:517: The name tf.placeholder is deprecated. Please use tf.compat.v1.placeholder instead.\n",
      "\n",
      "W0808 11:30:21.436827 139964464154432 deprecation_wrapper.py:119] From /home/jjespper/miniconda3/envs/py36/lib/python3.6/site-packages/keras/backend/tensorflow_backend.py:4138: The name tf.random_uniform is deprecated. Please use tf.random.uniform instead.\n",
      "\n",
      "W0808 11:30:21.537181 139964464154432 deprecation_wrapper.py:119] From /home/jjespper/miniconda3/envs/py36/lib/python3.6/site-packages/keras/backend/tensorflow_backend.py:3976: The name tf.nn.max_pool is deprecated. Please use tf.nn.max_pool2d instead.\n",
      "\n",
      "W0808 11:30:21.539454 139964464154432 deprecation_wrapper.py:119] From /home/jjespper/miniconda3/envs/py36/lib/python3.6/site-packages/keras/backend/tensorflow_backend.py:131: The name tf.get_default_graph is deprecated. Please use tf.compat.v1.get_default_graph instead.\n",
      "\n",
      "W0808 11:30:21.540774 139964464154432 deprecation_wrapper.py:119] From /home/jjespper/miniconda3/envs/py36/lib/python3.6/site-packages/keras/backend/tensorflow_backend.py:133: The name tf.placeholder_with_default is deprecated. Please use tf.compat.v1.placeholder_with_default instead.\n",
      "\n",
      "W0808 11:30:21.557150 139964464154432 deprecation.py:506] From /home/jjespper/miniconda3/envs/py36/lib/python3.6/site-packages/keras/backend/tensorflow_backend.py:3445: calling dropout (from tensorflow.python.ops.nn_ops) with keep_prob is deprecated and will be removed in a future version.\n",
      "Instructions for updating:\n",
      "Please use `rate` instead of `keep_prob`. Rate should be set to `rate = 1 - keep_prob`.\n",
      "W0808 11:30:21.734103 139964464154432 deprecation_wrapper.py:119] From /home/jjespper/miniconda3/envs/py36/lib/python3.6/site-packages/keras/backend/tensorflow_backend.py:174: The name tf.get_default_session is deprecated. Please use tf.compat.v1.get_default_session instead.\n",
      "\n",
      "W0808 11:30:22.051893 139964464154432 deprecation_wrapper.py:119] From /home/jjespper/miniconda3/envs/py36/lib/python3.6/site-packages/keras/optimizers.py:790: The name tf.train.Optimizer is deprecated. Please use tf.compat.v1.train.Optimizer instead.\n",
      "\n",
      "W0808 11:30:22.160156 139964464154432 deprecation.py:323] From /home/jjespper/miniconda3/envs/py36/lib/python3.6/site-packages/tensorflow/python/ops/math_grad.py:1250: add_dispatch_support.<locals>.wrapper (from tensorflow.python.ops.array_ops) is deprecated and will be removed in a future version.\n",
      "Instructions for updating:\n",
      "Use tf.where in 2.0, which has the same broadcast rule as np.where\n"
     ]
    }
   ],
   "source": [
    "model = load_model('/home/jjespper/Escritorio/modelo_six_cats.h5')"
   ]
  },
  {
   "cell_type": "code",
   "execution_count": 3,
   "metadata": {},
   "outputs": [],
   "source": [
    "marcas = {0:'Amstel',\n",
    "          1:'Budweiser',\n",
    "          2:'Coronita',\n",
    "          3:'Heineken',\n",
    "          4: 'Mahou',\n",
    "          5: 'Pilsen_urquell',\n",
    "          6: 'San_miguel'}"
   ]
  },
  {
   "cell_type": "code",
   "execution_count": 5,
   "metadata": {},
   "outputs": [],
   "source": [
    "def prueba_clasificacion(foto_prueba):\n",
    "    new_array = cv2.resize(foto_prueba, (200, 200))\n",
    "    new_array = cv2.cvtColor(new_array, cv2.COLOR_BGR2RGB)\n",
    "    asd = np.expand_dims(new_array, axis=1)\n",
    "    asd = np.array(asd).reshape(-1, 200, 200, 1)\n",
    "    asd = asd/255.\n",
    "    classes = model.predict(asd)\n",
    "    return classes"
   ]
  },
  {
   "cell_type": "code",
   "execution_count": null,
   "metadata": {},
   "outputs": [],
   "source": []
  },
  {
   "cell_type": "code",
   "execution_count": 6,
   "metadata": {},
   "outputs": [
    {
     "ename": "KeyError",
     "evalue": "14",
     "output_type": "error",
     "traceback": [
      "\u001b[0;31m---------------------------------------------------------------------------\u001b[0m",
      "\u001b[0;31mKeyError\u001b[0m                                  Traceback (most recent call last)",
      "\u001b[0;32m<ipython-input-6-9db7145762e1>\u001b[0m in \u001b[0;36m<module>\u001b[0;34m\u001b[0m\n\u001b[1;32m     47\u001b[0m     \u001b[0mvideo\u001b[0m\u001b[0;34m.\u001b[0m\u001b[0mrelease\u001b[0m\u001b[0;34m(\u001b[0m\u001b[0;34m)\u001b[0m\u001b[0;34m\u001b[0m\u001b[0;34m\u001b[0m\u001b[0m\n\u001b[1;32m     48\u001b[0m     \u001b[0;31m#return IMAGES_FOLDER\u001b[0m\u001b[0;34m\u001b[0m\u001b[0;34m\u001b[0m\u001b[0;34m\u001b[0m\u001b[0m\n\u001b[0;32m---> 49\u001b[0;31m \u001b[0mcapture_img\u001b[0m\u001b[0;34m(\u001b[0m\u001b[0;34m)\u001b[0m\u001b[0;34m\u001b[0m\u001b[0;34m\u001b[0m\u001b[0m\n\u001b[0m",
      "\u001b[0;32m<ipython-input-6-9db7145762e1>\u001b[0m in \u001b[0;36mcapture_img\u001b[0;34m()\u001b[0m\n\u001b[1;32m     28\u001b[0m         \u001b[0mconfidence\u001b[0m \u001b[0;34m=\u001b[0m \u001b[0mnp\u001b[0m\u001b[0;34m.\u001b[0m\u001b[0mamax\u001b[0m\u001b[0;34m(\u001b[0m\u001b[0mtotal_probs\u001b[0m\u001b[0;34m)\u001b[0m\u001b[0;34m\u001b[0m\u001b[0;34m\u001b[0m\u001b[0m\n\u001b[1;32m     29\u001b[0m \u001b[0;34m\u001b[0m\u001b[0m\n\u001b[0;32m---> 30\u001b[0;31m         \u001b[0mpredict_marca\u001b[0m \u001b[0;34m=\u001b[0m \u001b[0mmarcas\u001b[0m\u001b[0;34m[\u001b[0m\u001b[0mnp\u001b[0m\u001b[0;34m.\u001b[0m\u001b[0margmax\u001b[0m\u001b[0;34m(\u001b[0m\u001b[0mtotal_probs\u001b[0m\u001b[0;34m)\u001b[0m\u001b[0;34m]\u001b[0m\u001b[0;34m\u001b[0m\u001b[0;34m\u001b[0m\u001b[0m\n\u001b[0m\u001b[1;32m     31\u001b[0m \u001b[0;34m\u001b[0m\u001b[0m\n\u001b[1;32m     32\u001b[0m         cv2.putText(frame, \n",
      "\u001b[0;31mKeyError\u001b[0m: 14"
     ]
    }
   ],
   "source": [
    "def capture_img():\n",
    "    #IMAGES_FOLDER = os.path.join('/home/jjespper/masterIronhack/capturas_beers')\n",
    "    video = cv2.VideoCapture(0)\n",
    "    roi_start = 50\n",
    "    roi_size = 200\n",
    "    while True:\n",
    "   # Read a new frame\n",
    "        ret, frame = video.read()\n",
    "    \n",
    "        w = frame.shape[1]\n",
    "        h = frame.shape[0]\n",
    "        hcenter = w // 2\n",
    "        vcenter = h // 2\n",
    "  \n",
    "    \n",
    "        roi = frame[roi_start:roi_start+roi_size, \n",
    "                roi_start:roi_start+roi_size]\n",
    "        gray = cv2.cvtColor(roi, cv2.COLOR_BGR2GRAY)\n",
    "    \n",
    "        gray_cropped = gray[:, (hcenter - h // 2):(hcenter + h // 2)]\n",
    "    \n",
    "    \n",
    "    \n",
    "        cv2.rectangle(frame, (roi_start, roi_start), (roi_start+roi_size, roi_start+roi_size), (0, 255, 0) ,0)\n",
    "        \n",
    "        total_probs = prueba_clasificacion(roi)\n",
    "        \n",
    "        confidence = np.amax(total_probs)\n",
    "        \n",
    "        predict_marca = marcas[np.argmax(total_probs)]\n",
    "        \n",
    "        cv2.putText(frame, \n",
    "                predict_marca + ' ' + str(confidence) if confidence > 0.5 else 'good luck!',\n",
    "                (int(roi_start), \n",
    "                 int(roi_start + .09 * roi_size)),\n",
    "                cv2.FONT_HERSHEY_SIMPLEX,\n",
    "                0.5,\n",
    "                (0, 0, 255))\n",
    "        \n",
    "        cv2.imshow('my_webcam_frame', frame)\n",
    "\n",
    "        k = cv2.waitKey(1) & 0xff\n",
    "        if k == ord('q'):  # escape pressed\n",
    "            break\n",
    " \n",
    "    cv2.destroyAllWindows()\n",
    "    video.release()\n",
    "    #return IMAGES_FOLDER\n",
    "capture_img()"
   ]
  },
  {
   "cell_type": "code",
   "execution_count": null,
   "metadata": {},
   "outputs": [],
   "source": [
    "def prueba_clasificacion(foto_prueba):\n",
    "    new_array = cv2.resize(foto_prueba, (200, 200))\n",
    "    new_array = cv2.cvtColor(new_array, cv2.COLOR_BGR2GRAY)\n",
    "    asd = np.expand_dims(new_array, axis=1)\n",
    "    asd = np.array(asd).reshape(-1, 200, 200, 1)\n",
    "    asd = asd/255.\n",
    "    classes = model.predict(asd)\n",
    "    confidence = marcas[np.argmax(classes)]\n",
    "    return confidence"
   ]
  },
  {
   "cell_type": "code",
   "execution_count": null,
   "metadata": {},
   "outputs": [],
   "source": []
  },
  {
   "cell_type": "code",
   "execution_count": null,
   "metadata": {},
   "outputs": [],
   "source": []
  },
  {
   "cell_type": "code",
   "execution_count": null,
   "metadata": {},
   "outputs": [],
   "source": [
    "while True:\n",
    "    ret, frame = cap.read()\n",
    "    \n",
    "    \n",
    "    \n",
    "    w = frame.shape[1]\n",
    "    h = frame.shape[0]\n",
    "    hcenter = w // 2\n",
    "    vcenter = h // 2\n",
    "  \n",
    "    \n",
    "    roi = frame[roi_start:roi_start+roi_size, \n",
    "                roi_start:roi_start+roi_size]\n",
    "\n",
    "    \n",
    "    gray = cv2.cvtColor(roi, cv2.COLOR_BGR2GRAY)\n",
    "    \n",
    "    gray_cropped = gray[:, (hcenter - h // 2):(hcenter + h // 2)]\n",
    "    \n",
    "    ret, mask = cv2.threshold(gray, 0, 255, cv2.THRESH_BINARY_INV + cv2.THRESH_OTSU)\n",
    "        \n",
    "    model_input = np.expand_dims(np.expand_dims(cv2.resize(mask, (IMG_SIZE, IMG_SIZE)), axis=2), axis=0) / 255\n",
    "    \n",
    "    prediction = model.predict_proba(model_input)\n",
    "    \n",
    "    class_name = classes_reverse[np.argmax(prediction)]\n",
    "    confidence = np.max(prediction)\n",
    "        \n",
    "    cv2.rectangle(frame, (roi_start, roi_start), (roi_start+roi_size, roi_start+roi_size), (0, 255, 0) ,0)\n",
    "    \n",
    "    cv2.putText(frame, \n",
    "                class_name + ' ' + str(confidence) if confidence > 0.5 else 'good luck!',\n",
    "                (int(roi_start), \n",
    "                 int(roi_start + .09 * roi_size)),\n",
    "                cv2.FONT_HERSHEY_SIMPLEX,\n",
    "                0.5,\n",
    "                (0, 0, 255))\n",
    "        \n",
    "    cv2.imshow('my_webcam_frame', frame)\n",
    "    cv2.imshow('my_webcam_proc', mask)\n",
    "    \n",
    "    if cv2.waitKey(1) & 0xFF == ord('q'):\n",
    "        break\n",
    "​\n",
    "cap.release()\n"
   ]
  }
 ],
 "metadata": {
  "kernelspec": {
   "display_name": "Python 3",
   "language": "python",
   "name": "python3"
  },
  "language_info": {
   "codemirror_mode": {
    "name": "ipython",
    "version": 3
   },
   "file_extension": ".py",
   "mimetype": "text/x-python",
   "name": "python",
   "nbconvert_exporter": "python",
   "pygments_lexer": "ipython3",
   "version": "3.6.9"
  }
 },
 "nbformat": 4,
 "nbformat_minor": 2
}
