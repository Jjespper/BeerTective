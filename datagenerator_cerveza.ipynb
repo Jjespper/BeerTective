{
 "cells": [
  {
   "cell_type": "code",
   "execution_count": 14,
   "metadata": {},
   "outputs": [
    {
     "name": "stdout",
     "output_type": "stream",
     "text": [
      "1.14.0\n",
      "2.2.4\n"
     ]
    }
   ],
   "source": [
    "import numpy as np\n",
    "import pandas as pd\n",
    "from keras.models import Sequential\n",
    "from keras.layers import Conv2D, MaxPooling2D\n",
    "from keras.layers import Dropout, Flatten, Dense\n",
    "from keras.optimizers import SGD\n",
    "from keras.preprocessing.image import ImageDataGenerator\n",
    "import tensorflow as tf\n",
    "import keras\n",
    "from keras import backend as K\n",
    "import numpy as np\n",
    "%matplotlib inline\n",
    "import matplotlib.pyplot as plt\n",
    "print(tf.__version__)\n",
    "print(keras.__version__)\n",
    "import keras_utils\n",
    "from keras.models import Sequential\n",
    "from keras.layers import Conv2D, Conv1D, MaxPooling2D, Flatten, Dense, Activation, Dropout\n",
    "from keras.layers.advanced_activations import LeakyReLU\n",
    "import os \n",
    "import cv2"
   ]
  },
  {
   "cell_type": "code",
   "execution_count": 15,
   "metadata": {},
   "outputs": [],
   "source": [
    "DataDir = \"/home/jjespper/masterIronhack/Proyecto_Final_IH/Proyecto_Final_IH/Pocas_categorias_dupl/Train_set\"\n",
    "\n",
    "categories = ['Amstel', 'Cruzcampo', 'Heineken','Mahou', 'Sanmiguel']"
   ]
  },
  {
   "cell_type": "code",
   "execution_count": 16,
   "metadata": {},
   "outputs": [
    {
     "data": {
      "text/plain": [
       "'train_datagen = ImageDataGenerator(\\n        rescale=1./255,\\n        #shear_range=0.2,\\n        #zoom_range=0.2,\\n        #horizontal_flip=True)\\n        featurewise_center=False,               # se pone la media a 0 en todo el dataset\\n        samplewise_center=False,                # se pone la media a 0 de la muestra\\n        featurewise_std_normalization=False,    # se divide entre la std del dataset\\n        samplewise_std_normalization=False,     # se divide cada entrada entre std\\n        zca_whitening=False,                    # ZCA whitening, reduccion de dimensiones (similar a PCA)\\n        rotation_range=15,                      # se rotan las imagenes aleatoriamente (de 0 a 180 grados)\\n        zoom_range=0.1,                         # zoom aleatorio \\n        width_shift_range=0.1,                  # cambio aleatorio horizontal (fraccion del ancho total)\\n        height_shift_range=0.1,                 # cambio aleatorio vertical (fraccion de la altura total)\\n        horizontal_flip=False,                  # giro aleatorio horizantal\\n        vertical_flip=False)   \\n'"
      ]
     },
     "execution_count": 16,
     "metadata": {},
     "output_type": "execute_result"
    }
   ],
   "source": [
    "'''train_datagen = ImageDataGenerator(\n",
    "        rescale=1./255,\n",
    "        #shear_range=0.2,\n",
    "        #zoom_range=0.2,\n",
    "        #horizontal_flip=True)\n",
    "        featurewise_center=False,               # se pone la media a 0 en todo el dataset\n",
    "        samplewise_center=False,                # se pone la media a 0 de la muestra\n",
    "        featurewise_std_normalization=False,    # se divide entre la std del dataset\n",
    "        samplewise_std_normalization=False,     # se divide cada entrada entre std\n",
    "        zca_whitening=False,                    # ZCA whitening, reduccion de dimensiones (similar a PCA)\n",
    "        rotation_range=15,                      # se rotan las imagenes aleatoriamente (de 0 a 180 grados)\n",
    "        zoom_range=0.1,                         # zoom aleatorio \n",
    "        width_shift_range=0.1,                  # cambio aleatorio horizontal (fraccion del ancho total)\n",
    "        height_shift_range=0.1,                 # cambio aleatorio vertical (fraccion de la altura total)\n",
    "        horizontal_flip=False,                  # giro aleatorio horizantal\n",
    "        vertical_flip=False)   \n",
    "'''\n",
    "  "
   ]
  },
  {
   "cell_type": "code",
   "execution_count": null,
   "metadata": {},
   "outputs": [],
   "source": []
  },
  {
   "cell_type": "code",
   "execution_count": null,
   "metadata": {},
   "outputs": [],
   "source": []
  },
  {
   "cell_type": "code",
   "execution_count": 17,
   "metadata": {},
   "outputs": [
    {
     "data": {
      "image/png": "[encoded data removed]",
      "text/plain": [
       "<Figure size 432x288 with 1 Axes>"
      ]
     },
     "metadata": {
      "needs_background": "light"
     },
     "output_type": "display_data"
    }
   ],
   "source": [
    "img_ancho = 250\n",
    "img_alto = 250\n",
    "\n",
    "for category in categories:\n",
    "    path = os.path.join(DataDir, category)\n",
    "    for img in os.listdir(path):\n",
    "        img_array = cv2.imread(os.path.join(path,img), cv2.IMREAD_GRAYSCALE)\n",
    "        new_array =cv2.resize(img_array, (img_ancho, img_alto))\n",
    "        plt.imshow(new_array, cmap ='gray')\n",
    "        plt.show\n"
   ]
  },
  {
   "cell_type": "code",
   "execution_count": 18,
   "metadata": {},
   "outputs": [],
   "source": [
    "train_datagen = ImageDataGenerator(\n",
    "        rescale=1./255,\n",
    "        #shear_range=0.2,\n",
    "        #zoom_range=0.2,\n",
    "        #horizontal_flip=True)\n",
    "        featurewise_center=False,               # se pone la media a 0 en todo el dataset\n",
    "        samplewise_center=False,                # se pone la media a 0 de la muestra\n",
    "        featurewise_std_normalization=False,    # se divide entre la std del dataset\n",
    "        samplewise_std_normalization=False,     # se divide cada entrada entre std\n",
    "        zca_whitening=False,                    # ZCA whitening, reduccion de dimensiones (similar a PCA)\n",
    "        rotation_range=15,                      # se rotan las imagenes aleatoriamente (de 0 a 180 grados)\n",
    "        zoom_range=0.1,                         # zoom aleatorio \n",
    "        width_shift_range=0.1,                  # cambio aleatorio horizontal (fraccion del ancho total)\n",
    "        height_shift_range=0.1,                 # cambio aleatorio vertical (fraccion de la altura total)\n",
    "        horizontal_flip=False,                  # giro aleatorio horizantal                           \n",
    "        vertical_flip=False)   "
   ]
  },
  {
   "cell_type": "code",
   "execution_count": 19,
   "metadata": {},
   "outputs": [
    {
     "name": "stdout",
     "output_type": "stream",
     "text": [
      "Found 400 images belonging to 5 classes.\n"
     ]
    }
   ],
   "source": [
    "training_set = train_datagen.flow_from_directory('/home/jjespper/masterIronhack/Proyecto_Final_IH/Proyecto_Final_IH/Pocas_categorias_dupl/Train_set', \n",
    "                    target_size=(250, 250), shuffle = True, color_mode='grayscale',batch_size=32)\n"
   ]
  },
  {
   "cell_type": "markdown",
   "metadata": {},
   "source": [
    "lr = 0.01           # learning rate\n",
    "nn = [2, 16, 8, 1]  # número de neuronas por capa.\n",
    "\n",
    "\n",
    "# Creamos el objeto que contendrá a nuestra red neuronal, como\n",
    "# secuencia de capas.\n",
    "model = kr.Sequential()\n",
    "\n",
    "# Añadimos la capa 1\n",
    "l1 = model.add(kr.layers.Dense(nn[1], activation='relu'))\n",
    "\n",
    "# Añadimos la capa 2\n",
    "l2 = model.add(kr.layers.Dense(nn[2], activation='relu'))\n",
    "\n",
    "# Añadimos la capa 3\n",
    "l3 = model.add(kr.layers.Dense(nn[3], activation='sigmoid'))\n",
    "\n",
    "# Compilamos el modelo, definiendo la función de coste y el optimizador.\n",
    "model.compile(loss='mse', optimizer=kr.optimizers.SGD(lr=0.05), metrics=['acc'])\n",
    "\n",
    "# Y entrenamos al modelo. Los callbacks \n",
    "model.fit(X, Y, epochs=100)"
   ]
  },
  {
   "cell_type": "code",
   "execution_count": 20,
   "metadata": {},
   "outputs": [],
   "source": [
    "dim_input = (250, 250, 1)\n",
    "n_clases = 5"
   ]
  },
  {
   "cell_type": "code",
   "execution_count": 21,
   "metadata": {},
   "outputs": [
    {
     "data": {
      "text/plain": [
       "\"modelo=Sequential()\\nmodelo.add(Conv2D(32, kernel_size=(3, 3),activation='relu',kernel_initializer='he_normal',input_shape=dim_entrada))\\nmodelo.add(Conv2D(32, kernel_size=(3, 3),activation='relu',kernel_initializer='he_normal'))\\nmodelo.add(MaxPool2D((2, 2)))\\nmodelo.add(Dropout(0.20))\\nmodelo.add(Conv2D(64, (3, 3), activation='relu',padding='same',kernel_initializer='he_normal'))\\nmodelo.add(Conv2D(64, (3, 3), activation='relu',padding='same',kernel_initializer='he_normal'))\\nmodelo.add(MaxPool2D(pool_size=(2, 2)))\\nmodelo.add(Dropout(0.25))\\nmodelo.add(Conv2D(128, (3, 3), activation='relu',padding='same',kernel_initializer='he_normal'))\\nmodelo.add(Dropout(0.25))\\nmodelo.add(Flatten())\\nmodelo.add(Dense(128, activation='relu'))\\nmodelo.add(BatchNormalization())\\nmodelo.add(Dropout(0.25))\\nmodelo.add(Dense(n_clases, activation='softmax'))\\nmodelo.compile(loss=keras.losses.categorical_crossentropy, optimizer=keras.optimizers.RMSprop(), metrics=['accuracy']) \\nreduccion_tasa_apr=ReduceLROnPlateau(monitor='val_acc', patience=3, verbose=1, factor=0.5, min_lr=0.0001)\""
      ]
     },
     "execution_count": 21,
     "metadata": {},
     "output_type": "execute_result"
    }
   ],
   "source": [
    "'''modelo=Sequential()\n",
    "modelo.add(Conv2D(32, kernel_size=(3, 3),activation='relu',kernel_initializer='he_normal',input_shape=dim_entrada))\n",
    "modelo.add(Conv2D(32, kernel_size=(3, 3),activation='relu',kernel_initializer='he_normal'))\n",
    "modelo.add(MaxPool2D((2, 2)))\n",
    "modelo.add(Dropout(0.20))\n",
    "modelo.add(Conv2D(64, (3, 3), activation='relu',padding='same',kernel_initializer='he_normal'))\n",
    "modelo.add(Conv2D(64, (3, 3), activation='relu',padding='same',kernel_initializer='he_normal'))\n",
    "modelo.add(MaxPool2D(pool_size=(2, 2)))\n",
    "modelo.add(Dropout(0.25))\n",
    "modelo.add(Conv2D(128, (3, 3), activation='relu',padding='same',kernel_initializer='he_normal'))\n",
    "modelo.add(Dropout(0.25))\n",
    "modelo.add(Flatten())\n",
    "modelo.add(Dense(128, activation='relu'))\n",
    "modelo.add(BatchNormalization())\n",
    "modelo.add(Dropout(0.25))\n",
    "modelo.add(Dense(n_clases, activation='softmax'))\n",
    "modelo.compile(loss=keras.losses.categorical_crossentropy, optimizer=keras.optimizers.RMSprop(), metrics=['accuracy']) \n",
    "reduccion_tasa_apr=ReduceLROnPlateau(monitor='val_acc', patience=3, verbose=1, factor=0.5, min_lr=0.0001)'''"
   ]
  },
  {
   "cell_type": "code",
   "execution_count": null,
   "metadata": {},
   "outputs": [],
   "source": [
    "'''def make_model():\n",
    "\n",
    "    model = Sequential()\n",
    "    \n",
    "    model.add(Conv2D(filters=32, kernel_size=(3, 3), padding='same', input_shape = dim_input, activation='relu'))\n",
    "    \n",
    "    model.add(Conv2D(filters=32, kernel_size=(3, 3), padding='same', activation='relu'))\n",
    "      \n",
    "    model.add(MaxPooling2D(pool_size=(2,2)))   \n",
    "    \n",
    "    model.add(Dropout(0.20))\n",
    "        \n",
    "    model.add(Conv2D(filters=64, kernel_size=(3, 3), activation='relu',padding='same',kernel_initializer='he_normal'))\n",
    "\n",
    "    model.add(Conv2D(filters=64, kernel_size=(3, 3), activation='relu',padding='same',kernel_initializer='he_normal'))\n",
    "    \n",
    "    model.add(MaxPooling2D(pool_size=(2, 2)))\n",
    "    \n",
    "    model.add(Dropout(0.25))\n",
    "\n",
    "    model.add(Conv2D(filters=128, kernel_size=(3, 3), activation='relu',padding='same',kernel_initializer='he_normal'))\n",
    "    \n",
    "    model.add(MaxPooling2D(pool_size=(2, 2)))\n",
    "\n",
    "    model.add(Dropout(0.25))\n",
    "    \n",
    "    model.add(Flatten())\n",
    "\n",
    "    model.add(Dense(32, activation='relu'))\n",
    "\n",
    "    model.add(Dropout(0.25))\n",
    "\n",
    "    model.add(Dense(n_clases, activation='softmax'))\n",
    "\n",
    "    return model\n",
    "\n",
    "#datagen.\n",
    "\n",
    "ACC = 0,08\n",
    "'''\n"
   ]
  },
  {
   "cell_type": "code",
   "execution_count": 34,
   "metadata": {},
   "outputs": [],
   "source": [
    "def make_model():\n",
    "\n",
    "    model = Sequential()\n",
    "    \n",
    "    model.add(Conv2D(filters=16, kernel_size=(3, 3), padding='same', input_shape = dim_input, activation='relu'))\n",
    "    \n",
    "    model.add(MaxPooling2D(pool_size=(2,2)))   \n",
    "    \n",
    "    model.add(Conv2D(filters=32, kernel_size=(3, 3), padding='same', activation='relu'))\n",
    "      \n",
    "    model.add(MaxPooling2D(pool_size=(2,2)))   \n",
    "    \n",
    "    model.add(Dropout(0.20))\n",
    "        \n",
    "    model.add(Conv2D(filters=64, kernel_size=(3, 3), activation='relu',padding='same',kernel_initializer='he_normal'))\n",
    "\n",
    "    model.add(Conv2D(filters=64, kernel_size=(3, 3), activation='relu',padding='same',kernel_initializer='he_normal'))\n",
    "    \n",
    "    model.add(MaxPooling2D(pool_size=(2, 2)))\n",
    "    \n",
    "    model.add(Dropout(0.25))\n",
    "\n",
    "    model.add(Conv2D(filters=32, kernel_size=(3, 3), activation='relu',padding='same',kernel_initializer='he_normal'))\n",
    "    \n",
    "    model.add(MaxPooling2D(pool_size=(2, 2)))\n",
    "\n",
    "    model.add(Dropout(0.25))\n",
    "    \n",
    "    model.add(Flatten())\n",
    "\n",
    "    model.add(Dense(32, activation='relu'))\n",
    "\n",
    "    model.add(Dropout(0.25))\n",
    "\n",
    "    model.add(Dense(n_clases, activation='softmax'))\n",
    "\n",
    "    return model\n",
    "\n",
    "#datagen.\n",
    "\n",
    "#ACC = 0,08\n"
   ]
  },
  {
   "cell_type": "code",
   "execution_count": 35,
   "metadata": {},
   "outputs": [
    {
     "name": "stdout",
     "output_type": "stream",
     "text": [
      "_________________________________________________________________\n",
      "Layer (type)                 Output Shape              Param #   \n",
      "=================================================================\n",
      "conv2d_11 (Conv2D)           (None, 250, 250, 16)      160       \n",
      "_________________________________________________________________\n",
      "max_pooling2d_9 (MaxPooling2 (None, 125, 125, 16)      0         \n",
      "_________________________________________________________________\n",
      "conv2d_12 (Conv2D)           (None, 125, 125, 32)      4640      \n",
      "_________________________________________________________________\n",
      "max_pooling2d_10 (MaxPooling (None, 62, 62, 32)        0         \n",
      "_________________________________________________________________\n",
      "dropout_9 (Dropout)          (None, 62, 62, 32)        0         \n",
      "_________________________________________________________________\n",
      "conv2d_13 (Conv2D)           (None, 62, 62, 64)        18496     \n",
      "_________________________________________________________________\n",
      "conv2d_14 (Conv2D)           (None, 62, 62, 64)        36928     \n",
      "_________________________________________________________________\n",
      "max_pooling2d_11 (MaxPooling (None, 31, 31, 64)        0         \n",
      "_________________________________________________________________\n",
      "dropout_10 (Dropout)         (None, 31, 31, 64)        0         \n",
      "_________________________________________________________________\n",
      "conv2d_15 (Conv2D)           (None, 31, 31, 32)        18464     \n",
      "_________________________________________________________________\n",
      "max_pooling2d_12 (MaxPooling (None, 15, 15, 32)        0         \n",
      "_________________________________________________________________\n",
      "dropout_11 (Dropout)         (None, 15, 15, 32)        0         \n",
      "_________________________________________________________________\n",
      "flatten_3 (Flatten)          (None, 7200)              0         \n",
      "_________________________________________________________________\n",
      "dense_5 (Dense)              (None, 32)                230432    \n",
      "_________________________________________________________________\n",
      "dropout_12 (Dropout)         (None, 32)                0         \n",
      "_________________________________________________________________\n",
      "dense_6 (Dense)              (None, 5)                 165       \n",
      "=================================================================\n",
      "Total params: 309,285\n",
      "Trainable params: 309,285\n",
      "Non-trainable params: 0\n",
      "_________________________________________________________________\n"
     ]
    }
   ],
   "source": [
    "model = make_model()\n",
    "model.summary()"
   ]
  },
  {
   "cell_type": "code",
   "execution_count": 36,
   "metadata": {},
   "outputs": [],
   "source": [
    "INIT_LR = 5e-3  # initial learning rate\n",
    "BATCH_SIZE = 12\n",
    "#EPOCHS = 25"
   ]
  },
  {
   "cell_type": "code",
   "execution_count": 37,
   "metadata": {},
   "outputs": [],
   "source": [
    "model.compile(\n",
    "    loss='categorical_crossentropy',  # we train 10-way classification\n",
    "    optimizer=keras.optimizers.adamax(lr=INIT_LR),  # for SGD\n",
    "    metrics=['accuracy']  # report accuracy during training\n",
    ")\n"
   ]
  },
  {
   "cell_type": "code",
   "execution_count": 31,
   "metadata": {},
   "outputs": [
    {
     "ename": "NameError",
     "evalue": "name 'datagen' is not defined",
     "output_type": "error",
     "traceback": [
      "\u001b[0;31m---------------------------------------------------------------------------\u001b[0m",
      "\u001b[0;31mNameError\u001b[0m                                 Traceback (most recent call last)",
      "\u001b[0;32m<ipython-input-31-e6124c0a50d6>\u001b[0m in \u001b[0;36m<module>\u001b[0;34m\u001b[0m\n\u001b[0;32m----> 1\u001b[0;31m \u001b[0mlen\u001b[0m\u001b[0;34m(\u001b[0m\u001b[0mdatagen\u001b[0m\u001b[0;34m)\u001b[0m\u001b[0;34m\u001b[0m\u001b[0;34m\u001b[0m\u001b[0m\n\u001b[0m",
      "\u001b[0;31mNameError\u001b[0m: name 'datagen' is not defined"
     ]
    }
   ],
   "source": [
    "len(datagen)"
   ]
  },
  {
   "cell_type": "code",
   "execution_count": null,
   "metadata": {},
   "outputs": [],
   "source": [
    "model.fit_generator(datagen, steps_per_epoch = len(datagen), epochs=10)"
   ]
  },
  {
   "cell_type": "code",
   "execution_count": 38,
   "metadata": {},
   "outputs": [],
   "source": [
    "test_datagen = ImageDataGenerator(rescale = 1./255)\n"
   ]
  },
  {
   "cell_type": "code",
   "execution_count": 39,
   "metadata": {},
   "outputs": [
    {
     "name": "stdout",
     "output_type": "stream",
     "text": [
      "Found 28 images belonging to 5 classes.\n"
     ]
    }
   ],
   "source": [
    "test_set = test_datagen.flow_from_directory('/home/jjespper/masterIronhack/Proyecto_Final_IH/Proyecto_Final_IH/Pocas_categorias_dupl/Test_set', \n",
    "                    target_size=(250, 250), shuffle = True, color_mode='grayscale',batch_size=32)"
   ]
  },
  {
   "cell_type": "code",
   "execution_count": 40,
   "metadata": {},
   "outputs": [],
   "source": [
    "DataDir_test = \"/home/jjespper/masterIronhack/Proyecto_Final_IH/Proyecto_Final_IH/Pocas_categorias_dupl/Test_set\"\n",
    "\n",
    "categories_test = ['Amstel', 'Cruzcampo', 'Heineken','Mahou', 'Sanmiguel']"
   ]
  },
  {
   "cell_type": "code",
   "execution_count": 41,
   "metadata": {},
   "outputs": [
    {
     "data": {
      "image/png": "[encoded data removed]",
      "text/plain": [
       "<Figure size 432x288 with 1 Axes>"
      ]
     },
     "metadata": {
      "needs_background": "light"
     },
     "output_type": "display_data"
    }
   ],
   "source": [
    "img_ancho = 250\n",
    "img_alto = 250\n",
    "\n",
    "for category in categories_test:\n",
    "    path = os.path.join(DataDir_test, category)\n",
    "    for img in os.listdir(path):\n",
    "        img_array = cv2.imread(os.path.join(path,img), cv2.IMREAD_GRAYSCALE)\n",
    "        new_array =cv2.resize(img_array, (img_ancho, img_alto))\n",
    "        plt.imshow(new_array, cmap ='gray')\n",
    "        plt.show\n"
   ]
  },
  {
   "cell_type": "code",
   "execution_count": null,
   "metadata": {},
   "outputs": [],
   "source": [
    "test_set"
   ]
  },
  {
   "cell_type": "code",
   "execution_count": null,
   "metadata": {},
   "outputs": [],
   "source": []
  },
  {
   "cell_type": "code",
   "execution_count": 42,
   "metadata": {},
   "outputs": [
    {
     "name": "stdout",
     "output_type": "stream",
     "text": [
      "Epoch 1/10\n",
      "13/13 [==============================] - 14s 1s/step - loss: 1.7479 - acc: 0.2254 - val_loss: 1.6084 - val_acc: 0.2143\n",
      "Epoch 2/10\n",
      "13/13 [==============================] - 12s 885ms/step - loss: 1.6088 - acc: 0.2140 - val_loss: 1.6091 - val_acc: 0.1786\n",
      "Epoch 3/10\n",
      "13/13 [==============================] - 12s 913ms/step - loss: 1.6079 - acc: 0.2255 - val_loss: 1.6099 - val_acc: 0.1786\n",
      "Epoch 4/10\n",
      "13/13 [==============================] - 15s 1s/step - loss: 1.6105 - acc: 0.1973 - val_loss: 1.6086 - val_acc: 0.2143\n",
      "Epoch 5/10\n",
      "13/13 [==============================] - 13s 974ms/step - loss: 1.6080 - acc: 0.2118 - val_loss: 1.6084 - val_acc: 0.2143\n",
      "Epoch 6/10\n",
      "13/13 [==============================] - 17s 1s/step - loss: 1.6078 - acc: 0.1784 - val_loss: 1.6084 - val_acc: 0.2143\n",
      "Epoch 7/10\n",
      "13/13 [==============================] - 16s 1s/step - loss: 1.6079 - acc: 0.2257 - val_loss: 1.6086 - val_acc: 0.2143\n",
      "Epoch 8/10\n",
      "13/13 [==============================] - 22s 2s/step - loss: 1.6067 - acc: 0.2112 - val_loss: 1.6083 - val_acc: 0.2143\n",
      "Epoch 9/10\n",
      "13/13 [==============================] - 14s 1s/step - loss: 1.6044 - acc: 0.2448 - val_loss: 1.6083 - val_acc: 0.2143\n",
      "Epoch 10/10\n",
      "13/13 [==============================] - 12s 933ms/step - loss: 1.6081 - acc: 0.2237 - val_loss: 1.6082 - val_acc: 0.2143\n"
     ]
    },
    {
     "data": {
      "text/plain": [
       "<keras.callbacks.History at 0x7f269b7e1dd8>"
      ]
     },
     "execution_count": 42,
     "metadata": {},
     "output_type": "execute_result"
    }
   ],
   "source": [
    "model.fit_generator(training_set,\n",
    "steps_per_epoch = len(training_set), epochs=10,\n",
    "validation_data = test_set, validation_steps=len(test_set))"
   ]
  },
  {
   "cell_type": "markdown",
   "metadata": {},
   "source": [
    "# from google.cloud import vision\n"
   ]
  },
  {
   "cell_type": "code",
   "execution_count": null,
   "metadata": {},
   "outputs": [],
   "source": [
    "def detect_labels(path):\n",
    "    \"\"\"Detects labels in the file.\"\"\"\n",
    "    from google.cloud import vision\n",
    "    client = vision.ImageAnnotatorClient()\n",
    "\n",
    "    with io.open(path, 'rb') as image_file:\n",
    "        content = image_file.read()\n",
    "\n",
    "    image = vision.types.Image(content=content)\n",
    "\n",
    "    response = client.label_detection(image=image)\n",
    "    labels = response.label_annotations\n",
    "    print('Labels:')\n",
    "\n",
    "    for label in labels:\n",
    "        print(label.description)"
   ]
  },
  {
   "cell_type": "code",
   "execution_count": null,
   "metadata": {},
   "outputs": [],
   "source": [
    "cap = cv2.VideoCapture(0)\n",
    "\n",
    "while True:\n",
    "    ret, frame = cap.read()\n",
    "    gray = cv2.cvtColor(frame, cv2.COLOR_BGR2GRAY)\n",
    "    cv2.imshow('my_webcam_gray', gray)\n",
    "    #cv2.imshow('my_webcam_original', frame)\n",
    "    \n",
    "    if cv2.waitKey(1) & 0xFF == ord('q'):\n",
    "        break\n",
    "\n",
    "cap.release()\n",
    "cv2.destroyAllWindows()"
   ]
  },
  {
   "cell_type": "code",
   "execution_count": null,
   "metadata": {},
   "outputs": [],
   "source": []
  },
  {
   "cell_type": "code",
   "execution_count": null,
   "metadata": {},
   "outputs": [],
   "source": []
  },
  {
   "cell_type": "markdown",
   "metadata": {},
   "source": [
    "# DETECTOR DE IMAGENES (google)"
   ]
  },
  {
   "cell_type": "code",
   "execution_count": null,
   "metadata": {},
   "outputs": [],
   "source": [
    "THRESHOLD = 0.8\n",
    "\n",
    "class_names = {0: 'background',\n",
    "              1: 'person', 2: 'bicycle', 3: 'car', 4: 'motorcycle', 5: 'airplane', 6: 'bus',\n",
    "              7: 'train', 8: 'truck', 9: 'boat', 10: 'traffic light', 11: 'fire hydrant',\n",
    "              13: 'stop sign', 14: 'parking meter', 15: 'bench', 16: 'bird', 17: 'cat',\n",
    "              18: 'dog', 19: 'horse', 20: 'sheep', 21: 'cow', 22: 'elephant', 23: 'bear',\n",
    "              24: 'zebra', 25: 'giraffe', 27: 'backpack', 28: 'umbrella', 31: 'handbag',\n",
    "              32: 'tie', 33: 'suitcase', 34: 'frisbee', 35: 'skis', 36: 'snowboard',\n",
    "              37: 'sports ball', 38: 'kite', 39: 'baseball bat', 40: 'baseball glove',\n",
    "              41: 'skateboard', 42: 'surfboard', 43: 'tennis racket', 44: 'bottle',\n",
    "              46: 'wine glass', 47: 'cup', 48: 'fork', 49: 'knife', 50: 'spoon',\n",
    "              51: 'bowl', 52: 'banana', 53: 'apple', 54: 'sandwich', 55: 'orange',\n",
    "              56: 'broccoli', 57: 'carrot', 58: 'hot dog', 59: 'pizza', 60: 'donut',\n",
    "              61: 'cake', 62: 'chair', 63: 'couch', 64: 'potted plant', 65: 'bed',\n",
    "              67: 'dining table', 70: 'toilet', 72: 'tv', 73: 'laptop', 74: 'mouse',\n",
    "              75: 'remote', 76: 'keyboard', 77: 'cell phone', 78: 'microwave', 79: 'oven',\n",
    "              80: 'toaster', 81: 'sink', 82: 'refrigerator', 84: 'book', 85: 'clock',\n",
    "              86: 'vase', 87: 'scissors', 88: 'teddy bear', 89: 'hair drier', 90: 'toothbrush'}\n",
    "\n",
    "model = cv2.dnn.readNetFromTensorflow('frozen_inference_graph.pb',\n",
    "                                      'ssd_mobilenet_v2_coco_2018_03_29.pbtxt')\n",
    "\n",
    "cap = cv2.VideoCapture(0)\n",
    "\n",
    "while True:\n",
    "    \n",
    "    ret, frame = cap.read()\n",
    "    \n",
    "    model.setInput(cv2.dnn.blobFromImage(frame, size=(300, 300), swapRB=True))\n",
    "    \n",
    "    output = model.forward()[0,0,:,:]\n",
    "    \n",
    "    for detection in output:\n",
    "        confidence = detection[2]\n",
    "        if confidence > THRESHOLD:\n",
    "            class_id = detection[1]\n",
    "            class_name = class_names[class_id]\n",
    "            # print(confidence, class_name)\n",
    "            \n",
    "            # rectangles!\n",
    "            \n",
    "            box_x=detection[3]\n",
    "            box_y=detection[4]\n",
    "            box_width=detection[5]\n",
    "            box_height=detection[6]\n",
    "            \n",
    "            height, width, ch = frame.shape\n",
    "            \n",
    "            box_x = detection[3] * width\n",
    "            box_y = detection[4] * height\n",
    "            box_width = detection[5] * width\n",
    "            box_height = detection[6] * height\n",
    "                                          \n",
    "            cv2.rectangle(frame, \n",
    "                          (int(box_x),\n",
    "                           int(box_y)),\n",
    "                          (int(box_width),\n",
    "                           int(box_height)),\n",
    "                          (0, 0, 255), \n",
    "                          thickness=2)\n",
    "            \n",
    "            cv2.putText(frame, \n",
    "                        class_name + ' ' + str(round(confidence, 2)),\n",
    "                        (int(box_x), \n",
    "                         int(box_y+.05*height)),\n",
    "                        cv2.FONT_HERSHEY_SIMPLEX,\n",
    "                        1,\n",
    "                        (0, 0, 255))\n",
    "    \n",
    "    cv2.imshow('object_detection', frame)\n",
    "    \n",
    "    if cv2.waitKey(1) & 0xFF == ord('q'):\n",
    "        break\n",
    "\n",
    "cap.release()\n",
    "cv2.destroyAllWindows()"
   ]
  },
  {
   "cell_type": "code",
   "execution_count": null,
   "metadata": {},
   "outputs": [],
   "source": []
  }
 ],
 "metadata": {
  "kernelspec": {
   "display_name": "Python 3",
   "language": "python",
   "name": "python3"
  },
  "language_info": {
   "codemirror_mode": {
    "name": "ipython",
    "version": 3
   },
   "file_extension": ".py",
   "mimetype": "text/x-python",
   "name": "python",
   "nbconvert_exporter": "python",
   "pygments_lexer": "ipython3",
   "version": "3.6.9"
  }
 },
 "nbformat": 4,
 "nbformat_minor": 2
}
