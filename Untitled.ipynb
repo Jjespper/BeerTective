{
 "cells": [
  {
   "cell_type": "code",
   "execution_count": 5,
   "metadata": {},
   "outputs": [],
   "source": [
    "import pandas as pd\n",
    "import numpy as np\n",
    "from bs4 import BeautifulSoup\n",
    "from selenium import webdriver\n",
    "from selenium.webdriver.common.by import By\n",
    "import time\n",
    "from selenium.webdriver.common.keys import Keys"
   ]
  },
  {
   "cell_type": "code",
   "execution_count": 6,
   "metadata": {},
   "outputs": [],
   "source": [
    "class PageGetter:\n",
    "    \n",
    "    def __init__(self, defaultBrowser='chrome'):\n",
    "        if defaultBrowser == 'firefox':\n",
    "            self.driver = webdriver.Firefox()\n",
    "        elif defaultBrowser == 'chrome':\n",
    "            self.driver = webdriver.Chrome()\n",
    "        else:\n",
    "            raise Exception('Not a valid browser')\n",
    "    \n",
    "    def getPage(self, url):\n",
    "        if not self.driver:\n",
    "            raise Exception(\"You should start a browser connection\")\n",
    "        self.driver.get(url)\n",
    "        html = self.driver.page_source\n",
    "        self.soup = BeautifulSoup(html, 'html.parser')\n",
    "        return self.soup\n",
    "        \n",
    "    def close(self):\n",
    "        self.driver.quit()\n",
    "\n",
    "        \n",
    "pg = PageGetter('chrome')\n",
    "asd = pg.getPage(\"https://www.thewhiskyexchange.com/brands/spirits/338/gin\")"
   ]
  },
  {
   "cell_type": "code",
   "execution_count": 7,
   "metadata": {},
   "outputs": [
    {
     "name": "stdout",
     "output_type": "stream",
     "text": [
      "<class 'selenium.webdriver.chrome.webdriver.WebDriver'>\n"
     ]
    }
   ],
   "source": [
    "print(type(pg.driver))\n"
   ]
  },
  {
   "cell_type": "code",
   "execution_count": 8,
   "metadata": {},
   "outputs": [],
   "source": [
    "gt= pg.driver.find_elements_by_class_name('az-item-img')\n"
   ]
  },
  {
   "cell_type": "code",
   "execution_count": 12,
   "metadata": {},
   "outputs": [
    {
     "data": {
      "text/plain": [
       "<selenium.webdriver.remote.webelement.WebElement (session=\"d732d90fbc14872679aaf53c376f59a6\", element=\"0.8001857721145831-2\")>"
      ]
     },
     "execution_count": 12,
     "metadata": {},
     "output_type": "execute_result"
    }
   ],
   "source": [
    "gt[1]"
   ]
  },
  {
   "cell_type": "code",
   "execution_count": null,
   "metadata": {},
   "outputs": [],
   "source": []
  }
 ],
 "metadata": {
  "kernelspec": {
   "display_name": "Python 3",
   "language": "python",
   "name": "python3"
  },
  "language_info": {
   "codemirror_mode": {
    "name": "ipython",
    "version": 3
   },
   "file_extension": ".py",
   "mimetype": "text/x-python",
   "name": "python",
   "nbconvert_exporter": "python",
   "pygments_lexer": "ipython3",
   "version": "3.6.9"
  }
 },
 "nbformat": 4,
 "nbformat_minor": 4
}
