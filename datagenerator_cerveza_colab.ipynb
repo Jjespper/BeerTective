{
  "nbformat": 4,
  "nbformat_minor": 0,
  "metadata": {
    "kernelspec": {
      "name": "python3",
      "display_name": "Python 3"
    },
    "language_info": {
      "codemirror_mode": {
        "name": "ipython",
        "version": 3
      },
      "file_extension": ".py",
      "mimetype": "text/x-python",
      "name": "python",
      "nbconvert_exporter": "python",
      "pygments_lexer": "ipython3",
      "version": "3.6.9"
    },
    "colab": {
      "name": "datagenerator_cerveza.ipynb",
      "version": "0.3.2",
      "provenance": []
    },
    "accelerator": "GPU"
  },
  "cells": [
    {
      "cell_type": "code",
      "metadata": {
        "id": "A2lj0arGn5Lf",
        "colab_type": "code",
        "colab": {
          "base_uri": "https://localhost:8080/",
          "height": 51
        },
        "outputId": "20bb9017-aed5-4e5f-b36e-94266285b378"
      },
      "source": [
        "import numpy as np\n",
        "import pandas as pd\n",
        "from keras.models import Sequential\n",
        "from keras.layers import Conv2D, MaxPooling2D\n",
        "from keras.layers import Dropout, Flatten, Dense\n",
        "from keras.optimizers import SGD\n",
        "from keras.preprocessing.image import ImageDataGenerator\n",
        "import tensorflow as tf\n",
        "import keras\n",
        "from keras import backend as K\n",
        "import numpy as np\n",
        "%matplotlib inline\n",
        "import matplotlib.pyplot as plt\n",
        "print(tf.__version__)\n",
        "print(keras.__version__)\n",
        "from keras.models import Sequential\n",
        "from keras.layers import Conv2D, Conv1D, MaxPooling2D, Flatten, Dense, Activation, Dropout\n",
        "from keras.layers.advanced_activations import LeakyReLU\n",
        "import os \n",
        "import cv2"
      ],
      "execution_count": 109,
      "outputs": [
        {
          "output_type": "stream",
          "text": [
            "1.14.0\n",
            "2.2.4\n"
          ],
          "name": "stdout"
        }
      ]
    },
    {
      "cell_type": "code",
      "metadata": {
        "id": "jcnJPBTjn5Ll",
        "colab_type": "code",
        "colab": {}
      },
      "source": [
        "DataDir = \"/content/drive/My Drive/Pocas_categorias/Train_set\"\n",
        "\n",
        "categories = ['Amstel', 'Cruzcampo', 'Estrella_damm', 'Estrella_galicia', 'Franziskaner', 'Heineken','Mahou', 'Pilsen_urquell','Sanmiguel']"
      ],
      "execution_count": 0,
      "outputs": []
    },
    {
      "cell_type": "code",
      "metadata": {
        "id": "8ZjSltg1n5Lq",
        "colab_type": "code",
        "colab": {
          "base_uri": "https://localhost:8080/",
          "height": 54
        },
        "outputId": "7193987d-941c-4e85-de71-143611ceccd5"
      },
      "source": [
        "\n",
        "  "
      ],
      "execution_count": 111,
      "outputs": [
        {
          "output_type": "execute_result",
          "data": {
            "text/plain": [
              "'train_datagen = ImageDataGenerator(\\n        rescale=1./255,\\n        #shear_range=0.2,\\n        #zoom_range=0.2,\\n        #horizontal_flip=True)\\n        featurewise_center=False,               # se pone la media a 0 en todo el dataset\\n        samplewise_center=False,                # se pone la media a 0 de la muestra\\n        featurewise_std_normalization=False,    # se divide entre la std del dataset\\n        samplewise_std_normalization=False,     # se divide cada entrada entre std\\n        zca_whitening=False,                    # ZCA whitening, reduccion de dimensiones (similar a PCA)\\n        rotation_range=15,                      # se rotan las imagenes aleatoriamente (de 0 a 180 grados)\\n        zoom_range=0.1,                         # zoom aleatorio \\n        width_shift_range=0.1,                  # cambio aleatorio horizontal (fraccion del ancho total)\\n        height_shift_range=0.1,                 # cambio aleatorio vertical (fraccion de la altura total)\\n        horizontal_flip=False,                  # giro aleatorio horizantal\\n        vertical_flip=False)   \\n'"
            ]
          },
          "metadata": {
            "tags": []
          },
          "execution_count": 111
        }
      ]
    },
    {
      "cell_type": "code",
      "metadata": {
        "id": "iak1sg56n5Lt",
        "colab_type": "code",
        "colab": {}
      },
      "source": [
        ""
      ],
      "execution_count": 0,
      "outputs": []
    },
    {
      "cell_type": "code",
      "metadata": {
        "id": "JlisaZANn5Lw",
        "colab_type": "code",
        "colab": {}
      },
      "source": [
        ""
      ],
      "execution_count": 0,
      "outputs": []
    },
    {
      "cell_type": "code",
      "metadata": {
        "id": "3fO4Rscan5Lz",
        "colab_type": "code",
        "colab": {
          "base_uri": "https://localhost:8080/",
          "height": 269
        },
        "outputId": "f22e52f5-6fdf-410c-9f78-be3377fa54a8"
      },
      "source": [
        "img_ancho = 250\n",
        "img_alto = 300\n",
        "\n",
        "for category in categories:\n",
        "    path = os.path.join(DataDir, category)\n",
        "    for img in os.listdir(path):\n",
        "        img_array = cv2.imread(os.path.join(path,img), cv2.IMREAD_GRAYSCALE)\n",
        "        new_array =cv2.resize(img_array, (img_ancho, img_alto))\n",
        "        plt.imshow(new_array, cmap ='gray')\n",
        "        plt.show\n"
      ],
      "execution_count": 112,
      "outputs": [
        {
          "output_type": "display_data",
          "data": {
            "image/png": "[encoded data removed]",
            "text/plain": [
              "<Figure size 432x288 with 1 Axes>"
            ]
          },
          "metadata": {
            "tags": []
          }
        }
      ]
    },
    {
      "cell_type": "code",
      "metadata": {
        "id": "Vifet6efn5L5",
        "colab_type": "code",
        "colab": {}
      },
      "source": [
        "train_datagen = ImageDataGenerator(\n",
        "        rescale=1./255,\n",
        "        #shear_range=0.2,\n",
        "        #zoom_range=0.2,\n",
        "        #horizontal_flip=True)\n",
        "        featurewise_center=False,               # se pone la media a 0 en todo el dataset\n",
        "        samplewise_center=False,                # se pone la media a 0 de la muestra\n",
        "        featurewise_std_normalization=False,    # se divide entre la std del dataset\n",
        "        samplewise_std_normalization=False,     # se divide cada entrada entre std\n",
        "        zca_whitening=False,                    # ZCA whitening, reduccion de dimensiones (similar a PCA)\n",
        "        rotation_range=15,                      # se rotan las imagenes aleatoriamente (de 0 a 180 grados)\n",
        "        zoom_range=0.1,                         # zoom aleatorio \n",
        "        width_shift_range=0.1,                  # cambio aleatorio horizontal (fraccion del ancho total)\n",
        "        height_shift_range=0.1,                 # cambio aleatorio vertical (fraccion de la altura total)\n",
        "        horizontal_flip=False,                  # giro aleatorio horizantal                           \n",
        "        vertical_flip=False)   "
      ],
      "execution_count": 0,
      "outputs": []
    },
    {
      "cell_type": "code",
      "metadata": {
        "id": "fjY5SuVLn5L9",
        "colab_type": "code",
        "colab": {
          "base_uri": "https://localhost:8080/",
          "height": 34
        },
        "outputId": "6f05ff81-869e-422e-c37d-46779d2824a7"
      },
      "source": [
        "training_set = train_datagen.flow_from_directory('/content/drive/My Drive/Pocas_categorias/Train_set', \n",
        "                    target_size=(300, 250), shuffle = True, color_mode='grayscale',batch_size=32)\n"
      ],
      "execution_count": 114,
      "outputs": [
        {
          "output_type": "stream",
          "text": [
            "Found 889 images belonging to 9 classes.\n"
          ],
          "name": "stdout"
        }
      ]
    },
    {
      "cell_type": "markdown",
      "metadata": {
        "id": "8eU0I80Xn5MA",
        "colab_type": "text"
      },
      "source": [
        "lr = 0.01           # learning rate\n",
        "nn = [2, 16, 8, 1]  # número de neuronas por capa.\n",
        "\n",
        "\n",
        "# Creamos el objeto que contendrá a nuestra red neuronal, como\n",
        "# secuencia de capas.\n",
        "model = kr.Sequential()\n",
        "\n",
        "# Añadimos la capa 1\n",
        "l1 = model.add(kr.layers.Dense(nn[1], activation='relu'))\n",
        "\n",
        "# Añadimos la capa 2\n",
        "l2 = model.add(kr.layers.Dense(nn[2], activation='relu'))\n",
        "\n",
        "# Añadimos la capa 3\n",
        "l3 = model.add(kr.layers.Dense(nn[3], activation='sigmoid'))\n",
        "\n",
        "# Compilamos el modelo, definiendo la función de coste y el optimizador.\n",
        "model.compile(loss='mse', optimizer=kr.optimizers.SGD(lr=0.05), metrics=['acc'])\n",
        "\n",
        "# Y entrenamos al modelo. Los callbacks \n",
        "model.fit(X, Y, epochs=100)"
      ]
    },
    {
      "cell_type": "code",
      "metadata": {
        "id": "8JR5MBmon5MB",
        "colab_type": "code",
        "colab": {}
      },
      "source": [
        "dim_input = (300, 250, 1)\n",
        "n_clases = 9"
      ],
      "execution_count": 0,
      "outputs": []
    },
    {
      "cell_type": "code",
      "metadata": {
        "id": "BWhav0Uln5ME",
        "colab_type": "code",
        "colab": {},
        "outputId": "7b0d968b-6918-4576-a9a7-151b123cb66f"
      },
      "source": [
        "'''modelo=Sequential()\n",
        "modelo.add(Conv2D(32, kernel_size=(3, 3),activation='relu',kernel_initializer='he_normal',input_shape=dim_entrada))\n",
        "modelo.add(Conv2D(32, kernel_size=(3, 3),activation='relu',kernel_initializer='he_normal'))\n",
        "modelo.add(MaxPool2D((2, 2)))\n",
        "modelo.add(Dropout(0.20))\n",
        "modelo.add(Conv2D(64, (3, 3), activation='relu',padding='same',kernel_initializer='he_normal'))\n",
        "modelo.add(Conv2D(64, (3, 3), activation='relu',padding='same',kernel_initializer='he_normal'))\n",
        "modelo.add(MaxPool2D(pool_size=(2, 2)))\n",
        "modelo.add(Dropout(0.25))\n",
        "modelo.add(Conv2D(128, (3, 3), activation='relu',padding='same',kernel_initializer='he_normal'))\n",
        "modelo.add(Dropout(0.25))\n",
        "modelo.add(Flatten())\n",
        "modelo.add(Dense(128, activation='relu'))\n",
        "modelo.add(BatchNormalization())\n",
        "modelo.add(Dropout(0.25))\n",
        "modelo.add(Dense(n_clases, activation='softmax'))\n",
        "modelo.compile(loss=keras.losses.categorical_crossentropy, optimizer=keras.optimizers.RMSprop(), metrics=['accuracy']) \n",
        "reduccion_tasa_apr=ReduceLROnPlateau(monitor='val_acc', patience=3, verbose=1, factor=0.5, min_lr=0.0001)'''"
      ],
      "execution_count": 0,
      "outputs": [
        {
          "output_type": "execute_result",
          "data": {
            "text/plain": [
              "\"modelo=Sequential()\\nmodelo.add(Conv2D(32, kernel_size=(3, 3),activation='relu',kernel_initializer='he_normal',input_shape=dim_entrada))\\nmodelo.add(Conv2D(32, kernel_size=(3, 3),activation='relu',kernel_initializer='he_normal'))\\nmodelo.add(MaxPool2D((2, 2)))\\nmodelo.add(Dropout(0.20))\\nmodelo.add(Conv2D(64, (3, 3), activation='relu',padding='same',kernel_initializer='he_normal'))\\nmodelo.add(Conv2D(64, (3, 3), activation='relu',padding='same',kernel_initializer='he_normal'))\\nmodelo.add(MaxPool2D(pool_size=(2, 2)))\\nmodelo.add(Dropout(0.25))\\nmodelo.add(Conv2D(128, (3, 3), activation='relu',padding='same',kernel_initializer='he_normal'))\\nmodelo.add(Dropout(0.25))\\nmodelo.add(Flatten())\\nmodelo.add(Dense(128, activation='relu'))\\nmodelo.add(BatchNormalization())\\nmodelo.add(Dropout(0.25))\\nmodelo.add(Dense(n_clases, activation='softmax'))\\nmodelo.compile(loss=keras.losses.categorical_crossentropy, optimizer=keras.optimizers.RMSprop(), metrics=['accuracy']) \\nreduccion_tasa_apr=ReduceLROnPlateau(monitor='val_acc', patience=3, verbose=1, factor=0.5, min_lr=0.0001)\""
            ]
          },
          "metadata": {
            "tags": []
          },
          "execution_count": 21
        }
      ]
    },
    {
      "cell_type": "code",
      "metadata": {
        "id": "qJpVkw8mn5MI",
        "colab_type": "code",
        "colab": {}
      },
      "source": [
        "'''def make_model():\n",
        "\n",
        "    model = Sequential()\n",
        "    \n",
        "    model.add(Conv2D(filters=32, kernel_size=(3, 3), padding='same', input_shape = dim_input, activation='relu'))\n",
        "    \n",
        "    model.add(Conv2D(filters=32, kernel_size=(3, 3), padding='same', activation='relu'))\n",
        "      \n",
        "    model.add(MaxPooling2D(pool_size=(2,2)))   \n",
        "    \n",
        "    model.add(Dropout(0.20))\n",
        "        \n",
        "    model.add(Conv2D(filters=64, kernel_size=(3, 3), activation='relu',padding='same',kernel_initializer='he_normal'))\n",
        "\n",
        "    model.add(Conv2D(filters=64, kernel_size=(3, 3), activation='relu',padding='same',kernel_initializer='he_normal'))\n",
        "    \n",
        "    model.add(MaxPooling2D(pool_size=(2, 2)))\n",
        "    \n",
        "    model.add(Dropout(0.25))\n",
        "\n",
        "    model.add(Conv2D(filters=128, kernel_size=(3, 3), activation='relu',padding='same',kernel_initializer='he_normal'))\n",
        "    \n",
        "    model.add(MaxPooling2D(pool_size=(2, 2)))\n",
        "\n",
        "    model.add(Dropout(0.25))\n",
        "    \n",
        "    model.add(Flatten())\n",
        "\n",
        "    model.add(Dense(32, activation='relu'))\n",
        "\n",
        "    model.add(Dropout(0.25))\n",
        "\n",
        "    model.add(Dense(n_clases, activation='softmax'))\n",
        "\n",
        "    return model\n",
        "\n",
        "#datagen.\n",
        "\n",
        "ACC = 0,08\n",
        "'''\n"
      ],
      "execution_count": 0,
      "outputs": []
    },
    {
      "cell_type": "code",
      "metadata": {
        "id": "Fyldionzn5MM",
        "colab_type": "code",
        "colab": {}
      },
      "source": [
        "def make_model():\n",
        "\n",
        "    model = Sequential()\n",
        "    \n",
        "    model.add(Conv2D(filters=32, kernel_size=(3, 3), padding='same', input_shape = dim_input, activation='relu'))\n",
        "    \n",
        "    model.add(MaxPooling2D(pool_size=(2,2)))   \n",
        "    \n",
        "    model.add(Conv2D(filters=64, kernel_size=(3, 3), padding='same', activation='relu'))\n",
        "      \n",
        "    model.add(MaxPooling2D(pool_size=(2,2)))   \n",
        "    \n",
        "    model.add(Dropout(0.20))\n",
        "        \n",
        "    model.add(Conv2D(filters=128, kernel_size=(3, 3), activation='relu',padding='same'))\n",
        "\n",
        "    model.add(Conv2D(filters=128, kernel_size=(3, 3), activation='relu',padding='same'))\n",
        "    \n",
        "    model.add(MaxPooling2D(pool_size=(2, 2)))\n",
        "    \n",
        "    model.add(Dropout(0.25))\n",
        "\n",
        "    model.add(Conv2D(filters=64, kernel_size=(3, 3), activation='relu',padding='same'))\n",
        "    \n",
        "    model.add(MaxPooling2D(pool_size=(2, 2)))\n",
        "\n",
        "    model.add(Dropout(0.25))\n",
        "    \n",
        "    model.add(Flatten())\n",
        "\n",
        "    model.add(Dense(64, activation='relu'))\n",
        "\n",
        "    model.add(Dropout(0.25))\n",
        "\n",
        "    model.add(Dense(n_clases, activation='softmax'))\n",
        "\n",
        "    return model\n",
        "\n",
        "#datagen.\n",
        "\n",
        "#ACC = 0,08\n"
      ],
      "execution_count": 0,
      "outputs": []
    },
    {
      "cell_type": "code",
      "metadata": {
        "id": "jNhiit6Nn5MO",
        "colab_type": "code",
        "colab": {
          "base_uri": "https://localhost:8080/",
          "height": 680
        },
        "outputId": "7450340a-4e53-4f5d-ed76-96d5faa863e7"
      },
      "source": [
        "model = make_model()\n",
        "model.summary()"
      ],
      "execution_count": 140,
      "outputs": [
        {
          "output_type": "stream",
          "text": [
            "_________________________________________________________________\n",
            "Layer (type)                 Output Shape              Param #   \n",
            "=================================================================\n",
            "conv2d_36 (Conv2D)           (None, 300, 250, 32)      320       \n",
            "_________________________________________________________________\n",
            "max_pooling2d_29 (MaxPooling (None, 150, 125, 32)      0         \n",
            "_________________________________________________________________\n",
            "conv2d_37 (Conv2D)           (None, 150, 125, 64)      18496     \n",
            "_________________________________________________________________\n",
            "max_pooling2d_30 (MaxPooling (None, 75, 62, 64)        0         \n",
            "_________________________________________________________________\n",
            "dropout_29 (Dropout)         (None, 75, 62, 64)        0         \n",
            "_________________________________________________________________\n",
            "conv2d_38 (Conv2D)           (None, 75, 62, 128)       73856     \n",
            "_________________________________________________________________\n",
            "conv2d_39 (Conv2D)           (None, 75, 62, 128)       147584    \n",
            "_________________________________________________________________\n",
            "max_pooling2d_31 (MaxPooling (None, 37, 31, 128)       0         \n",
            "_________________________________________________________________\n",
            "dropout_30 (Dropout)         (None, 37, 31, 128)       0         \n",
            "_________________________________________________________________\n",
            "conv2d_40 (Conv2D)           (None, 37, 31, 64)        73792     \n",
            "_________________________________________________________________\n",
            "max_pooling2d_32 (MaxPooling (None, 18, 15, 64)        0         \n",
            "_________________________________________________________________\n",
            "dropout_31 (Dropout)         (None, 18, 15, 64)        0         \n",
            "_________________________________________________________________\n",
            "flatten_8 (Flatten)          (None, 17280)             0         \n",
            "_________________________________________________________________\n",
            "dense_15 (Dense)             (None, 64)                1105984   \n",
            "_________________________________________________________________\n",
            "dropout_32 (Dropout)         (None, 64)                0         \n",
            "_________________________________________________________________\n",
            "dense_16 (Dense)             (None, 9)                 585       \n",
            "=================================================================\n",
            "Total params: 1,420,617\n",
            "Trainable params: 1,420,617\n",
            "Non-trainable params: 0\n",
            "_________________________________________________________________\n"
          ],
          "name": "stdout"
        }
      ]
    },
    {
      "cell_type": "code",
      "metadata": {
        "id": "1LmrHgR7n5MR",
        "colab_type": "code",
        "colab": {}
      },
      "source": [
        "INIT_LR = 5e-3  # initial learning rate\n",
        "BATCH_SIZE = 12\n",
        "#EPOCHS = 25"
      ],
      "execution_count": 0,
      "outputs": []
    },
    {
      "cell_type": "code",
      "metadata": {
        "id": "UDx3_m8Tn5MU",
        "colab_type": "code",
        "colab": {}
      },
      "source": [
        "model.compile(\n",
        "    loss='categorical_crossentropy',  # we train 10-way classification\n",
        "    optimizer=keras.optimizers.adamax(lr=INIT_LR),  # for SGD\n",
        "    metrics=['accuracy']  # report accuracy during training\n",
        ")\n"
      ],
      "execution_count": 0,
      "outputs": []
    },
    {
      "cell_type": "code",
      "metadata": {
        "id": "3wUfHzQ2n5MX",
        "colab_type": "code",
        "colab": {}
      },
      "source": [
        ""
      ],
      "execution_count": 0,
      "outputs": []
    },
    {
      "cell_type": "code",
      "metadata": {
        "id": "RaLgdJdgn5Ma",
        "colab_type": "code",
        "colab": {}
      },
      "source": [
        "#model.fit_generator(datagen, steps_per_epoch = len(datagen), epochs=10)"
      ],
      "execution_count": 0,
      "outputs": []
    },
    {
      "cell_type": "code",
      "metadata": {
        "id": "YfODR_Tfn5Md",
        "colab_type": "code",
        "colab": {}
      },
      "source": [
        "test_datagen = ImageDataGenerator(\n",
        "        rescale=1./255,\n",
        "        #shear_range=0.2,\n",
        "        #zoom_range=0.2,\n",
        "        #horizontal_flip=True)\n",
        "        featurewise_center=False,               # se pone la media a 0 en todo el dataset\n",
        "        samplewise_center=False,                # se pone la media a 0 de la muestra\n",
        "        featurewise_std_normalization=False,    # se divide entre la std del dataset\n",
        "        samplewise_std_normalization=False,     # se divide cada entrada entre std\n",
        "        zca_whitening=False,                    # ZCA whitening, reduccion de dimensiones (similar a PCA)\n",
        "        rotation_range=15,                      # se rotan las imagenes aleatoriamente (de 0 a 180 grados)\n",
        "        zoom_range=0.1,                         # zoom aleatorio \n",
        "        width_shift_range=0.1,                  # cambio aleatorio horizontal (fraccion del ancho total)\n",
        "        height_shift_range=0.1,                 # cambio aleatorio vertical (fraccion de la altura total)\n",
        "        horizontal_flip=False,                  # giro aleatorio horizantal                           \n",
        "        vertical_flip=False) \n"
      ],
      "execution_count": 0,
      "outputs": []
    },
    {
      "cell_type": "code",
      "metadata": {
        "id": "0bRP_Vgtn5Mf",
        "colab_type": "code",
        "colab": {
          "base_uri": "https://localhost:8080/",
          "height": 34
        },
        "outputId": "a2c62485-8e1b-45ce-83ac-ead5cd2f0520"
      },
      "source": [
        "test_set = test_datagen.flow_from_directory('//content/drive/My Drive/Pocas_categorias/Test_set', \n",
        "                    target_size=(300, 250), shuffle = True, color_mode='grayscale',batch_size=32)"
      ],
      "execution_count": 136,
      "outputs": [
        {
          "output_type": "stream",
          "text": [
            "Found 116 images belonging to 9 classes.\n"
          ],
          "name": "stdout"
        }
      ]
    },
    {
      "cell_type": "code",
      "metadata": {
        "id": "DjvlbF77n5Mi",
        "colab_type": "code",
        "colab": {}
      },
      "source": [
        "DataDir_test = \"/content/drive/My Drive/Pocas_categorias/Test_set\"\n",
        "\n",
        "categories_test = ['Amstel', 'Cruzcampo', 'Estrella_damm', 'Estrella_galicia', 'Franziskaner', 'Heineken','Mahou', 'Pilsen_urquell','Sanmiguel']"
      ],
      "execution_count": 0,
      "outputs": []
    },
    {
      "cell_type": "code",
      "metadata": {
        "id": "EFYUifYmn5Mo",
        "colab_type": "code",
        "colab": {
          "base_uri": "https://localhost:8080/",
          "height": 269
        },
        "outputId": "c64875dc-d709-4cef-cce7-8d2b7ed41ced"
      },
      "source": [
        "img_ancho = 250\n",
        "img_alto = 300\n",
        "\n",
        "for category in categories_test:\n",
        "    path = os.path.join(DataDir_test, category)\n",
        "    for img in os.listdir(path):\n",
        "        img_array = cv2.imread(os.path.join(path,img), cv2.IMREAD_GRAYSCALE)\n",
        "        new_array =cv2.resize(img_array, (img_ancho, img_alto))\n",
        "        plt.imshow(new_array, cmap ='gray')\n",
        "        plt.show\n"
      ],
      "execution_count": 123,
      "outputs": [
        {
          "output_type": "display_data",
          "data": {
            "image/png": "[encoded data removed]",
            "text/plain": [
              "<Figure size 432x288 with 1 Axes>"
            ]
          },
          "metadata": {
            "tags": []
          }
        }
      ]
    },
    {
      "cell_type": "code",
      "metadata": {
        "id": "tUvDLB4An5Mu",
        "colab_type": "code",
        "colab": {
          "base_uri": "https://localhost:8080/",
          "height": 34
        },
        "outputId": "de6e9712-705b-4563-9c0e-3e82dfbfb111"
      },
      "source": [
        "test_set"
      ],
      "execution_count": 37,
      "outputs": [
        {
          "output_type": "execute_result",
          "data": {
            "text/plain": [
              "<keras_preprocessing.image.directory_iterator.DirectoryIterator at 0x7f4112ad92b0>"
            ]
          },
          "metadata": {
            "tags": []
          },
          "execution_count": 37
        }
      ]
    },
    {
      "cell_type": "code",
      "metadata": {
        "id": "SRvha3kgn5Mx",
        "colab_type": "code",
        "colab": {}
      },
      "source": [
        ""
      ],
      "execution_count": 0,
      "outputs": []
    },
    {
      "cell_type": "code",
      "metadata": {
        "id": "xYLKq5Bnn5M0",
        "colab_type": "code",
        "colab": {
          "base_uri": "https://localhost:8080/",
          "height": 1000
        },
        "outputId": "b5ad10e5-9f39-48a2-a065-ac05e6d42888"
      },
      "source": [
        "model.fit_generator(training_set,\n",
        "steps_per_epoch = len(training_set), epochs=150)\n",
        "#validation_split=0.1)\n",
        "#validation_data = test_set, validation_steps=len(test_set)"
      ],
      "execution_count": 235,
      "outputs": [
        {
          "output_type": "stream",
          "text": [
            "Epoch 1/150\n",
            "28/28 [==============================] - 6s 227ms/step - loss: 0.0797 - acc: 0.9754\n",
            "Epoch 2/150\n",
            "28/28 [==============================] - 7s 232ms/step - loss: 0.0490 - acc: 0.9830\n",
            "Epoch 3/150\n",
            "28/28 [==============================] - 7s 234ms/step - loss: 0.0613 - acc: 0.9830\n",
            "Epoch 4/150\n",
            "28/28 [==============================] - 7s 237ms/step - loss: 0.0866 - acc: 0.9726\n",
            "Epoch 5/150\n",
            "28/28 [==============================] - 7s 236ms/step - loss: 0.0559 - acc: 0.9810\n",
            "Epoch 6/150\n",
            "28/28 [==============================] - 7s 237ms/step - loss: 0.0532 - acc: 0.9855\n",
            "Epoch 7/150\n",
            "28/28 [==============================] - 7s 238ms/step - loss: 0.0674 - acc: 0.9754\n",
            "Epoch 8/150\n",
            "28/28 [==============================] - 7s 238ms/step - loss: 0.0755 - acc: 0.9751\n",
            "Epoch 9/150\n",
            "28/28 [==============================] - 7s 238ms/step - loss: 0.0609 - acc: 0.9743\n",
            "Epoch 10/150\n",
            "28/28 [==============================] - 7s 237ms/step - loss: 0.0574 - acc: 0.9863\n",
            "Epoch 11/150\n",
            "28/28 [==============================] - 7s 237ms/step - loss: 0.0902 - acc: 0.9754\n",
            "Epoch 12/150\n",
            "28/28 [==============================] - 7s 237ms/step - loss: 0.0672 - acc: 0.9796\n",
            "Epoch 13/150\n",
            "28/28 [==============================] - 7s 240ms/step - loss: 0.0766 - acc: 0.9743\n",
            "Epoch 14/150\n",
            "28/28 [==============================] - 7s 240ms/step - loss: 0.0808 - acc: 0.9766\n",
            "Epoch 15/150\n",
            "28/28 [==============================] - 7s 240ms/step - loss: 0.0637 - acc: 0.9821\n",
            "Epoch 16/150\n",
            "28/28 [==============================] - 7s 239ms/step - loss: 0.0466 - acc: 0.9855\n",
            "Epoch 17/150\n",
            "28/28 [==============================] - 7s 240ms/step - loss: 0.0737 - acc: 0.9763\n",
            "Epoch 18/150\n",
            "28/28 [==============================] - 7s 240ms/step - loss: 0.0969 - acc: 0.9687\n",
            "Epoch 19/150\n",
            "28/28 [==============================] - 7s 241ms/step - loss: 0.0600 - acc: 0.9877\n",
            "Epoch 20/150\n",
            "28/28 [==============================] - 7s 237ms/step - loss: 0.0582 - acc: 0.9788\n",
            "Epoch 21/150\n",
            "28/28 [==============================] - 7s 239ms/step - loss: 0.0632 - acc: 0.9763\n",
            "Epoch 22/150\n",
            "28/28 [==============================] - 7s 241ms/step - loss: 0.0689 - acc: 0.9821\n",
            "Epoch 23/150\n",
            "28/28 [==============================] - 7s 237ms/step - loss: 0.0477 - acc: 0.9810\n",
            "Epoch 24/150\n",
            "28/28 [==============================] - 7s 237ms/step - loss: 0.0797 - acc: 0.9815\n",
            "Epoch 25/150\n",
            "28/28 [==============================] - 7s 237ms/step - loss: 0.0825 - acc: 0.9785\n",
            "Epoch 26/150\n",
            "28/28 [==============================] - 7s 241ms/step - loss: 0.0287 - acc: 0.9933\n",
            "Epoch 27/150\n",
            "28/28 [==============================] - 7s 239ms/step - loss: 0.0529 - acc: 0.9841\n",
            "Epoch 28/150\n",
            "28/28 [==============================] - 7s 240ms/step - loss: 0.0627 - acc: 0.9766\n",
            "Epoch 29/150\n",
            "28/28 [==============================] - 7s 239ms/step - loss: 0.0606 - acc: 0.9754\n",
            "Epoch 30/150\n",
            "28/28 [==============================] - 7s 239ms/step - loss: 0.0791 - acc: 0.9729\n",
            "Epoch 31/150\n",
            "28/28 [==============================] - 7s 245ms/step - loss: 0.0491 - acc: 0.9821\n",
            "Epoch 32/150\n",
            "28/28 [==============================] - 7s 239ms/step - loss: 0.0575 - acc: 0.9788\n",
            "Epoch 33/150\n",
            "28/28 [==============================] - 7s 239ms/step - loss: 0.0469 - acc: 0.9810\n",
            "Epoch 34/150\n",
            "28/28 [==============================] - 7s 241ms/step - loss: 0.0325 - acc: 0.9885\n",
            "Epoch 35/150\n",
            "28/28 [==============================] - 7s 242ms/step - loss: 0.0546 - acc: 0.9833\n",
            "Epoch 36/150\n",
            "28/28 [==============================] - 7s 242ms/step - loss: 0.0465 - acc: 0.9877\n",
            "Epoch 37/150\n",
            "28/28 [==============================] - 7s 242ms/step - loss: 0.0385 - acc: 0.9877\n",
            "Epoch 38/150\n",
            "28/28 [==============================] - 7s 240ms/step - loss: 0.0461 - acc: 0.9877\n",
            "Epoch 39/150\n",
            "28/28 [==============================] - 7s 239ms/step - loss: 0.0531 - acc: 0.9796\n",
            "Epoch 40/150\n",
            "28/28 [==============================] - 7s 246ms/step - loss: 0.0739 - acc: 0.9777\n",
            "Epoch 41/150\n",
            "28/28 [==============================] - 7s 242ms/step - loss: 0.0348 - acc: 0.9874\n",
            "Epoch 42/150\n",
            "28/28 [==============================] - 7s 248ms/step - loss: 0.0522 - acc: 0.9799\n",
            "Epoch 43/150\n",
            "28/28 [==============================] - 7s 245ms/step - loss: 0.0667 - acc: 0.9766\n",
            "Epoch 44/150\n",
            "28/28 [==============================] - 7s 249ms/step - loss: 0.0678 - acc: 0.9796\n",
            "Epoch 45/150\n",
            "28/28 [==============================] - 7s 247ms/step - loss: 0.0336 - acc: 0.9922\n",
            "Epoch 46/150\n",
            "28/28 [==============================] - 7s 239ms/step - loss: 0.0800 - acc: 0.9721\n",
            "Epoch 47/150\n",
            "28/28 [==============================] - 7s 240ms/step - loss: 0.1092 - acc: 0.9721\n",
            "Epoch 48/150\n",
            "28/28 [==============================] - 7s 239ms/step - loss: 0.1194 - acc: 0.9609\n",
            "Epoch 49/150\n",
            "28/28 [==============================] - 7s 243ms/step - loss: 0.0528 - acc: 0.9788\n",
            "Epoch 50/150\n",
            "28/28 [==============================] - 7s 241ms/step - loss: 0.1120 - acc: 0.9723\n",
            "Epoch 51/150\n",
            "28/28 [==============================] - 7s 238ms/step - loss: 0.0335 - acc: 0.9955\n",
            "Epoch 52/150\n",
            "28/28 [==============================] - 7s 242ms/step - loss: 0.0534 - acc: 0.9830\n",
            "Epoch 53/150\n",
            "28/28 [==============================] - 7s 248ms/step - loss: 0.0860 - acc: 0.9799\n",
            "Epoch 54/150\n",
            "28/28 [==============================] - 7s 245ms/step - loss: 0.0394 - acc: 0.9900\n",
            "Epoch 55/150\n",
            "28/28 [==============================] - 7s 243ms/step - loss: 0.0385 - acc: 0.9888\n",
            "Epoch 56/150\n",
            "28/28 [==============================] - 7s 238ms/step - loss: 0.0373 - acc: 0.9866\n",
            "Epoch 57/150\n",
            "28/28 [==============================] - 7s 240ms/step - loss: 0.0379 - acc: 0.9900\n",
            "Epoch 58/150\n",
            "28/28 [==============================] - 7s 240ms/step - loss: 0.0531 - acc: 0.9818\n",
            "Epoch 59/150\n",
            "28/28 [==============================] - 7s 239ms/step - loss: 0.0576 - acc: 0.9844\n",
            "Epoch 60/150\n",
            "28/28 [==============================] - 7s 237ms/step - loss: 0.0462 - acc: 0.9844\n",
            "Epoch 61/150\n",
            "28/28 [==============================] - 7s 239ms/step - loss: 0.0369 - acc: 0.9900\n",
            "Epoch 62/150\n",
            "28/28 [==============================] - 7s 239ms/step - loss: 0.0395 - acc: 0.9908\n",
            "Epoch 63/150\n",
            "28/28 [==============================] - 7s 239ms/step - loss: 0.0547 - acc: 0.9855\n",
            "Epoch 64/150\n",
            "28/28 [==============================] - 7s 239ms/step - loss: 0.0449 - acc: 0.9877\n",
            "Epoch 65/150\n",
            "28/28 [==============================] - 7s 236ms/step - loss: 0.0350 - acc: 0.9911\n",
            "Epoch 66/150\n",
            "28/28 [==============================] - 7s 238ms/step - loss: 0.0445 - acc: 0.9833\n",
            "Epoch 67/150\n",
            "28/28 [==============================] - 7s 242ms/step - loss: 0.0451 - acc: 0.9882\n",
            "Epoch 68/150\n",
            "28/28 [==============================] - 7s 238ms/step - loss: 0.0453 - acc: 0.9897\n",
            "Epoch 69/150\n",
            "28/28 [==============================] - 7s 237ms/step - loss: 0.0568 - acc: 0.9807\n",
            "Epoch 70/150\n",
            "28/28 [==============================] - 7s 240ms/step - loss: 0.0544 - acc: 0.9821\n",
            "Epoch 71/150\n",
            "28/28 [==============================] - 7s 240ms/step - loss: 0.0181 - acc: 0.9967\n",
            "Epoch 72/150\n",
            "28/28 [==============================] - 7s 242ms/step - loss: 0.0490 - acc: 0.9866\n",
            "Epoch 73/150\n",
            "28/28 [==============================] - 7s 241ms/step - loss: 0.0336 - acc: 0.9866\n",
            "Epoch 74/150\n",
            "28/28 [==============================] - 7s 239ms/step - loss: 0.0391 - acc: 0.9852\n",
            "Epoch 75/150\n",
            "28/28 [==============================] - 7s 243ms/step - loss: 0.0312 - acc: 0.9900\n",
            "Epoch 76/150\n",
            "28/28 [==============================] - 7s 243ms/step - loss: 0.0106 - acc: 0.9989\n",
            "Epoch 77/150\n",
            "28/28 [==============================] - 7s 239ms/step - loss: 0.0300 - acc: 0.9888\n",
            "Epoch 78/150\n",
            "28/28 [==============================] - 7s 242ms/step - loss: 0.0906 - acc: 0.9743\n",
            "Epoch 79/150\n",
            "28/28 [==============================] - 7s 242ms/step - loss: 0.0705 - acc: 0.9855\n",
            "Epoch 80/150\n",
            "28/28 [==============================] - 7s 240ms/step - loss: 0.0288 - acc: 0.9919\n",
            "Epoch 81/150\n",
            "28/28 [==============================] - 7s 241ms/step - loss: 0.0278 - acc: 0.9888\n",
            "Epoch 82/150\n",
            "28/28 [==============================] - 7s 243ms/step - loss: 0.0268 - acc: 0.9900\n",
            "Epoch 83/150\n",
            "28/28 [==============================] - 7s 240ms/step - loss: 0.0537 - acc: 0.9833\n",
            "Epoch 84/150\n",
            "28/28 [==============================] - 7s 239ms/step - loss: 0.0300 - acc: 0.9855\n",
            "Epoch 85/150\n",
            "28/28 [==============================] - 7s 242ms/step - loss: 0.0203 - acc: 0.9911\n",
            "Epoch 86/150\n",
            "28/28 [==============================] - 7s 242ms/step - loss: 0.0563 - acc: 0.9830\n",
            "Epoch 87/150\n",
            "28/28 [==============================] - 7s 245ms/step - loss: 0.0649 - acc: 0.9807\n",
            "Epoch 88/150\n",
            "28/28 [==============================] - 7s 242ms/step - loss: 0.0553 - acc: 0.9844\n",
            "Epoch 89/150\n",
            "28/28 [==============================] - 7s 242ms/step - loss: 0.0398 - acc: 0.9877\n",
            "Epoch 90/150\n",
            "28/28 [==============================] - 7s 248ms/step - loss: 0.0522 - acc: 0.9810\n",
            "Epoch 91/150\n",
            "28/28 [==============================] - 7s 248ms/step - loss: 0.0513 - acc: 0.9888\n",
            "Epoch 92/150\n",
            "28/28 [==============================] - 7s 241ms/step - loss: 0.0393 - acc: 0.9863\n",
            "Epoch 93/150\n",
            "28/28 [==============================] - 7s 240ms/step - loss: 0.0587 - acc: 0.9810\n",
            "Epoch 94/150\n",
            "28/28 [==============================] - 7s 241ms/step - loss: 0.0165 - acc: 0.9978\n",
            "Epoch 95/150\n",
            "28/28 [==============================] - 7s 239ms/step - loss: 0.0417 - acc: 0.9866\n",
            "Epoch 96/150\n",
            "28/28 [==============================] - 7s 241ms/step - loss: 0.0315 - acc: 0.9888\n",
            "Epoch 97/150\n",
            "28/28 [==============================] - 7s 240ms/step - loss: 0.0166 - acc: 0.9944\n",
            "Epoch 98/150\n",
            "28/28 [==============================] - 7s 240ms/step - loss: 0.0322 - acc: 0.9893\n",
            "Epoch 99/150\n",
            "28/28 [==============================] - 7s 244ms/step - loss: 0.0562 - acc: 0.9866\n",
            "Epoch 100/150\n",
            "28/28 [==============================] - 7s 240ms/step - loss: 0.0413 - acc: 0.9852\n",
            "Epoch 101/150\n",
            "28/28 [==============================] - 7s 240ms/step - loss: 0.0285 - acc: 0.9885\n",
            "Epoch 102/150\n",
            "28/28 [==============================] - 7s 244ms/step - loss: 0.0255 - acc: 0.9922\n",
            "Epoch 103/150\n",
            "28/28 [==============================] - 7s 243ms/step - loss: 0.0540 - acc: 0.9888\n",
            "Epoch 104/150\n",
            "28/28 [==============================] - 7s 240ms/step - loss: 0.0179 - acc: 0.9944\n",
            "Epoch 105/150\n",
            "28/28 [==============================] - 7s 240ms/step - loss: 0.0411 - acc: 0.9866\n",
            "Epoch 106/150\n",
            "28/28 [==============================] - 7s 238ms/step - loss: 0.0378 - acc: 0.9877\n",
            "Epoch 107/150\n",
            "28/28 [==============================] - 7s 239ms/step - loss: 0.0622 - acc: 0.9785\n",
            "Epoch 108/150\n",
            "28/28 [==============================] - 7s 242ms/step - loss: 0.0538 - acc: 0.9833\n",
            "Epoch 109/150\n",
            "28/28 [==============================] - 7s 238ms/step - loss: 0.0401 - acc: 0.9874\n",
            "Epoch 110/150\n",
            "28/28 [==============================] - 7s 239ms/step - loss: 0.0494 - acc: 0.9866\n",
            "Epoch 111/150\n",
            "28/28 [==============================] - 7s 239ms/step - loss: 0.0366 - acc: 0.9874\n",
            "Epoch 112/150\n",
            "28/28 [==============================] - 7s 239ms/step - loss: 0.0284 - acc: 0.9911\n",
            "Epoch 113/150\n",
            "28/28 [==============================] - 7s 240ms/step - loss: 0.0213 - acc: 0.9922\n",
            "Epoch 114/150\n",
            "28/28 [==============================] - 7s 239ms/step - loss: 0.0209 - acc: 0.9933\n",
            "Epoch 115/150\n",
            "28/28 [==============================] - 7s 241ms/step - loss: 0.0259 - acc: 0.9922\n",
            "Epoch 116/150\n",
            "28/28 [==============================] - 7s 238ms/step - loss: 0.0168 - acc: 0.9955\n",
            "Epoch 117/150\n",
            "28/28 [==============================] - 7s 240ms/step - loss: 0.0368 - acc: 0.9888\n",
            "Epoch 118/150\n",
            "28/28 [==============================] - 7s 238ms/step - loss: 0.0533 - acc: 0.9874\n",
            "Epoch 119/150\n",
            "28/28 [==============================] - 7s 238ms/step - loss: 0.0388 - acc: 0.9877\n",
            "Epoch 120/150\n",
            "28/28 [==============================] - 7s 239ms/step - loss: 0.0271 - acc: 0.9908\n",
            "Epoch 121/150\n",
            "28/28 [==============================] - 7s 240ms/step - loss: 0.0534 - acc: 0.9841\n",
            "Epoch 122/150\n",
            "28/28 [==============================] - 7s 239ms/step - loss: 0.0396 - acc: 0.9900\n",
            "Epoch 123/150\n",
            "28/28 [==============================] - 7s 240ms/step - loss: 0.0532 - acc: 0.9841\n",
            "Epoch 124/150\n",
            "28/28 [==============================] - 7s 241ms/step - loss: 0.0155 - acc: 0.9944\n",
            "Epoch 125/150\n",
            "28/28 [==============================] - 7s 239ms/step - loss: 0.0238 - acc: 0.9944\n",
            "Epoch 126/150\n",
            "28/28 [==============================] - 7s 242ms/step - loss: 0.0217 - acc: 0.9944\n",
            "Epoch 127/150\n",
            "28/28 [==============================] - 7s 241ms/step - loss: 0.0394 - acc: 0.9877\n",
            "Epoch 128/150\n",
            "28/28 [==============================] - 7s 238ms/step - loss: 0.0310 - acc: 0.9855\n",
            "Epoch 129/150\n",
            "28/28 [==============================] - 7s 241ms/step - loss: 0.0626 - acc: 0.9833\n",
            "Epoch 130/150\n",
            "28/28 [==============================] - 7s 242ms/step - loss: 0.0825 - acc: 0.9748\n",
            "Epoch 131/150\n",
            "28/28 [==============================] - 7s 242ms/step - loss: 0.0422 - acc: 0.9855\n",
            "Epoch 132/150\n",
            "28/28 [==============================] - 7s 239ms/step - loss: 0.0627 - acc: 0.9844\n",
            "Epoch 133/150\n",
            "28/28 [==============================] - 7s 244ms/step - loss: 0.0396 - acc: 0.9877\n",
            "Epoch 134/150\n",
            "28/28 [==============================] - 7s 239ms/step - loss: 0.0300 - acc: 0.9933\n",
            "Epoch 135/150\n",
            "28/28 [==============================] - 7s 240ms/step - loss: 0.0157 - acc: 0.9967\n",
            "Epoch 136/150\n",
            "28/28 [==============================] - 7s 241ms/step - loss: 0.0261 - acc: 0.9888\n",
            "Epoch 137/150\n",
            "28/28 [==============================] - 7s 246ms/step - loss: 0.0468 - acc: 0.9863\n",
            "Epoch 138/150\n",
            "28/28 [==============================] - 7s 243ms/step - loss: 0.0250 - acc: 0.9877\n",
            "Epoch 139/150\n",
            "28/28 [==============================] - 7s 243ms/step - loss: 0.0296 - acc: 0.9908\n",
            "Epoch 140/150\n",
            "28/28 [==============================] - 7s 238ms/step - loss: 0.0168 - acc: 0.9933\n",
            "Epoch 141/150\n",
            "28/28 [==============================] - 7s 238ms/step - loss: 0.0286 - acc: 0.9877\n",
            "Epoch 142/150\n",
            "28/28 [==============================] - 7s 241ms/step - loss: 0.0152 - acc: 0.9967\n",
            "Epoch 143/150\n",
            "28/28 [==============================] - 7s 241ms/step - loss: 0.0148 - acc: 0.9944\n",
            "Epoch 144/150\n",
            "28/28 [==============================] - 7s 241ms/step - loss: 0.0367 - acc: 0.9944\n",
            "Epoch 145/150\n",
            "28/28 [==============================] - 7s 238ms/step - loss: 0.0453 - acc: 0.9908\n",
            "Epoch 146/150\n",
            "28/28 [==============================] - 7s 238ms/step - loss: 0.0873 - acc: 0.9732\n",
            "Epoch 147/150\n",
            "28/28 [==============================] - 7s 240ms/step - loss: 0.0232 - acc: 0.9908\n",
            "Epoch 148/150\n",
            "28/28 [==============================] - 7s 240ms/step - loss: 0.0446 - acc: 0.9841\n",
            "Epoch 149/150\n",
            "28/28 [==============================] - 7s 240ms/step - loss: 0.0210 - acc: 0.9930\n",
            "Epoch 150/150\n",
            "28/28 [==============================] - 7s 242ms/step - loss: 0.0245 - acc: 0.9941\n"
          ],
          "name": "stdout"
        },
        {
          "output_type": "execute_result",
          "data": {
            "text/plain": [
              "<keras.callbacks.History at 0x7f410e6f39e8>"
            ]
          },
          "metadata": {
            "tags": []
          },
          "execution_count": 235
        }
      ]
    },
    {
      "cell_type": "code",
      "metadata": {
        "id": "AM6KhcPas4RB",
        "colab_type": "code",
        "colab": {
          "base_uri": "https://localhost:8080/",
          "height": 51
        },
        "outputId": "3e062496-4d81-4495-e491-05ab33600d78"
      },
      "source": [
        "model.evaluate_generator(test_set, steps=len(test_set), verbose=1)"
      ],
      "execution_count": 144,
      "outputs": [
        {
          "output_type": "stream",
          "text": [
            "4/4 [==============================] - 1s 193ms/step\n"
          ],
          "name": "stdout"
        },
        {
          "output_type": "execute_result",
          "data": {
            "text/plain": [
              "[0.16166335755381092, 0.9482758579583004]"
            ]
          },
          "metadata": {
            "tags": []
          },
          "execution_count": 144
        }
      ]
    },
    {
      "cell_type": "code",
      "metadata": {
        "id": "6z3cOzu4TCBI",
        "colab_type": "code",
        "colab": {
          "base_uri": "https://localhost:8080/",
          "height": 170
        },
        "outputId": "09f5c327-9b6e-4a20-bc13-df1e29e466e1"
      },
      "source": [
        "\n",
        "prob_clasi = model.predict_generator(test_set, steps = len(test_set), max_queue_size=10, workers=1, use_multiprocessing=False, verbose=0)\n",
        "\n",
        "classes_1 = [np.argmax(prob_clasi[i]) for i in range(len(prob_clasi))]\n",
        "np.argmax(prob_clasi[0])\n",
        "test_set.class_indices"
      ],
      "execution_count": 202,
      "outputs": [
        {
          "output_type": "execute_result",
          "data": {
            "text/plain": [
              "{'Amstel': 0,\n",
              " 'Cruzcampo': 1,\n",
              " 'Estrella_damm': 2,\n",
              " 'Estrella_galicia': 3,\n",
              " 'Franziskaner': 4,\n",
              " 'Heineken': 5,\n",
              " 'Mahou': 6,\n",
              " 'Pilsen_urquell': 7,\n",
              " 'Sanmiguel': 8}"
            ]
          },
          "metadata": {
            "tags": []
          },
          "execution_count": 202
        }
      ]
    },
    {
      "cell_type": "code",
      "metadata": {
        "id": "jOST4CmM0mM6",
        "colab_type": "code",
        "colab": {
          "base_uri": "https://localhost:8080/",
          "height": 68
        },
        "outputId": "e834a319-740b-45d4-a7bc-499dd3a538c5"
      },
      "source": [
        "prob_clasi[0]"
      ],
      "execution_count": 258,
      "outputs": [
        {
          "output_type": "execute_result",
          "data": {
            "text/plain": [
              "array([2.6535126e-06, 9.9942243e-01, 5.2000100e-06, 1.6569491e-08,\n",
              "       3.4774411e-10, 7.5393345e-08, 5.6436541e-04, 4.7134349e-06,\n",
              "       5.3717548e-07], dtype=float32)"
            ]
          },
          "metadata": {
            "tags": []
          },
          "execution_count": 258
        }
      ]
    },
    {
      "cell_type": "code",
      "metadata": {
        "id": "LdPGQwirpgIp",
        "colab_type": "code",
        "colab": {
          "base_uri": "https://localhost:8080/",
          "height": 170
        },
        "outputId": "44a50006-b01e-4fa3-c202-45f1d74b222c"
      },
      "source": [
        "test_set.class_indices\n",
        "\n",
        "for c, value in enumerate(test_set.class_indices, 0):\n",
        "    print(c, value)\n",
        "\n",
        "# Output:\n",
        "# 1 apple\n",
        "# 2 banana\n",
        "# 3 grapes\n",
        "# 4 pear"
      ],
      "execution_count": 287,
      "outputs": [
        {
          "output_type": "stream",
          "text": [
            "0 Amstel\n",
            "1 Cruzcampo\n",
            "2 Estrella_damm\n",
            "3 Estrella_galicia\n",
            "4 Franziskaner\n",
            "5 Heineken\n",
            "6 Mahou\n",
            "7 Pilsen_urquell\n",
            "8 Sanmiguel\n"
          ],
          "name": "stdout"
        }
      ]
    },
    {
      "cell_type": "code",
      "metadata": {
        "id": "RioFiOph0YXd",
        "colab_type": "code",
        "colab": {
          "base_uri": "https://localhost:8080/",
          "height": 68
        },
        "outputId": "8da08b00-51e5-4f2d-f5a1-38108090c8db"
      },
      "source": [
        "prob_clasi[1]"
      ],
      "execution_count": 284,
      "outputs": [
        {
          "output_type": "execute_result",
          "data": {
            "text/plain": [
              "array([1.3871511e-05, 5.6282324e-03, 2.5376714e-06, 3.0902874e-07,\n",
              "       6.2879082e-04, 3.0368942e-06, 9.1015630e-05, 9.9169987e-01,\n",
              "       1.9321679e-03], dtype=float32)"
            ]
          },
          "metadata": {
            "tags": []
          },
          "execution_count": 284
        }
      ]
    },
    {
      "cell_type": "code",
      "metadata": {
        "id": "1alU4xQGgK6i",
        "colab_type": "code",
        "colab": {
          "base_uri": "https://localhost:8080/",
          "height": 527
        },
        "outputId": "bf5b1437-7930-424d-8b67-efaca2a98745"
      },
      "source": [
        "plt.figure(figsize=(200,100))\n",
        "for i in range(0,32): \n",
        "  plt.subplot(32,32,i+1)\n",
        "  print(prob_clasi[i].max())\n",
        "  plt.imshow(test_set[0][0][i][:].reshape(300,250))\n",
        "  #for name in test_set.class_indices:\n",
        "   # if test_set.class_indices[name]==np.argmax(prob_clasi[i]):\n",
        "    #  print(name)\n"
      ],
      "execution_count": 283,
      "outputs": [
        {
          "output_type": "error",
          "ename": "TypeError",
          "evalue": "ignored",
          "traceback": [
            "\u001b[0;31m---------------------------------------------------------------------------\u001b[0m",
            "\u001b[0;31mTypeError\u001b[0m                                 Traceback (most recent call last)",
            "\u001b[0;32m<ipython-input-283-0bd68ce4ab71>\u001b[0m in \u001b[0;36m<module>\u001b[0;34m()\u001b[0m\n\u001b[1;32m      2\u001b[0m \u001b[0;32mfor\u001b[0m \u001b[0mi\u001b[0m \u001b[0;32min\u001b[0m \u001b[0mrange\u001b[0m\u001b[0;34m(\u001b[0m\u001b[0;36m0\u001b[0m\u001b[0;34m,\u001b[0m\u001b[0;36m32\u001b[0m\u001b[0;34m)\u001b[0m\u001b[0;34m:\u001b[0m\u001b[0;34m\u001b[0m\u001b[0;34m\u001b[0m\u001b[0m\n\u001b[1;32m      3\u001b[0m   \u001b[0mplt\u001b[0m\u001b[0;34m.\u001b[0m\u001b[0msubplot\u001b[0m\u001b[0;34m(\u001b[0m\u001b[0;36m32\u001b[0m\u001b[0;34m,\u001b[0m\u001b[0;36m32\u001b[0m\u001b[0;34m,\u001b[0m\u001b[0mi\u001b[0m\u001b[0;34m+\u001b[0m\u001b[0;36m1\u001b[0m\u001b[0;34m)\u001b[0m\u001b[0;34m\u001b[0m\u001b[0;34m\u001b[0m\u001b[0m\n\u001b[0;32m----> 4\u001b[0;31m   \u001b[0mprint\u001b[0m\u001b[0;34m(\u001b[0m\u001b[0mprob_clasi\u001b[0m\u001b[0;34m[\u001b[0m\u001b[0mi\u001b[0m\u001b[0;34m]\u001b[0m\u001b[0;34m.\u001b[0m\u001b[0mmax\u001b[0m\u001b[0;34m(\u001b[0m\u001b[0mtest_set\u001b[0m\u001b[0;34m.\u001b[0m\u001b[0mclass_indices\u001b[0m\u001b[0;34m)\u001b[0m\u001b[0;34m)\u001b[0m\u001b[0;34m\u001b[0m\u001b[0;34m\u001b[0m\u001b[0m\n\u001b[0m\u001b[1;32m      5\u001b[0m   \u001b[0mplt\u001b[0m\u001b[0;34m.\u001b[0m\u001b[0mimshow\u001b[0m\u001b[0;34m(\u001b[0m\u001b[0mtest_set\u001b[0m\u001b[0;34m[\u001b[0m\u001b[0;36m0\u001b[0m\u001b[0;34m]\u001b[0m\u001b[0;34m[\u001b[0m\u001b[0;36m0\u001b[0m\u001b[0;34m]\u001b[0m\u001b[0;34m[\u001b[0m\u001b[0mi\u001b[0m\u001b[0;34m]\u001b[0m\u001b[0;34m[\u001b[0m\u001b[0;34m:\u001b[0m\u001b[0;34m]\u001b[0m\u001b[0;34m.\u001b[0m\u001b[0mreshape\u001b[0m\u001b[0;34m(\u001b[0m\u001b[0;36m300\u001b[0m\u001b[0;34m,\u001b[0m\u001b[0;36m250\u001b[0m\u001b[0;34m)\u001b[0m\u001b[0;34m)\u001b[0m\u001b[0;34m\u001b[0m\u001b[0;34m\u001b[0m\u001b[0m\n\u001b[1;32m      6\u001b[0m   \u001b[0;31m#for name in test_set.class_indices:\u001b[0m\u001b[0;34m\u001b[0m\u001b[0;34m\u001b[0m\u001b[0;34m\u001b[0m\u001b[0m\n",
            "\u001b[0;32m/usr/local/lib/python3.6/dist-packages/numpy/core/_methods.py\u001b[0m in \u001b[0;36m_amax\u001b[0;34m(a, axis, out, keepdims, initial)\u001b[0m\n\u001b[1;32m     26\u001b[0m def _amax(a, axis=None, out=None, keepdims=False,\n\u001b[1;32m     27\u001b[0m           initial=_NoValue):\n\u001b[0;32m---> 28\u001b[0;31m     \u001b[0;32mreturn\u001b[0m \u001b[0mumr_maximum\u001b[0m\u001b[0;34m(\u001b[0m\u001b[0ma\u001b[0m\u001b[0;34m,\u001b[0m \u001b[0maxis\u001b[0m\u001b[0;34m,\u001b[0m \u001b[0;32mNone\u001b[0m\u001b[0;34m,\u001b[0m \u001b[0mout\u001b[0m\u001b[0;34m,\u001b[0m \u001b[0mkeepdims\u001b[0m\u001b[0;34m,\u001b[0m \u001b[0minitial\u001b[0m\u001b[0;34m)\u001b[0m\u001b[0;34m\u001b[0m\u001b[0;34m\u001b[0m\u001b[0m\n\u001b[0m\u001b[1;32m     29\u001b[0m \u001b[0;34m\u001b[0m\u001b[0m\n\u001b[1;32m     30\u001b[0m def _amin(a, axis=None, out=None, keepdims=False,\n",
            "\u001b[0;31mTypeError\u001b[0m: 'dict' object cannot be interpreted as an integer"
          ]
        },
        {
          "output_type": "display_data",
          "data": {
            "image/png": "[encoded data removed]",
            "text/plain": [
              "<Figure size 14400x7200 with 1 Axes>"
            ]
          },
          "metadata": {
            "tags": []
          }
        }
      ]
    },
    {
      "cell_type": "code",
      "metadata": {
        "id": "mgszMeH-oDtx",
        "colab_type": "code",
        "colab": {
          "base_uri": "https://localhost:8080/",
          "height": 34
        },
        "outputId": "1e6c036a-4063-4f53-c786-d7e6a8f9c6ca"
      },
      "source": [
        "type(test_set.class_indices)"
      ],
      "execution_count": 213,
      "outputs": [
        {
          "output_type": "execute_result",
          "data": {
            "text/plain": [
              "dict"
            ]
          },
          "metadata": {
            "tags": []
          },
          "execution_count": 213
        }
      ]
    },
    {
      "cell_type": "code",
      "metadata": {
        "id": "TVq5fjNBgLZr",
        "colab_type": "code",
        "colab": {}
      },
      "source": [
        "img_ancho = 250\n",
        "img_alto = 300\n",
        "\n",
        "for category in categories_test:\n",
        "    path = os.path.join(DataDir_test, category)\n",
        "    for img in os.listdir(path):\n",
        "        img_array = cv2.imread(os.path.join(path,img), cv2.IMREAD_GRAYSCALE)\n",
        "        new_array =cv2.resize(img_array, (img_ancho, img_alto))\n",
        "        plt.imshow(new_array, cmap ='gray')\n",
        "        plt.show"
      ],
      "execution_count": 0,
      "outputs": []
    },
    {
      "cell_type": "markdown",
      "metadata": {
        "id": "ILEjp-gGn5M3",
        "colab_type": "text"
      },
      "source": [
        "# from google.cloud import vision\n"
      ]
    },
    {
      "cell_type": "code",
      "metadata": {
        "id": "tDWPMvrqn5M5",
        "colab_type": "code",
        "colab": {}
      },
      "source": [
        "def detect_labels(path):\n",
        "    \"\"\"Detects labels in the file.\"\"\"\n",
        "    from google.cloud import vision\n",
        "    client = vision.ImageAnnotatorClient()\n",
        "\n",
        "    with io.open(path, 'rb') as image_file:\n",
        "        content = image_file.read()\n",
        "\n",
        "    image = vision.types.Image(content=content)\n",
        "\n",
        "    response = client.label_detection(image=image)\n",
        "    labels = response.label_annotations\n",
        "    print('Labels:')\n",
        "\n",
        "    for label in labels:\n",
        "        print(label.description)"
      ],
      "execution_count": 0,
      "outputs": []
    },
    {
      "cell_type": "code",
      "metadata": {
        "id": "BCWJQeCQn5M_",
        "colab_type": "code",
        "colab": {}
      },
      "source": [
        "cap = cv2.VideoCapture(0)\n",
        "\n",
        "while True:\n",
        "    ret, frame = cap.read()\n",
        "    gray = cv2.cvtColor(frame, cv2.COLOR_BGR2GRAY)\n",
        "    cv2.imshow('my_webcam_gray', gray)\n",
        "    #cv2.imshow('my_webcam_original', frame)\n",
        "    \n",
        "    if cv2.waitKey(1) & 0xFF == ord('q'):\n",
        "        break\n",
        "\n",
        "cap.release()\n",
        "cv2.destroyAllWindows()"
      ],
      "execution_count": 0,
      "outputs": []
    },
    {
      "cell_type": "code",
      "metadata": {
        "id": "ZotjogoNn5NC",
        "colab_type": "code",
        "colab": {}
      },
      "source": [
        ""
      ],
      "execution_count": 0,
      "outputs": []
    },
    {
      "cell_type": "code",
      "metadata": {
        "id": "qs69P7ryn5NH",
        "colab_type": "code",
        "colab": {}
      },
      "source": [
        ""
      ],
      "execution_count": 0,
      "outputs": []
    },
    {
      "cell_type": "markdown",
      "metadata": {
        "id": "pEgMz2S1n5NO",
        "colab_type": "text"
      },
      "source": [
        "# DETECTOR DE IMAGENES (google)"
      ]
    },
    {
      "cell_type": "code",
      "metadata": {
        "id": "EAUdZvBzn5NQ",
        "colab_type": "code",
        "colab": {}
      },
      "source": [
        "THRESHOLD = 0.8\n",
        "\n",
        "class_names = {0: 'background',\n",
        "              1: 'person', 2: 'bicycle', 3: 'car', 4: 'motorcycle', 5: 'airplane', 6: 'bus',\n",
        "              7: 'train', 8: 'truck', 9: 'boat', 10: 'traffic light', 11: 'fire hydrant',\n",
        "              13: 'stop sign', 14: 'parking meter', 15: 'bench', 16: 'bird', 17: 'cat',\n",
        "              18: 'dog', 19: 'horse', 20: 'sheep', 21: 'cow', 22: 'elephant', 23: 'bear',\n",
        "              24: 'zebra', 25: 'giraffe', 27: 'backpack', 28: 'umbrella', 31: 'handbag',\n",
        "              32: 'tie', 33: 'suitcase', 34: 'frisbee', 35: 'skis', 36: 'snowboard',\n",
        "              37: 'sports ball', 38: 'kite', 39: 'baseball bat', 40: 'baseball glove',\n",
        "              41: 'skateboard', 42: 'surfboard', 43: 'tennis racket', 44: 'bottle',\n",
        "              46: 'wine glass', 47: 'cup', 48: 'fork', 49: 'knife', 50: 'spoon',\n",
        "              51: 'bowl', 52: 'banana', 53: 'apple', 54: 'sandwich', 55: 'orange',\n",
        "              56: 'broccoli', 57: 'carrot', 58: 'hot dog', 59: 'pizza', 60: 'donut',\n",
        "              61: 'cake', 62: 'chair', 63: 'couch', 64: 'potted plant', 65: 'bed',\n",
        "              67: 'dining table', 70: 'toilet', 72: 'tv', 73: 'laptop', 74: 'mouse',\n",
        "              75: 'remote', 76: 'keyboard', 77: 'cell phone', 78: 'microwave', 79: 'oven',\n",
        "              80: 'toaster', 81: 'sink', 82: 'refrigerator', 84: 'book', 85: 'clock',\n",
        "              86: 'vase', 87: 'scissors', 88: 'teddy bear', 89: 'hair drier', 90: 'toothbrush'}\n",
        "\n",
        "model = cv2.dnn.readNetFromTensorflow('frozen_inference_graph.pb',\n",
        "                                      'ssd_mobilenet_v2_coco_2018_03_29.pbtxt')\n",
        "\n",
        "cap = cv2.VideoCapture(0)\n",
        "\n",
        "while True:\n",
        "    \n",
        "    ret, frame = cap.read()\n",
        "    \n",
        "    model.setInput(cv2.dnn.blobFromImage(frame, size=(300, 300), swapRB=True))\n",
        "    \n",
        "    output = model.forward()[0,0,:,:]\n",
        "    \n",
        "    for detection in output:\n",
        "        confidence = detection[2]\n",
        "        if confidence > THRESHOLD:\n",
        "            class_id = detection[1]\n",
        "            class_name = class_names[class_id]\n",
        "            # print(confidence, class_name)\n",
        "            \n",
        "            # rectangles!\n",
        "            \n",
        "            box_x=detection[3]\n",
        "            box_y=detection[4]\n",
        "            box_width=detection[5]\n",
        "            box_height=detection[6]\n",
        "            \n",
        "            height, width, ch = frame.shape\n",
        "            \n",
        "            box_x = detection[3] * width\n",
        "            box_y = detection[4] * height\n",
        "            box_width = detection[5] * width\n",
        "            box_height = detection[6] * height\n",
        "                                          \n",
        "            cv2.rectangle(frame, \n",
        "                          (int(box_x),\n",
        "                           int(box_y)),\n",
        "                          (int(box_width),\n",
        "                           int(box_height)),\n",
        "                          (0, 0, 255), \n",
        "                          thickness=2)\n",
        "            \n",
        "            cv2.putText(frame, \n",
        "                        class_name + ' ' + str(round(confidence, 2)),\n",
        "                        (int(box_x), \n",
        "                         int(box_y+.05*height)),\n",
        "                        cv2.FONT_HERSHEY_SIMPLEX,\n",
        "                        1,\n",
        "                        (0, 0, 255))\n",
        "    \n",
        "    cv2.imshow('object_detection', frame)\n",
        "    \n",
        "    if cv2.waitKey(1) & 0xFF == ord('q'):\n",
        "        break\n",
        "\n",
        "cap.release()\n",
        "cv2.destroyAllWindows()"
      ],
      "execution_count": 0,
      "outputs": []
    },
    {
      "cell_type": "code",
      "metadata": {
        "id": "koTJ3Dstn5NT",
        "colab_type": "code",
        "colab": {}
      },
      "source": [
        ""
      ],
      "execution_count": 0,
      "outputs": []
    }
  ]
}